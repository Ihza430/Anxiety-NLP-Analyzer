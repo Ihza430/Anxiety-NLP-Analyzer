{
 "cells": [
  {
   "cell_type": "markdown",
   "id": "28677946-4737-4069-9ed8-6514b740cef2",
   "metadata": {},
   "source": [
    "# Data Cleaning\n",
    "---\n",
    "The aim of this notebook is to clean the data collected from the subreddits."
   ]
  },
  {
   "cell_type": "markdown",
   "id": "8cb7dc3e-af8d-4ef4-89f1-96dcd1eced64",
   "metadata": {},
   "source": [
    "## Libraries Used\n",
    "---"
   ]
  },
  {
   "cell_type": "code",
   "execution_count": 1,
   "id": "c64b8fa6-58ad-49c2-88d8-eff3d49dc09d",
   "metadata": {},
   "outputs": [],
   "source": [
    "import numpy as np\n",
    "import pandas as pd"
   ]
  },
  {
   "cell_type": "markdown",
   "id": "ecef6a32-cca4-4399-9cbf-dbb790a8050a",
   "metadata": {},
   "source": [
    "## Import Data\n",
    "---"
   ]
  },
  {
   "cell_type": "code",
   "execution_count": 2,
   "id": "25c7e4c2-be06-4aa1-ad93-32cfdfbdd6fd",
   "metadata": {},
   "outputs": [],
   "source": [
    "anx = pd.read_csv('../../../data/original/anxiety_submissions.csv')\n",
    "writ = pd.read_csv('../../../data/original/writing_submissions.csv')"
   ]
  },
  {
   "cell_type": "markdown",
   "id": "d648cf9c-e975-43da-90c8-c36ac1afcf07",
   "metadata": {},
   "source": [
    "## Clean Anxiety Data\n",
    "---"
   ]
  },
  {
   "cell_type": "code",
   "execution_count": 3,
   "id": "153a5bc3-bd90-4c0c-a5ad-2ceebf1dbe1e",
   "metadata": {},
   "outputs": [
    {
     "data": {
      "text/html": [
       "<div>\n",
       "<style scoped>\n",
       "    .dataframe tbody tr th:only-of-type {\n",
       "        vertical-align: middle;\n",
       "    }\n",
       "\n",
       "    .dataframe tbody tr th {\n",
       "        vertical-align: top;\n",
       "    }\n",
       "\n",
       "    .dataframe thead th {\n",
       "        text-align: right;\n",
       "    }\n",
       "</style>\n",
       "<table border=\"1\" class=\"dataframe\">\n",
       "  <thead>\n",
       "    <tr style=\"text-align: right;\">\n",
       "      <th></th>\n",
       "      <th>all_awardings</th>\n",
       "      <th>allow_live_comments</th>\n",
       "      <th>author</th>\n",
       "      <th>author_flair_css_class</th>\n",
       "      <th>author_flair_richtext</th>\n",
       "      <th>author_flair_text</th>\n",
       "      <th>author_flair_type</th>\n",
       "      <th>author_fullname</th>\n",
       "      <th>author_patreon_flair</th>\n",
       "      <th>author_premium</th>\n",
       "      <th>...</th>\n",
       "      <th>removed_by_category</th>\n",
       "      <th>author_flair_template_id</th>\n",
       "      <th>author_flair_text_color</th>\n",
       "      <th>author_flair_background_color</th>\n",
       "      <th>edited</th>\n",
       "      <th>author_cakeday</th>\n",
       "      <th>is_created_from_ads_ui</th>\n",
       "      <th>author_is_blocked</th>\n",
       "      <th>distinguished</th>\n",
       "      <th>banned_by</th>\n",
       "    </tr>\n",
       "  </thead>\n",
       "  <tbody>\n",
       "    <tr>\n",
       "      <th>0</th>\n",
       "      <td>[]</td>\n",
       "      <td>False</td>\n",
       "      <td>JackW357</td>\n",
       "      <td>NaN</td>\n",
       "      <td>[]</td>\n",
       "      <td>NaN</td>\n",
       "      <td>text</td>\n",
       "      <td>t2_86tvd1p6</td>\n",
       "      <td>False</td>\n",
       "      <td>False</td>\n",
       "      <td>...</td>\n",
       "      <td>NaN</td>\n",
       "      <td>NaN</td>\n",
       "      <td>NaN</td>\n",
       "      <td>NaN</td>\n",
       "      <td>NaN</td>\n",
       "      <td>NaN</td>\n",
       "      <td>NaN</td>\n",
       "      <td>NaN</td>\n",
       "      <td>NaN</td>\n",
       "      <td>NaN</td>\n",
       "    </tr>\n",
       "    <tr>\n",
       "      <th>1</th>\n",
       "      <td>[]</td>\n",
       "      <td>False</td>\n",
       "      <td>belladoll1021</td>\n",
       "      <td>NaN</td>\n",
       "      <td>[]</td>\n",
       "      <td>NaN</td>\n",
       "      <td>text</td>\n",
       "      <td>t2_3imzzz6p</td>\n",
       "      <td>False</td>\n",
       "      <td>False</td>\n",
       "      <td>...</td>\n",
       "      <td>NaN</td>\n",
       "      <td>NaN</td>\n",
       "      <td>NaN</td>\n",
       "      <td>NaN</td>\n",
       "      <td>NaN</td>\n",
       "      <td>NaN</td>\n",
       "      <td>NaN</td>\n",
       "      <td>NaN</td>\n",
       "      <td>NaN</td>\n",
       "      <td>NaN</td>\n",
       "    </tr>\n",
       "    <tr>\n",
       "      <th>2</th>\n",
       "      <td>[]</td>\n",
       "      <td>False</td>\n",
       "      <td>ashwinderegg</td>\n",
       "      <td>NaN</td>\n",
       "      <td>[]</td>\n",
       "      <td>NaN</td>\n",
       "      <td>text</td>\n",
       "      <td>t2_3o3tfuf3</td>\n",
       "      <td>False</td>\n",
       "      <td>False</td>\n",
       "      <td>...</td>\n",
       "      <td>NaN</td>\n",
       "      <td>NaN</td>\n",
       "      <td>NaN</td>\n",
       "      <td>NaN</td>\n",
       "      <td>NaN</td>\n",
       "      <td>NaN</td>\n",
       "      <td>NaN</td>\n",
       "      <td>NaN</td>\n",
       "      <td>NaN</td>\n",
       "      <td>NaN</td>\n",
       "    </tr>\n",
       "    <tr>\n",
       "      <th>3</th>\n",
       "      <td>[]</td>\n",
       "      <td>False</td>\n",
       "      <td>ashwinderegg</td>\n",
       "      <td>NaN</td>\n",
       "      <td>[]</td>\n",
       "      <td>NaN</td>\n",
       "      <td>text</td>\n",
       "      <td>t2_3o3tfuf3</td>\n",
       "      <td>False</td>\n",
       "      <td>False</td>\n",
       "      <td>...</td>\n",
       "      <td>NaN</td>\n",
       "      <td>NaN</td>\n",
       "      <td>NaN</td>\n",
       "      <td>NaN</td>\n",
       "      <td>NaN</td>\n",
       "      <td>NaN</td>\n",
       "      <td>NaN</td>\n",
       "      <td>NaN</td>\n",
       "      <td>NaN</td>\n",
       "      <td>NaN</td>\n",
       "    </tr>\n",
       "    <tr>\n",
       "      <th>4</th>\n",
       "      <td>[]</td>\n",
       "      <td>False</td>\n",
       "      <td>lachapoxxx</td>\n",
       "      <td>NaN</td>\n",
       "      <td>[]</td>\n",
       "      <td>NaN</td>\n",
       "      <td>text</td>\n",
       "      <td>t2_93gbsj7i</td>\n",
       "      <td>False</td>\n",
       "      <td>False</td>\n",
       "      <td>...</td>\n",
       "      <td>NaN</td>\n",
       "      <td>NaN</td>\n",
       "      <td>NaN</td>\n",
       "      <td>NaN</td>\n",
       "      <td>NaN</td>\n",
       "      <td>NaN</td>\n",
       "      <td>NaN</td>\n",
       "      <td>NaN</td>\n",
       "      <td>NaN</td>\n",
       "      <td>NaN</td>\n",
       "    </tr>\n",
       "  </tbody>\n",
       "</table>\n",
       "<p>5 rows × 72 columns</p>\n",
       "</div>"
      ],
      "text/plain": [
       "  all_awardings  allow_live_comments         author author_flair_css_class  \\\n",
       "0            []                False       JackW357                    NaN   \n",
       "1            []                False  belladoll1021                    NaN   \n",
       "2            []                False   ashwinderegg                    NaN   \n",
       "3            []                False   ashwinderegg                    NaN   \n",
       "4            []                False     lachapoxxx                    NaN   \n",
       "\n",
       "  author_flair_richtext author_flair_text author_flair_type author_fullname  \\\n",
       "0                    []               NaN              text     t2_86tvd1p6   \n",
       "1                    []               NaN              text     t2_3imzzz6p   \n",
       "2                    []               NaN              text     t2_3o3tfuf3   \n",
       "3                    []               NaN              text     t2_3o3tfuf3   \n",
       "4                    []               NaN              text     t2_93gbsj7i   \n",
       "\n",
       "  author_patreon_flair author_premium  ... removed_by_category  \\\n",
       "0                False          False  ...                 NaN   \n",
       "1                False          False  ...                 NaN   \n",
       "2                False          False  ...                 NaN   \n",
       "3                False          False  ...                 NaN   \n",
       "4                False          False  ...                 NaN   \n",
       "\n",
       "   author_flair_template_id  author_flair_text_color  \\\n",
       "0                       NaN                      NaN   \n",
       "1                       NaN                      NaN   \n",
       "2                       NaN                      NaN   \n",
       "3                       NaN                      NaN   \n",
       "4                       NaN                      NaN   \n",
       "\n",
       "   author_flair_background_color edited author_cakeday is_created_from_ads_ui  \\\n",
       "0                            NaN    NaN            NaN                    NaN   \n",
       "1                            NaN    NaN            NaN                    NaN   \n",
       "2                            NaN    NaN            NaN                    NaN   \n",
       "3                            NaN    NaN            NaN                    NaN   \n",
       "4                            NaN    NaN            NaN                    NaN   \n",
       "\n",
       "  author_is_blocked  distinguished  banned_by  \n",
       "0               NaN            NaN        NaN  \n",
       "1               NaN            NaN        NaN  \n",
       "2               NaN            NaN        NaN  \n",
       "3               NaN            NaN        NaN  \n",
       "4               NaN            NaN        NaN  \n",
       "\n",
       "[5 rows x 72 columns]"
      ]
     },
     "execution_count": 3,
     "metadata": {},
     "output_type": "execute_result"
    }
   ],
   "source": [
    "anx.head()"
   ]
  },
  {
   "cell_type": "code",
   "execution_count": 4,
   "id": "f5c2c6cb-abb5-431b-92ce-31492b46cfcb",
   "metadata": {},
   "outputs": [],
   "source": [
    "anx = anx[['author', 'link_flair_text', 'num_comments', 'subreddit', 'selftext', 'title', 'created_utc']]"
   ]
  },
  {
   "cell_type": "code",
   "execution_count": 5,
   "id": "ef99fd38-5daf-4478-8f64-f3348c92a7e0",
   "metadata": {},
   "outputs": [
    {
     "data": {
      "text/plain": [
       "author               0\n",
       "link_flair_text    513\n",
       "num_comments         0\n",
       "subreddit            0\n",
       "selftext            96\n",
       "title                0\n",
       "created_utc          0\n",
       "dtype: int64"
      ]
     },
     "execution_count": 5,
     "metadata": {},
     "output_type": "execute_result"
    }
   ],
   "source": [
    "anx.isnull().sum()"
   ]
  },
  {
   "cell_type": "code",
   "execution_count": 6,
   "id": "706654e7-01f3-49c4-8865-c55061817d0b",
   "metadata": {},
   "outputs": [
    {
     "data": {
      "text/plain": [
       "author             0\n",
       "link_flair_text    0\n",
       "num_comments       0\n",
       "subreddit          0\n",
       "selftext           0\n",
       "title              0\n",
       "created_utc        0\n",
       "dtype: int64"
      ]
     },
     "execution_count": 6,
     "metadata": {},
     "output_type": "execute_result"
    }
   ],
   "source": [
    "anx.fillna(' ', inplace = True)\n",
    "anx.isnull().sum()"
   ]
  },
  {
   "cell_type": "code",
   "execution_count": 7,
   "id": "7b5c3a30-cc02-4dfb-95dc-7b2d1ce4cece",
   "metadata": {},
   "outputs": [
    {
     "data": {
      "text/plain": [
       "author             92\n",
       "link_flair_text    92\n",
       "num_comments       92\n",
       "subreddit          92\n",
       "selftext           92\n",
       "title              92\n",
       "created_utc        92\n",
       "dtype: int64"
      ]
     },
     "execution_count": 7,
     "metadata": {},
     "output_type": "execute_result"
    }
   ],
   "source": [
    "anx[anx['selftext'] == '[removed]'].count()"
   ]
  },
  {
   "cell_type": "code",
   "execution_count": 8,
   "id": "7f3314e6-8907-4f3e-b558-1288d2739c89",
   "metadata": {},
   "outputs": [
    {
     "data": {
      "text/plain": [
       "author             40\n",
       "link_flair_text    40\n",
       "num_comments       40\n",
       "subreddit          40\n",
       "selftext           40\n",
       "title              40\n",
       "created_utc        40\n",
       "dtype: int64"
      ]
     },
     "execution_count": 8,
     "metadata": {},
     "output_type": "execute_result"
    }
   ],
   "source": [
    "anx[anx['selftext'] == '[deleted]'].count()"
   ]
  },
  {
   "cell_type": "code",
   "execution_count": 9,
   "id": "7cb716f1-5ffe-4406-8dab-5ae0520f9f77",
   "metadata": {},
   "outputs": [],
   "source": [
    "anx.replace({'[removed]':' ', '[deleted]':' '}, inplace = True)"
   ]
  },
  {
   "cell_type": "code",
   "execution_count": 10,
   "id": "3262f0a1-5c00-4fc3-92b5-ba6825af9b0f",
   "metadata": {},
   "outputs": [],
   "source": [
    "anx['text'] = anx['title'] + ' ' + anx['selftext']"
   ]
  },
  {
   "cell_type": "code",
   "execution_count": 11,
   "id": "64851b3a-7aaf-4575-877e-f736993e66b9",
   "metadata": {},
   "outputs": [
    {
     "data": {
      "text/html": [
       "<div>\n",
       "<style scoped>\n",
       "    .dataframe tbody tr th:only-of-type {\n",
       "        vertical-align: middle;\n",
       "    }\n",
       "\n",
       "    .dataframe tbody tr th {\n",
       "        vertical-align: top;\n",
       "    }\n",
       "\n",
       "    .dataframe thead th {\n",
       "        text-align: right;\n",
       "    }\n",
       "</style>\n",
       "<table border=\"1\" class=\"dataframe\">\n",
       "  <thead>\n",
       "    <tr style=\"text-align: right;\">\n",
       "      <th></th>\n",
       "      <th>author</th>\n",
       "      <th>link_flair_text</th>\n",
       "      <th>num_comments</th>\n",
       "      <th>subreddit</th>\n",
       "      <th>selftext</th>\n",
       "      <th>title</th>\n",
       "      <th>created_utc</th>\n",
       "      <th>text</th>\n",
       "    </tr>\n",
       "  </thead>\n",
       "  <tbody>\n",
       "    <tr>\n",
       "      <th>0</th>\n",
       "      <td>JackW357</td>\n",
       "      <td>DAE Questions</td>\n",
       "      <td>9</td>\n",
       "      <td>Anxiety</td>\n",
       "      <td></td>\n",
       "      <td>Anyone else scared of dying and scared of when...</td>\n",
       "      <td>1606687976</td>\n",
       "      <td>Anyone else scared of dying and scared of when...</td>\n",
       "    </tr>\n",
       "    <tr>\n",
       "      <th>1</th>\n",
       "      <td>belladoll1021</td>\n",
       "      <td>Health</td>\n",
       "      <td>1</td>\n",
       "      <td>Anxiety</td>\n",
       "      <td>Can a tight throat and gagging feeling be anxi...</td>\n",
       "      <td>Tight throat</td>\n",
       "      <td>1606687615</td>\n",
       "      <td>Tight throat Can a tight throat and gagging fe...</td>\n",
       "    </tr>\n",
       "    <tr>\n",
       "      <th>2</th>\n",
       "      <td>ashwinderegg</td>\n",
       "      <td>Advice Needed</td>\n",
       "      <td>3</td>\n",
       "      <td>Anxiety</td>\n",
       "      <td>Does anyone else feel like they can no longer ...</td>\n",
       "      <td>Anxiety overriding my intuition.</td>\n",
       "      <td>1606687588</td>\n",
       "      <td>Anxiety overriding my intuition. Does anyone e...</td>\n",
       "    </tr>\n",
       "  </tbody>\n",
       "</table>\n",
       "</div>"
      ],
      "text/plain": [
       "          author link_flair_text  num_comments subreddit  \\\n",
       "0       JackW357   DAE Questions             9   Anxiety   \n",
       "1  belladoll1021          Health             1   Anxiety   \n",
       "2   ashwinderegg   Advice Needed             3   Anxiety   \n",
       "\n",
       "                                            selftext  \\\n",
       "0                                                      \n",
       "1  Can a tight throat and gagging feeling be anxi...   \n",
       "2  Does anyone else feel like they can no longer ...   \n",
       "\n",
       "                                               title  created_utc  \\\n",
       "0  Anyone else scared of dying and scared of when...   1606687976   \n",
       "1                                       Tight throat   1606687615   \n",
       "2                   Anxiety overriding my intuition.   1606687588   \n",
       "\n",
       "                                                text  \n",
       "0  Anyone else scared of dying and scared of when...  \n",
       "1  Tight throat Can a tight throat and gagging fe...  \n",
       "2  Anxiety overriding my intuition. Does anyone e...  "
      ]
     },
     "execution_count": 11,
     "metadata": {},
     "output_type": "execute_result"
    }
   ],
   "source": [
    "anx.head(3)"
   ]
  },
  {
   "cell_type": "code",
   "execution_count": 12,
   "id": "0889d103-237f-4948-a32a-0b56339387a8",
   "metadata": {},
   "outputs": [],
   "source": [
    "anx.drop(columns = ['selftext', 'title'], inplace = True)"
   ]
  },
  {
   "cell_type": "code",
   "execution_count": 13,
   "id": "88b361a5-be98-48d9-abfe-8703603a0d11",
   "metadata": {},
   "outputs": [],
   "source": [
    "anx.to_csv('../../../data/clean/anx_clean.csv')"
   ]
  },
  {
   "cell_type": "markdown",
   "id": "b29442a3-bac5-4064-953e-161acfe2b625",
   "metadata": {},
   "source": [
    "## Clean Writing (Control) Data\n",
    "---"
   ]
  },
  {
   "cell_type": "code",
   "execution_count": 14,
   "id": "2410cc56-4560-4ad1-8d82-81a7172f7459",
   "metadata": {},
   "outputs": [
    {
     "data": {
      "text/html": [
       "<div>\n",
       "<style scoped>\n",
       "    .dataframe tbody tr th:only-of-type {\n",
       "        vertical-align: middle;\n",
       "    }\n",
       "\n",
       "    .dataframe tbody tr th {\n",
       "        vertical-align: top;\n",
       "    }\n",
       "\n",
       "    .dataframe thead th {\n",
       "        text-align: right;\n",
       "    }\n",
       "</style>\n",
       "<table border=\"1\" class=\"dataframe\">\n",
       "  <thead>\n",
       "    <tr style=\"text-align: right;\">\n",
       "      <th></th>\n",
       "      <th>all_awardings</th>\n",
       "      <th>allow_live_comments</th>\n",
       "      <th>author</th>\n",
       "      <th>author_flair_css_class</th>\n",
       "      <th>author_flair_richtext</th>\n",
       "      <th>author_flair_text</th>\n",
       "      <th>author_flair_type</th>\n",
       "      <th>author_fullname</th>\n",
       "      <th>author_patreon_flair</th>\n",
       "      <th>author_premium</th>\n",
       "      <th>...</th>\n",
       "      <th>distinguished</th>\n",
       "      <th>media</th>\n",
       "      <th>media_embed</th>\n",
       "      <th>secure_media</th>\n",
       "      <th>secure_media_embed</th>\n",
       "      <th>author_flair_background_color</th>\n",
       "      <th>edited</th>\n",
       "      <th>banned_by</th>\n",
       "      <th>is_created_from_ads_ui</th>\n",
       "      <th>author_is_blocked</th>\n",
       "    </tr>\n",
       "  </thead>\n",
       "  <tbody>\n",
       "    <tr>\n",
       "      <th>0</th>\n",
       "      <td>[]</td>\n",
       "      <td>False</td>\n",
       "      <td>Yersenie</td>\n",
       "      <td>NaN</td>\n",
       "      <td>[]</td>\n",
       "      <td>NaN</td>\n",
       "      <td>text</td>\n",
       "      <td>t2_9jnd5n8o</td>\n",
       "      <td>False</td>\n",
       "      <td>False</td>\n",
       "      <td>...</td>\n",
       "      <td>NaN</td>\n",
       "      <td>NaN</td>\n",
       "      <td>NaN</td>\n",
       "      <td>NaN</td>\n",
       "      <td>NaN</td>\n",
       "      <td>NaN</td>\n",
       "      <td>NaN</td>\n",
       "      <td>NaN</td>\n",
       "      <td>NaN</td>\n",
       "      <td>NaN</td>\n",
       "    </tr>\n",
       "    <tr>\n",
       "      <th>1</th>\n",
       "      <td>[]</td>\n",
       "      <td>False</td>\n",
       "      <td>hoe4hob1</td>\n",
       "      <td>NaN</td>\n",
       "      <td>[]</td>\n",
       "      <td>NaN</td>\n",
       "      <td>text</td>\n",
       "      <td>t2_8wg687lh</td>\n",
       "      <td>False</td>\n",
       "      <td>False</td>\n",
       "      <td>...</td>\n",
       "      <td>NaN</td>\n",
       "      <td>NaN</td>\n",
       "      <td>NaN</td>\n",
       "      <td>NaN</td>\n",
       "      <td>NaN</td>\n",
       "      <td>NaN</td>\n",
       "      <td>NaN</td>\n",
       "      <td>NaN</td>\n",
       "      <td>NaN</td>\n",
       "      <td>NaN</td>\n",
       "    </tr>\n",
       "    <tr>\n",
       "      <th>2</th>\n",
       "      <td>[]</td>\n",
       "      <td>False</td>\n",
       "      <td>Pagliacci_Baby</td>\n",
       "      <td>NaN</td>\n",
       "      <td>[]</td>\n",
       "      <td>NaN</td>\n",
       "      <td>text</td>\n",
       "      <td>t2_7d3owwgj</td>\n",
       "      <td>False</td>\n",
       "      <td>False</td>\n",
       "      <td>...</td>\n",
       "      <td>NaN</td>\n",
       "      <td>NaN</td>\n",
       "      <td>NaN</td>\n",
       "      <td>NaN</td>\n",
       "      <td>NaN</td>\n",
       "      <td>NaN</td>\n",
       "      <td>NaN</td>\n",
       "      <td>NaN</td>\n",
       "      <td>NaN</td>\n",
       "      <td>NaN</td>\n",
       "    </tr>\n",
       "    <tr>\n",
       "      <th>3</th>\n",
       "      <td>[]</td>\n",
       "      <td>False</td>\n",
       "      <td>Jp_web_agency</td>\n",
       "      <td>NaN</td>\n",
       "      <td>[]</td>\n",
       "      <td>NaN</td>\n",
       "      <td>text</td>\n",
       "      <td>t2_7tw9syp3</td>\n",
       "      <td>False</td>\n",
       "      <td>False</td>\n",
       "      <td>...</td>\n",
       "      <td>NaN</td>\n",
       "      <td>NaN</td>\n",
       "      <td>NaN</td>\n",
       "      <td>NaN</td>\n",
       "      <td>NaN</td>\n",
       "      <td>NaN</td>\n",
       "      <td>NaN</td>\n",
       "      <td>NaN</td>\n",
       "      <td>NaN</td>\n",
       "      <td>NaN</td>\n",
       "    </tr>\n",
       "    <tr>\n",
       "      <th>4</th>\n",
       "      <td>[]</td>\n",
       "      <td>False</td>\n",
       "      <td>Jp_web_agency</td>\n",
       "      <td>NaN</td>\n",
       "      <td>[]</td>\n",
       "      <td>NaN</td>\n",
       "      <td>text</td>\n",
       "      <td>t2_7tw9syp3</td>\n",
       "      <td>False</td>\n",
       "      <td>False</td>\n",
       "      <td>...</td>\n",
       "      <td>NaN</td>\n",
       "      <td>NaN</td>\n",
       "      <td>NaN</td>\n",
       "      <td>NaN</td>\n",
       "      <td>NaN</td>\n",
       "      <td>NaN</td>\n",
       "      <td>NaN</td>\n",
       "      <td>NaN</td>\n",
       "      <td>NaN</td>\n",
       "      <td>NaN</td>\n",
       "    </tr>\n",
       "  </tbody>\n",
       "</table>\n",
       "<p>5 rows × 81 columns</p>\n",
       "</div>"
      ],
      "text/plain": [
       "  all_awardings  allow_live_comments          author author_flair_css_class  \\\n",
       "0            []                False        Yersenie                    NaN   \n",
       "1            []                False        hoe4hob1                    NaN   \n",
       "2            []                False  Pagliacci_Baby                    NaN   \n",
       "3            []                False   Jp_web_agency                    NaN   \n",
       "4            []                False   Jp_web_agency                    NaN   \n",
       "\n",
       "  author_flair_richtext author_flair_text author_flair_type author_fullname  \\\n",
       "0                    []               NaN              text     t2_9jnd5n8o   \n",
       "1                    []               NaN              text     t2_8wg687lh   \n",
       "2                    []               NaN              text     t2_7d3owwgj   \n",
       "3                    []               NaN              text     t2_7tw9syp3   \n",
       "4                    []               NaN              text     t2_7tw9syp3   \n",
       "\n",
       "  author_patreon_flair author_premium  ... distinguished  media  media_embed  \\\n",
       "0                False          False  ...           NaN    NaN          NaN   \n",
       "1                False          False  ...           NaN    NaN          NaN   \n",
       "2                False          False  ...           NaN    NaN          NaN   \n",
       "3                False          False  ...           NaN    NaN          NaN   \n",
       "4                False          False  ...           NaN    NaN          NaN   \n",
       "\n",
       "   secure_media secure_media_embed author_flair_background_color edited  \\\n",
       "0           NaN                NaN                           NaN    NaN   \n",
       "1           NaN                NaN                           NaN    NaN   \n",
       "2           NaN                NaN                           NaN    NaN   \n",
       "3           NaN                NaN                           NaN    NaN   \n",
       "4           NaN                NaN                           NaN    NaN   \n",
       "\n",
       "  banned_by  is_created_from_ads_ui  author_is_blocked  \n",
       "0       NaN                     NaN                NaN  \n",
       "1       NaN                     NaN                NaN  \n",
       "2       NaN                     NaN                NaN  \n",
       "3       NaN                     NaN                NaN  \n",
       "4       NaN                     NaN                NaN  \n",
       "\n",
       "[5 rows x 81 columns]"
      ]
     },
     "execution_count": 14,
     "metadata": {},
     "output_type": "execute_result"
    }
   ],
   "source": [
    "writ.head()"
   ]
  },
  {
   "cell_type": "code",
   "execution_count": 15,
   "id": "e8fab4d8-65da-4362-a546-7af1f04188dc",
   "metadata": {},
   "outputs": [
    {
     "data": {
      "text/html": [
       "<div>\n",
       "<style scoped>\n",
       "    .dataframe tbody tr th:only-of-type {\n",
       "        vertical-align: middle;\n",
       "    }\n",
       "\n",
       "    .dataframe tbody tr th {\n",
       "        vertical-align: top;\n",
       "    }\n",
       "\n",
       "    .dataframe thead th {\n",
       "        text-align: right;\n",
       "    }\n",
       "</style>\n",
       "<table border=\"1\" class=\"dataframe\">\n",
       "  <thead>\n",
       "    <tr style=\"text-align: right;\">\n",
       "      <th></th>\n",
       "      <th>author</th>\n",
       "      <th>link_flair_text</th>\n",
       "      <th>num_comments</th>\n",
       "      <th>subreddit</th>\n",
       "      <th>selftext</th>\n",
       "      <th>title</th>\n",
       "      <th>created_utc</th>\n",
       "    </tr>\n",
       "  </thead>\n",
       "  <tbody>\n",
       "    <tr>\n",
       "      <th>0</th>\n",
       "      <td>Yersenie</td>\n",
       "      <td>NaN</td>\n",
       "      <td>2</td>\n",
       "      <td>writing</td>\n",
       "      <td>[removed]</td>\n",
       "      <td>Jj</td>\n",
       "      <td>1609841667</td>\n",
       "    </tr>\n",
       "    <tr>\n",
       "      <th>1</th>\n",
       "      <td>hoe4hob1</td>\n",
       "      <td>Discussion</td>\n",
       "      <td>0</td>\n",
       "      <td>writing</td>\n",
       "      <td>[removed]</td>\n",
       "      <td>My character dresses in gender neutral clothin...</td>\n",
       "      <td>1609840909</td>\n",
       "    </tr>\n",
       "    <tr>\n",
       "      <th>2</th>\n",
       "      <td>Pagliacci_Baby</td>\n",
       "      <td>NaN</td>\n",
       "      <td>2</td>\n",
       "      <td>writing</td>\n",
       "      <td>[removed]</td>\n",
       "      <td>Between The Lakes: Critique requested</td>\n",
       "      <td>1609840879</td>\n",
       "    </tr>\n",
       "    <tr>\n",
       "      <th>3</th>\n",
       "      <td>Jp_web_agency</td>\n",
       "      <td>NaN</td>\n",
       "      <td>2</td>\n",
       "      <td>writing</td>\n",
       "      <td>NaN</td>\n",
       "      <td>Skills needed to make your resume stand out</td>\n",
       "      <td>1609840727</td>\n",
       "    </tr>\n",
       "    <tr>\n",
       "      <th>4</th>\n",
       "      <td>Jp_web_agency</td>\n",
       "      <td>NaN</td>\n",
       "      <td>2</td>\n",
       "      <td>writing</td>\n",
       "      <td>NaN</td>\n",
       "      <td>Skills needed to make your resume stand out</td>\n",
       "      <td>1609840696</td>\n",
       "    </tr>\n",
       "  </tbody>\n",
       "</table>\n",
       "</div>"
      ],
      "text/plain": [
       "           author link_flair_text  num_comments subreddit   selftext  \\\n",
       "0        Yersenie             NaN             2   writing  [removed]   \n",
       "1        hoe4hob1      Discussion             0   writing  [removed]   \n",
       "2  Pagliacci_Baby             NaN             2   writing  [removed]   \n",
       "3   Jp_web_agency             NaN             2   writing        NaN   \n",
       "4   Jp_web_agency             NaN             2   writing        NaN   \n",
       "\n",
       "                                               title  created_utc  \n",
       "0                                                 Jj   1609841667  \n",
       "1  My character dresses in gender neutral clothin...   1609840909  \n",
       "2              Between The Lakes: Critique requested   1609840879  \n",
       "3        Skills needed to make your resume stand out   1609840727  \n",
       "4        Skills needed to make your resume stand out   1609840696  "
      ]
     },
     "execution_count": 15,
     "metadata": {},
     "output_type": "execute_result"
    }
   ],
   "source": [
    "writ = writ[['author', 'link_flair_text', 'num_comments', 'subreddit', 'selftext', 'title', 'created_utc']]\n",
    "writ.head()"
   ]
  },
  {
   "cell_type": "code",
   "execution_count": 16,
   "id": "3bbd6bb9-eddc-405d-9faf-8fedcefdecbb",
   "metadata": {},
   "outputs": [
    {
     "data": {
      "text/plain": [
       "author                0\n",
       "link_flair_text    1440\n",
       "num_comments          0\n",
       "subreddit             0\n",
       "selftext            226\n",
       "title                 0\n",
       "created_utc           0\n",
       "dtype: int64"
      ]
     },
     "execution_count": 16,
     "metadata": {},
     "output_type": "execute_result"
    }
   ],
   "source": [
    "writ.isnull().sum()"
   ]
  },
  {
   "cell_type": "code",
   "execution_count": 17,
   "id": "0f610e0d-4e35-4ae6-9ead-ead6de09413f",
   "metadata": {},
   "outputs": [
    {
     "data": {
      "text/plain": [
       "author             0\n",
       "link_flair_text    0\n",
       "num_comments       0\n",
       "subreddit          0\n",
       "selftext           0\n",
       "title              0\n",
       "created_utc        0\n",
       "dtype: int64"
      ]
     },
     "execution_count": 17,
     "metadata": {},
     "output_type": "execute_result"
    }
   ],
   "source": [
    "writ.fillna(' ', inplace = True)\n",
    "writ.isnull().sum()"
   ]
  },
  {
   "cell_type": "code",
   "execution_count": 18,
   "id": "540bdacc-336a-47d1-9906-da8d4a72dd1b",
   "metadata": {},
   "outputs": [
    {
     "data": {
      "text/plain": [
       "author             857\n",
       "link_flair_text    857\n",
       "num_comments       857\n",
       "subreddit          857\n",
       "selftext           857\n",
       "title              857\n",
       "created_utc        857\n",
       "dtype: int64"
      ]
     },
     "execution_count": 18,
     "metadata": {},
     "output_type": "execute_result"
    }
   ],
   "source": [
    "writ[writ['selftext'] == '[removed]'].count()"
   ]
  },
  {
   "cell_type": "code",
   "execution_count": 19,
   "id": "7705f8ba-09b4-4353-9935-dcfac182f362",
   "metadata": {},
   "outputs": [
    {
     "data": {
      "text/plain": [
       "author             16\n",
       "link_flair_text    16\n",
       "num_comments       16\n",
       "subreddit          16\n",
       "selftext           16\n",
       "title              16\n",
       "created_utc        16\n",
       "dtype: int64"
      ]
     },
     "execution_count": 19,
     "metadata": {},
     "output_type": "execute_result"
    }
   ],
   "source": [
    "writ[writ['selftext'] == '[deleted]'].count()"
   ]
  },
  {
   "cell_type": "code",
   "execution_count": 20,
   "id": "0e097cbf-f16b-45bc-a997-59b80aeffb8f",
   "metadata": {},
   "outputs": [],
   "source": [
    "writ.replace({'[removed]':' ', '[deleted]':' '}, inplace = True)"
   ]
  },
  {
   "cell_type": "code",
   "execution_count": 21,
   "id": "ae1dc4fa-badb-40aa-88ea-1a6782ff39d1",
   "metadata": {},
   "outputs": [],
   "source": [
    "writ['text'] = writ['title'] + ' ' + writ['selftext']"
   ]
  },
  {
   "cell_type": "code",
   "execution_count": 22,
   "id": "7a061bd8-cea4-40f0-815b-9db239f4a608",
   "metadata": {},
   "outputs": [
    {
     "data": {
      "text/html": [
       "<div>\n",
       "<style scoped>\n",
       "    .dataframe tbody tr th:only-of-type {\n",
       "        vertical-align: middle;\n",
       "    }\n",
       "\n",
       "    .dataframe tbody tr th {\n",
       "        vertical-align: top;\n",
       "    }\n",
       "\n",
       "    .dataframe thead th {\n",
       "        text-align: right;\n",
       "    }\n",
       "</style>\n",
       "<table border=\"1\" class=\"dataframe\">\n",
       "  <thead>\n",
       "    <tr style=\"text-align: right;\">\n",
       "      <th></th>\n",
       "      <th>author</th>\n",
       "      <th>link_flair_text</th>\n",
       "      <th>num_comments</th>\n",
       "      <th>subreddit</th>\n",
       "      <th>selftext</th>\n",
       "      <th>title</th>\n",
       "      <th>created_utc</th>\n",
       "      <th>text</th>\n",
       "    </tr>\n",
       "  </thead>\n",
       "  <tbody>\n",
       "    <tr>\n",
       "      <th>0</th>\n",
       "      <td>Yersenie</td>\n",
       "      <td></td>\n",
       "      <td>2</td>\n",
       "      <td>writing</td>\n",
       "      <td></td>\n",
       "      <td>Jj</td>\n",
       "      <td>1609841667</td>\n",
       "      <td>Jj</td>\n",
       "    </tr>\n",
       "    <tr>\n",
       "      <th>1</th>\n",
       "      <td>hoe4hob1</td>\n",
       "      <td>Discussion</td>\n",
       "      <td>0</td>\n",
       "      <td>writing</td>\n",
       "      <td></td>\n",
       "      <td>My character dresses in gender neutral clothin...</td>\n",
       "      <td>1609840909</td>\n",
       "      <td>My character dresses in gender neutral clothin...</td>\n",
       "    </tr>\n",
       "    <tr>\n",
       "      <th>2</th>\n",
       "      <td>Pagliacci_Baby</td>\n",
       "      <td></td>\n",
       "      <td>2</td>\n",
       "      <td>writing</td>\n",
       "      <td></td>\n",
       "      <td>Between The Lakes: Critique requested</td>\n",
       "      <td>1609840879</td>\n",
       "      <td>Between The Lakes: Critique requested</td>\n",
       "    </tr>\n",
       "  </tbody>\n",
       "</table>\n",
       "</div>"
      ],
      "text/plain": [
       "           author link_flair_text  num_comments subreddit selftext  \\\n",
       "0        Yersenie                             2   writing            \n",
       "1        hoe4hob1      Discussion             0   writing            \n",
       "2  Pagliacci_Baby                             2   writing            \n",
       "\n",
       "                                               title  created_utc  \\\n",
       "0                                                 Jj   1609841667   \n",
       "1  My character dresses in gender neutral clothin...   1609840909   \n",
       "2              Between The Lakes: Critique requested   1609840879   \n",
       "\n",
       "                                                text  \n",
       "0                                               Jj    \n",
       "1  My character dresses in gender neutral clothin...  \n",
       "2            Between The Lakes: Critique requested    "
      ]
     },
     "execution_count": 22,
     "metadata": {},
     "output_type": "execute_result"
    }
   ],
   "source": [
    "writ.head(3)"
   ]
  },
  {
   "cell_type": "code",
   "execution_count": 23,
   "id": "d6239f54-94a2-4d86-8be1-e141ca600f14",
   "metadata": {},
   "outputs": [],
   "source": [
    "writ.drop(columns = ['selftext', 'title'], inplace = True)"
   ]
  },
  {
   "cell_type": "code",
   "execution_count": 24,
   "id": "d31a1050-d075-4d72-965a-7d04b714efa2",
   "metadata": {},
   "outputs": [],
   "source": [
    "writ.to_csv('../../../data/clean/writing_cleaning.csv')"
   ]
  },
  {
   "cell_type": "markdown",
   "id": "ff5c4ead-24e6-4f0c-897f-55ff8a9c86b1",
   "metadata": {},
   "source": [
    "## Merge Datasets\n",
    "---"
   ]
  },
  {
   "cell_type": "code",
   "execution_count": 25,
   "id": "a9e85edb-8d3f-4115-9102-084e57e8546b",
   "metadata": {},
   "outputs": [],
   "source": [
    "df = anx.append(writ)"
   ]
  },
  {
   "cell_type": "code",
   "execution_count": 26,
   "id": "3b981889-1355-4d7d-ad6f-077af1d22fb4",
   "metadata": {},
   "outputs": [
    {
     "data": {
      "text/html": [
       "<div>\n",
       "<style scoped>\n",
       "    .dataframe tbody tr th:only-of-type {\n",
       "        vertical-align: middle;\n",
       "    }\n",
       "\n",
       "    .dataframe tbody tr th {\n",
       "        vertical-align: top;\n",
       "    }\n",
       "\n",
       "    .dataframe thead th {\n",
       "        text-align: right;\n",
       "    }\n",
       "</style>\n",
       "<table border=\"1\" class=\"dataframe\">\n",
       "  <thead>\n",
       "    <tr style=\"text-align: right;\">\n",
       "      <th></th>\n",
       "      <th>author</th>\n",
       "      <th>link_flair_text</th>\n",
       "      <th>num_comments</th>\n",
       "      <th>subreddit</th>\n",
       "      <th>created_utc</th>\n",
       "      <th>text</th>\n",
       "    </tr>\n",
       "  </thead>\n",
       "  <tbody>\n",
       "    <tr>\n",
       "      <th>0</th>\n",
       "      <td>JackW357</td>\n",
       "      <td>DAE Questions</td>\n",
       "      <td>9</td>\n",
       "      <td>Anxiety</td>\n",
       "      <td>1606687976</td>\n",
       "      <td>Anyone else scared of dying and scared of when...</td>\n",
       "    </tr>\n",
       "    <tr>\n",
       "      <th>1</th>\n",
       "      <td>belladoll1021</td>\n",
       "      <td>Health</td>\n",
       "      <td>1</td>\n",
       "      <td>Anxiety</td>\n",
       "      <td>1606687615</td>\n",
       "      <td>Tight throat Can a tight throat and gagging fe...</td>\n",
       "    </tr>\n",
       "    <tr>\n",
       "      <th>2</th>\n",
       "      <td>ashwinderegg</td>\n",
       "      <td>Advice Needed</td>\n",
       "      <td>3</td>\n",
       "      <td>Anxiety</td>\n",
       "      <td>1606687588</td>\n",
       "      <td>Anxiety overriding my intuition. Does anyone e...</td>\n",
       "    </tr>\n",
       "    <tr>\n",
       "      <th>3</th>\n",
       "      <td>ashwinderegg</td>\n",
       "      <td>Advice Needed</td>\n",
       "      <td>7</td>\n",
       "      <td>Anxiety</td>\n",
       "      <td>1606687588</td>\n",
       "      <td>Anxiety overriding my intuition. Does anyone e...</td>\n",
       "    </tr>\n",
       "    <tr>\n",
       "      <th>4</th>\n",
       "      <td>lachapoxxx</td>\n",
       "      <td>Advice Needed</td>\n",
       "      <td>1</td>\n",
       "      <td>Anxiety</td>\n",
       "      <td>1606687488</td>\n",
       "      <td>hey friends! i need some advice my anxiety has...</td>\n",
       "    </tr>\n",
       "  </tbody>\n",
       "</table>\n",
       "</div>"
      ],
      "text/plain": [
       "          author link_flair_text  num_comments subreddit  created_utc  \\\n",
       "0       JackW357   DAE Questions             9   Anxiety   1606687976   \n",
       "1  belladoll1021          Health             1   Anxiety   1606687615   \n",
       "2   ashwinderegg   Advice Needed             3   Anxiety   1606687588   \n",
       "3   ashwinderegg   Advice Needed             7   Anxiety   1606687588   \n",
       "4     lachapoxxx   Advice Needed             1   Anxiety   1606687488   \n",
       "\n",
       "                                                text  \n",
       "0  Anyone else scared of dying and scared of when...  \n",
       "1  Tight throat Can a tight throat and gagging fe...  \n",
       "2  Anxiety overriding my intuition. Does anyone e...  \n",
       "3  Anxiety overriding my intuition. Does anyone e...  \n",
       "4  hey friends! i need some advice my anxiety has...  "
      ]
     },
     "execution_count": 26,
     "metadata": {},
     "output_type": "execute_result"
    }
   ],
   "source": [
    "df.head()"
   ]
  },
  {
   "cell_type": "code",
   "execution_count": 27,
   "id": "bfb6a5a6-00bb-4a90-b795-b0d1cade75c7",
   "metadata": {},
   "outputs": [
    {
     "data": {
      "text/plain": [
       "author             0\n",
       "link_flair_text    0\n",
       "num_comments       0\n",
       "subreddit          0\n",
       "created_utc        0\n",
       "text               0\n",
       "dtype: int64"
      ]
     },
     "execution_count": 27,
     "metadata": {},
     "output_type": "execute_result"
    }
   ],
   "source": [
    "df.isnull().sum()"
   ]
  },
  {
   "cell_type": "code",
   "execution_count": 28,
   "id": "d76a0c7c-fe37-4016-bce9-f371168dd2c5",
   "metadata": {},
   "outputs": [],
   "source": [
    "df.to_csv('../../../data/clean/anx_writing.csv')"
   ]
  },
  {
   "cell_type": "markdown",
   "id": "728cf0e4-969c-42ab-9644-46631beab191",
   "metadata": {},
   "source": [
    "## Recap\n",
    "---\n",
    "Cleaned data collected from subreddit. This included dealing with null values, dropping unecessary columns, and merging the selftext and title columns. Both data collected were merged into one dataset. All cleaned datasets were saved. These will be used for exploratory data analysis (EDA) and modeling. "
   ]
  }
 ],
 "metadata": {
  "kernelspec": {
   "display_name": "Python [conda env:dsi]",
   "language": "python",
   "name": "conda-env-dsi-py"
  },
  "language_info": {
   "codemirror_mode": {
    "name": "ipython",
    "version": 3
   },
   "file_extension": ".py",
   "mimetype": "text/x-python",
   "name": "python",
   "nbconvert_exporter": "python",
   "pygments_lexer": "ipython3",
   "version": "3.8.8"
  }
 },
 "nbformat": 4,
 "nbformat_minor": 5
}
