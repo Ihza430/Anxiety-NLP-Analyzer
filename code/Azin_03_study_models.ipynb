{
 "cells": [
  {
   "cell_type": "code",
   "execution_count": 4,
   "id": "09a3d998-0264-4394-80b6-a7ea5595d41c",
   "metadata": {},
   "outputs": [],
   "source": [
    "import pickle\n",
    "import pandas as pd\n",
    "import numpy as np\n",
    "\n",
    "import matplotlib.pyplot as plt\n",
    "import seaborn as sns\n",
    "sns.set_context('talk')\n",
    "%matplotlib inline"
   ]
  },
  {
   "cell_type": "code",
   "execution_count": 5,
   "id": "8752e389-ef1e-4b47-a512-982a49564df6",
   "metadata": {},
   "outputs": [],
   "source": [
    "running_in_drive = False\n",
    "\n",
    "images_path = '../presentation/Azin_images'\n",
    "models_path = '../code/Azin_models'\n",
    "data_path = '../data'\n",
    "\n",
    "\n",
    "if running_in_drive:\n",
    "    images_path = '/content/drive/MyDrive/GA/images'\n",
    "    models_path = '/content/drive/MyDrive/GA/models'\n",
    "    data_path = '/content/drive/MyDrive/GA/data'"
   ]
  },
  {
   "cell_type": "code",
   "execution_count": null,
   "id": "babba5fa-648f-472b-b322-6175a80e4d95",
   "metadata": {},
   "outputs": [],
   "source": []
  },
  {
   "cell_type": "code",
   "execution_count": 6,
   "id": "005e885b-dd62-4bcf-bb92-e51fcd6daaf4",
   "metadata": {},
   "outputs": [
    {
     "name": "stdout",
     "output_type": "stream",
     "text": [
      "\u001b[31mgrid_CountVectorizer_MultinomialNB.pkl\u001b[m\u001b[m*\n",
      "\u001b[31mgrid_TfidfVectorizer_LogisticRegression.pkl\u001b[m\u001b[m*\n",
      "\u001b[31mmdl_CountVectorizer_MultinomialNB.pkl\u001b[m\u001b[m*\n",
      "\u001b[31mmdl_TfidfVectorizer_LogisticRegression.pkl\u001b[m\u001b[m*\n"
     ]
    }
   ],
   "source": [
    "ls ../code/Azin_models"
   ]
  },
  {
   "cell_type": "code",
   "execution_count": 271,
   "id": "5bbf2bbb-d9a8-41bb-b0e6-49bb4e281689",
   "metadata": {},
   "outputs": [],
   "source": [
    "def read_model(transformer, estimator, sentimentizer=None, t='grid', verbose=False):\n",
    "    \"\"\"\n",
    "    Read the picked models.\n",
    "    mdl = read_model('CountVectorizer', 'MultinomialNB')\n",
    "    \"\"\"\n",
    "    name = f'{t}_{transformer}_{estimator}'\n",
    "    if sentimentizer!=None:\n",
    "        name = name + f'_{sentimentizer}'\n",
    "    path = f'{models_path}/{name}.pkl'\n",
    "    if verbose:\n",
    "        print(f'Reading {path}:')\n",
    "    with open(path, 'rb') as pickle_in:\n",
    "        mdl = pickle.load(pickle_in)\n",
    "    return mdl\n",
    "\n",
    "\n",
    "def read_data():\n",
    "    \"\"\"\n",
    "    Reads the preprocessed data\n",
    "    \"\"\"\n",
    "    \n",
    "    path = f'{data_path}/processed_data.csv'\n",
    "    df = pd.read_csv(path)\n",
    "    df = df[['text', 'sentiment', 'Content Length', 'Content Word Count', 'emojis', 'num_comments','subreddit', 'label']]\n",
    "    df.columns = df.columns.str.title()\n",
    "    return df\n",
    "\n",
    "def predict_label(mdl, text_input):\n",
    "    labels = {0: 'Anxiety', 1: 'No Anxiety'}\n",
    "    text_input_df = pd.DataFrame(text_input, columns=['Text'])\n",
    "    try:\n",
    "        out = mdl.predict(text_input_df.squeeze())\n",
    "        pred = pd.DataFrame(out, columns=['prediction'])\n",
    "        pred['text'] = text_input\n",
    "        pred['prediction'] = pred['prediction'].map({0: 'Anxiety', 1: 'No Anxiety'})\n",
    "        return pred[['text', 'prediction']]\n",
    "    except Exception as e:\n",
    "        out = mdl.predict(text_input_df)\n",
    "        pred = pd.DataFrame(out, columns=['prediction'])\n",
    "        pred['text'] = text_input\n",
    "        pred['prediction'] = pred['prediction'].map({0: 'Anxiety', 1: 'No Anxiety'})\n",
    "        return pred[['text', 'prediction']]"
   ]
  },
  {
   "cell_type": "code",
   "execution_count": 232,
   "id": "21601907-8c2b-4b7b-a04c-1c085d3842c7",
   "metadata": {},
   "outputs": [],
   "source": [
    "mnb_mdl = read_model('CountVectorizer', 'MultinomialNB')\n",
    "lr_mdl = read_model('TfidfVectorizer', 'LogisticRegression')"
   ]
  },
  {
   "cell_type": "code",
   "execution_count": 287,
   "id": "d531bebe-beaa-43ad-b238-e43b289953d9",
   "metadata": {},
   "outputs": [],
   "source": [
    "lr_sent_mdl = read_model('CountVectorizer', 'LogisticRegression', sentimentizer='TextSentimentizer', t='mdl')"
   ]
  },
  {
   "cell_type": "code",
   "execution_count": 288,
   "id": "5845510e-6990-463d-8b3a-0cc75fbdcd09",
   "metadata": {},
   "outputs": [
    {
     "name": "stdout",
     "output_type": "stream",
     "text": [
      "\n",
      "MultinomialNB\n"
     ]
    },
    {
     "data": {
      "text/html": [
       "<div>\n",
       "<style scoped>\n",
       "    .dataframe tbody tr th:only-of-type {\n",
       "        vertical-align: middle;\n",
       "    }\n",
       "\n",
       "    .dataframe tbody tr th {\n",
       "        vertical-align: top;\n",
       "    }\n",
       "\n",
       "    .dataframe thead th {\n",
       "        text-align: right;\n",
       "    }\n",
       "</style>\n",
       "<table border=\"1\" class=\"dataframe\">\n",
       "  <thead>\n",
       "    <tr style=\"text-align: right;\">\n",
       "      <th></th>\n",
       "      <th>text</th>\n",
       "      <th>prediction</th>\n",
       "    </tr>\n",
       "  </thead>\n",
       "  <tbody>\n",
       "    <tr>\n",
       "      <th>0</th>\n",
       "      <td>I am sad</td>\n",
       "      <td>Anxiety</td>\n",
       "    </tr>\n",
       "    <tr>\n",
       "      <th>1</th>\n",
       "      <td>writing</td>\n",
       "      <td>No Anxiety</td>\n",
       "    </tr>\n",
       "    <tr>\n",
       "      <th>2</th>\n",
       "      <td>I am anxious</td>\n",
       "      <td>Anxiety</td>\n",
       "    </tr>\n",
       "  </tbody>\n",
       "</table>\n",
       "</div>"
      ],
      "text/plain": [
       "           text  prediction\n",
       "0      I am sad     Anxiety\n",
       "1       writing  No Anxiety\n",
       "2  I am anxious     Anxiety"
      ]
     },
     "metadata": {},
     "output_type": "display_data"
    },
    {
     "name": "stdout",
     "output_type": "stream",
     "text": [
      "\n",
      "LogisticRegression\n"
     ]
    },
    {
     "data": {
      "text/html": [
       "<div>\n",
       "<style scoped>\n",
       "    .dataframe tbody tr th:only-of-type {\n",
       "        vertical-align: middle;\n",
       "    }\n",
       "\n",
       "    .dataframe tbody tr th {\n",
       "        vertical-align: top;\n",
       "    }\n",
       "\n",
       "    .dataframe thead th {\n",
       "        text-align: right;\n",
       "    }\n",
       "</style>\n",
       "<table border=\"1\" class=\"dataframe\">\n",
       "  <thead>\n",
       "    <tr style=\"text-align: right;\">\n",
       "      <th></th>\n",
       "      <th>text</th>\n",
       "      <th>prediction</th>\n",
       "    </tr>\n",
       "  </thead>\n",
       "  <tbody>\n",
       "    <tr>\n",
       "      <th>0</th>\n",
       "      <td>I am sad</td>\n",
       "      <td>No Anxiety</td>\n",
       "    </tr>\n",
       "    <tr>\n",
       "      <th>1</th>\n",
       "      <td>writing</td>\n",
       "      <td>No Anxiety</td>\n",
       "    </tr>\n",
       "    <tr>\n",
       "      <th>2</th>\n",
       "      <td>I am anxious</td>\n",
       "      <td>Anxiety</td>\n",
       "    </tr>\n",
       "  </tbody>\n",
       "</table>\n",
       "</div>"
      ],
      "text/plain": [
       "           text  prediction\n",
       "0      I am sad  No Anxiety\n",
       "1       writing  No Anxiety\n",
       "2  I am anxious     Anxiety"
      ]
     },
     "metadata": {},
     "output_type": "display_data"
    },
    {
     "name": "stdout",
     "output_type": "stream",
     "text": [
      "\n",
      "LogisticRegression Sent\n"
     ]
    },
    {
     "data": {
      "text/html": [
       "<div>\n",
       "<style scoped>\n",
       "    .dataframe tbody tr th:only-of-type {\n",
       "        vertical-align: middle;\n",
       "    }\n",
       "\n",
       "    .dataframe tbody tr th {\n",
       "        vertical-align: top;\n",
       "    }\n",
       "\n",
       "    .dataframe thead th {\n",
       "        text-align: right;\n",
       "    }\n",
       "</style>\n",
       "<table border=\"1\" class=\"dataframe\">\n",
       "  <thead>\n",
       "    <tr style=\"text-align: right;\">\n",
       "      <th></th>\n",
       "      <th>text</th>\n",
       "      <th>prediction</th>\n",
       "    </tr>\n",
       "  </thead>\n",
       "  <tbody>\n",
       "    <tr>\n",
       "      <th>0</th>\n",
       "      <td>I am sad</td>\n",
       "      <td>No Anxiety</td>\n",
       "    </tr>\n",
       "    <tr>\n",
       "      <th>1</th>\n",
       "      <td>writing</td>\n",
       "      <td>No Anxiety</td>\n",
       "    </tr>\n",
       "    <tr>\n",
       "      <th>2</th>\n",
       "      <td>I am anxious</td>\n",
       "      <td>No Anxiety</td>\n",
       "    </tr>\n",
       "  </tbody>\n",
       "</table>\n",
       "</div>"
      ],
      "text/plain": [
       "           text  prediction\n",
       "0      I am sad  No Anxiety\n",
       "1       writing  No Anxiety\n",
       "2  I am anxious  No Anxiety"
      ]
     },
     "metadata": {},
     "output_type": "display_data"
    }
   ],
   "source": [
    "text_input = [\"I am sad\", \"writing\", \"I am anxious\"]\n",
    "\n",
    "print('\\nMultinomialNB')\n",
    "display(predict_label(mnb_mdl, text_input))\n",
    "print('\\nLogisticRegression')\n",
    "display(predict_label(lr_mdl, text_input))\n",
    "\n",
    "print('\\nLogisticRegression Sent')\n",
    "display(predict_label(lr_sent_mdl, text_input))"
   ]
  },
  {
   "cell_type": "code",
   "execution_count": 275,
   "id": "2b67b6dd-bb7e-4bb0-b0a1-dd51fd6c3524",
   "metadata": {},
   "outputs": [
    {
     "data": {
      "text/html": [
       "<div>\n",
       "<style scoped>\n",
       "    .dataframe tbody tr th:only-of-type {\n",
       "        vertical-align: middle;\n",
       "    }\n",
       "\n",
       "    .dataframe tbody tr th {\n",
       "        vertical-align: top;\n",
       "    }\n",
       "\n",
       "    .dataframe thead th {\n",
       "        text-align: right;\n",
       "    }\n",
       "</style>\n",
       "<table border=\"1\" class=\"dataframe\">\n",
       "  <thead>\n",
       "    <tr style=\"text-align: right;\">\n",
       "      <th></th>\n",
       "      <th>Text</th>\n",
       "      <th>Sentiment</th>\n",
       "      <th>Content Length</th>\n",
       "      <th>Content Word Count</th>\n",
       "      <th>Emojis</th>\n",
       "      <th>Num_Comments</th>\n",
       "      <th>Subreddit</th>\n",
       "      <th>Label</th>\n",
       "    </tr>\n",
       "  </thead>\n",
       "  <tbody>\n",
       "    <tr>\n",
       "      <th>0</th>\n",
       "      <td>dae question scared dying scared die anxiety c...</td>\n",
       "      <td>-0.9074</td>\n",
       "      <td>0</td>\n",
       "      <td>0</td>\n",
       "      <td>NaN</td>\n",
       "      <td>9</td>\n",
       "      <td>Anxiety</td>\n",
       "      <td>0</td>\n",
       "    </tr>\n",
       "    <tr>\n",
       "      <th>1</th>\n",
       "      <td>health tight throat tight throat gagging feeli...</td>\n",
       "      <td>-0.0516</td>\n",
       "      <td>51</td>\n",
       "      <td>10</td>\n",
       "      <td>NaN</td>\n",
       "      <td>1</td>\n",
       "      <td>Anxiety</td>\n",
       "      <td>0</td>\n",
       "    </tr>\n",
       "    <tr>\n",
       "      <th>2</th>\n",
       "      <td>advice needed anxiety overriding intuition. do...</td>\n",
       "      <td>0.8996</td>\n",
       "      <td>673</td>\n",
       "      <td>128</td>\n",
       "      <td>NaN</td>\n",
       "      <td>3</td>\n",
       "      <td>Anxiety</td>\n",
       "      <td>0</td>\n",
       "    </tr>\n",
       "    <tr>\n",
       "      <th>3</th>\n",
       "      <td>advice needed anxiety overriding intuition. do...</td>\n",
       "      <td>0.8996</td>\n",
       "      <td>673</td>\n",
       "      <td>128</td>\n",
       "      <td>NaN</td>\n",
       "      <td>7</td>\n",
       "      <td>Anxiety</td>\n",
       "      <td>0</td>\n",
       "    </tr>\n",
       "    <tr>\n",
       "      <th>4</th>\n",
       "      <td>advice needed hey friends! need advice anxiety...</td>\n",
       "      <td>-0.2338</td>\n",
       "      <td>405</td>\n",
       "      <td>82</td>\n",
       "      <td>NaN</td>\n",
       "      <td>1</td>\n",
       "      <td>Anxiety</td>\n",
       "      <td>0</td>\n",
       "    </tr>\n",
       "  </tbody>\n",
       "</table>\n",
       "</div>"
      ],
      "text/plain": [
       "                                                Text  Sentiment  \\\n",
       "0  dae question scared dying scared die anxiety c...    -0.9074   \n",
       "1  health tight throat tight throat gagging feeli...    -0.0516   \n",
       "2  advice needed anxiety overriding intuition. do...     0.8996   \n",
       "3  advice needed anxiety overriding intuition. do...     0.8996   \n",
       "4  advice needed hey friends! need advice anxiety...    -0.2338   \n",
       "\n",
       "   Content Length  Content Word Count Emojis  Num_Comments Subreddit  Label  \n",
       "0               0                   0    NaN             9   Anxiety      0  \n",
       "1              51                  10    NaN             1   Anxiety      0  \n",
       "2             673                 128    NaN             3   Anxiety      0  \n",
       "3             673                 128    NaN             7   Anxiety      0  \n",
       "4             405                  82    NaN             1   Anxiety      0  "
      ]
     },
     "execution_count": 275,
     "metadata": {},
     "output_type": "execute_result"
    }
   ],
   "source": [
    "df = read_data()\n",
    "df.head()"
   ]
  },
  {
   "cell_type": "code",
   "execution_count": 276,
   "id": "6a89b743-c177-48d1-acc0-e3394b6276ed",
   "metadata": {},
   "outputs": [
    {
     "data": {
      "text/plain": [
       "Subreddit\n",
       "Anxiety       3.489667\n",
       "No Anxiety    9.577333\n",
       "Name: Num_Comments, dtype: float64"
      ]
     },
     "execution_count": 276,
     "metadata": {},
     "output_type": "execute_result"
    }
   ],
   "source": [
    "df.groupby('Subreddit')['Num_Comments'].mean()"
   ]
  },
  {
   "cell_type": "code",
   "execution_count": 277,
   "id": "f8103316-fec7-454b-b49f-f888a179fc44",
   "metadata": {},
   "outputs": [
    {
     "data": {
      "text/html": [
       "<div>\n",
       "<style scoped>\n",
       "    .dataframe tbody tr th:only-of-type {\n",
       "        vertical-align: middle;\n",
       "    }\n",
       "\n",
       "    .dataframe tbody tr th {\n",
       "        vertical-align: top;\n",
       "    }\n",
       "\n",
       "    .dataframe thead th {\n",
       "        text-align: right;\n",
       "    }\n",
       "</style>\n",
       "<table border=\"1\" class=\"dataframe\">\n",
       "  <thead>\n",
       "    <tr style=\"text-align: right;\">\n",
       "      <th></th>\n",
       "      <th>max</th>\n",
       "      <th>mean</th>\n",
       "      <th>min</th>\n",
       "    </tr>\n",
       "    <tr>\n",
       "      <th>Subreddit</th>\n",
       "      <th></th>\n",
       "      <th></th>\n",
       "      <th></th>\n",
       "    </tr>\n",
       "  </thead>\n",
       "  <tbody>\n",
       "    <tr>\n",
       "      <th>Anxiety</th>\n",
       "      <td>3.1892</td>\n",
       "      <td>-0.282417</td>\n",
       "      <td>-2.5185</td>\n",
       "    </tr>\n",
       "    <tr>\n",
       "      <th>No Anxiety</th>\n",
       "      <td>3.0775</td>\n",
       "      <td>0.267053</td>\n",
       "      <td>-1.3624</td>\n",
       "    </tr>\n",
       "  </tbody>\n",
       "</table>\n",
       "</div>"
      ],
      "text/plain": [
       "               max      mean     min\n",
       "Subreddit                           \n",
       "Anxiety     3.1892 -0.282417 -2.5185\n",
       "No Anxiety  3.0775  0.267053 -1.3624"
      ]
     },
     "execution_count": 277,
     "metadata": {},
     "output_type": "execute_result"
    }
   ],
   "source": [
    "df.groupby('Subreddit')['Sentiment'].agg(['max', 'mean', 'min'])"
   ]
  },
  {
   "cell_type": "code",
   "execution_count": 278,
   "id": "6c0ba93b-0ab8-40e4-81ae-62cd7cff86be",
   "metadata": {},
   "outputs": [
    {
     "data": {
      "image/png": "[encoded data removed]",
      "text/plain": [
       "<Figure size 576x432 with 1 Axes>"
      ]
     },
     "metadata": {
      "needs_background": "light"
     },
     "output_type": "display_data"
    }
   ],
   "source": [
    "plt.figure(figsize=(8,6))\n",
    "g = sns.histplot(df, x='Sentiment', hue='Subreddit', kde=True, legend=True, alpha=.45, bins=150);\n",
    "sns.despine(top=True);\n",
    "g.set_xlim(-1, 1)\n",
    "plt.suptitle('Sentiment Scores', fontsize=20);\n",
    "plt.savefig(f'{images_path}/sentiment_dist.png', bbox_inches='tight', dpi=300)"
   ]
  },
  {
   "cell_type": "code",
   "execution_count": 279,
   "id": "8fb4ea45-5741-497d-b176-eac10e56efe9",
   "metadata": {},
   "outputs": [
    {
     "data": {
      "image/png": "[encoded data removed]",
      "text/plain": [
       "<Figure size 576x432 with 1 Axes>"
      ]
     },
     "metadata": {
      "needs_background": "light"
     },
     "output_type": "display_data"
    }
   ],
   "source": [
    "plt.figure(figsize=(8,6))\n",
    "df_with_emojis = df[df['Emojis'].str.len()>0]\n",
    "g = sns.histplot(df_with_emojis, x='Sentiment', hue='Subreddit', kde=True, legend=True, alpha=.45, bins=45);\n",
    "sns.despine(top=True);\n",
    "g.set_xlim(-1, 1)\n",
    "plt.suptitle('Sentiment Scores for Posts with Emojis', fontsize=20);\n",
    "plt.savefig(f'{images_path}/sentiment_dist_emoji.png', bbox_inches='tight', dpi=300)"
   ]
  },
  {
   "cell_type": "code",
   "execution_count": 280,
   "id": "e408b04d-cc7f-4d4e-9b53-fb41f3af5eaf",
   "metadata": {},
   "outputs": [],
   "source": [
    "df.fillna('', inplace=True)\n",
    "\n",
    "#data = df.sample(n=1000, random_state=1)\n",
    "data = df.copy()\n",
    "\n",
    "X = data['Text']\n",
    "y = data['Label']"
   ]
  },
  {
   "cell_type": "code",
   "execution_count": 281,
   "id": "75c53847-57b7-4408-bc5c-0593501b3ed8",
   "metadata": {},
   "outputs": [],
   "source": [
    "from sklearn.model_selection import train_test_split\n",
    "X_train, X_test, y_train, y_test = train_test_split(X, y, test_size=.3, \n",
    "                                                            stratify=y, \n",
    "                                                            random_state=42)"
   ]
  },
  {
   "cell_type": "code",
   "execution_count": 282,
   "id": "24874752-a08e-4d77-bb00-b7ea85310d24",
   "metadata": {},
   "outputs": [
    {
     "data": {
      "text/plain": [
       "(6000,)"
      ]
     },
     "execution_count": 282,
     "metadata": {},
     "output_type": "execute_result"
    }
   ],
   "source": [
    "X.shape"
   ]
  },
  {
   "cell_type": "code",
   "execution_count": 283,
   "id": "f238b957-a008-4f08-8961-e12ae9291ef4",
   "metadata": {},
   "outputs": [],
   "source": [
    "import re\n",
    "def get_short(text):\n",
    "    \"\"\"\n",
    "    Extracts the short string for estimators and transformers to be used in pipes.\n",
    "    \"\"\"\n",
    "    if text is None:\n",
    "        return None\n",
    "    # https://stackoverflow.com/questions/1175208/elegant-python-function-to-convert-camelcase-to-snake-case\n",
    "    pattern = re.compile(r'(?<!^)(?=[A-Z])')\n",
    "    text = pattern.sub('_', text).lower()\n",
    "    return ''.join([t[0] for t in text.split('_')])"
   ]
  },
  {
   "cell_type": "code",
   "execution_count": 284,
   "id": "cea50f66-dc5e-448b-be8e-a91b9b76d88b",
   "metadata": {},
   "outputs": [],
   "source": [
    "from emoji_sentiment_tools_simple import get_sentiment_score\n",
    "\n",
    "class TextSentimentizer(BaseEstimator, TransformerMixin):\n",
    "    \n",
    "    def fit(self, X, y=None):\n",
    "        return self\n",
    "\n",
    "    def transform(self, X):\n",
    "        X_ = X.copy()\n",
    "        SENT = X_.apply(lambda t: get_sentiment_score(t))\n",
    "        d = pd.DataFrame(SENT)\n",
    "        d.columns = ['SENT']\n",
    "        return d\n",
    "            \n",
    "class NoSentimentizer(BaseEstimator, TransformerMixin):\n",
    "    \n",
    "    def fit(self, X, y=None):\n",
    "        return self\n",
    "\n",
    "    def transform(self, X):\n",
    "        X_ = X.copy()\n",
    "        SENT = X_.apply(lambda t: 0)\n",
    "        d = pd.DataFrame(SENT)\n",
    "        d.columns = ['SENT']\n",
    "        return d      \n"
   ]
  },
  {
   "cell_type": "code",
   "execution_count": 286,
   "id": "905c633a-049b-4d77-9c5f-7d10ea4fad07",
   "metadata": {},
   "outputs": [
    {
     "name": "stdout",
     "output_type": "stream",
     "text": [
      "0.9976190476190476\n",
      "0.9755555555555555\n"
     ]
    },
    {
     "data": {
      "text/plain": [
       "array([1, 1])"
      ]
     },
     "execution_count": 286,
     "metadata": {},
     "output_type": "execute_result"
    }
   ],
   "source": [
    "def save_model(mdl, models_path, mdl_name):\n",
    "  \"\"\"\n",
    "  Saves model into a pickle\n",
    "  \"\"\"\n",
    "  # models_path = '/content/drive/MyDrive/GA/models'\n",
    "  # mdl_name = 'test'\n",
    "  mdl_path = f'{models_path}/{mdl_name}.pkl'\n",
    "\n",
    "\n",
    "  with open(mdl_path, 'wb') as pickle_out:\n",
    "      pickle_out = pickle.dump(mdl, pickle_out)\n",
    "\n",
    "\n",
    "from sklearn.pipeline import Pipeline\n",
    "from sklearn.compose import make_column_transformer\n",
    "\n",
    "\n",
    "transformer = 'CountVectorizer'\n",
    "estimator = 'LogisticRegression'\n",
    "sentimentizer = 'TextSentimentizer'\n",
    "\n",
    "\n",
    "col_transformer = make_column_transformer(\n",
    "     (CountVectorizer(), 'Text'),\n",
    "     (TextSentimentizer(), 'Text'),\n",
    ")\n",
    "\n",
    "\n",
    "#print(col_transformer)\n",
    "\n",
    "\n",
    "pipe = Pipeline([\n",
    "    (get_short(transformer), col_transformer),\n",
    "    (get_short(estimator), eval(estimator)())    \n",
    "])\n",
    "\n",
    "\n",
    "pipe.fit(pd.DataFrame(X_train), y_train)\n",
    "print(pipe.score(pd.DataFrame(X_train), y_train))\n",
    "print(pipe.score(pd.DataFrame(X_test), y_test))\n",
    "\n",
    "mdl_name = f'mdl_{transformer}_{estimator}_{sentimentizer}'\n",
    "\n",
    "save_model(pipe, models_path, mdl_name)\n",
    "\n",
    "pipe.predict(pd.DataFrame(pd.DataFrame(['hello', 'good morning'], columns=['Text'])))"
   ]
  },
  {
   "cell_type": "code",
   "execution_count": 325,
   "id": "2e01c2d5-7b86-4985-8f42-2269c5634907",
   "metadata": {},
   "outputs": [],
   "source": [
    "#Function for plotting confusion matrix\n",
    "from sklearn.metrics import confusion_matrix, plot_confusion_matrix\n",
    "def plot_matrix(model, X_test, name=''):\n",
    "    if 'Sent' in name:\n",
    "        X_test = pd.DataFrame(X_test)\n",
    "    \n",
    "    preds = model.predict(X_test)\n",
    "    tn, fp, fn, tp = confusion_matrix(y_test, preds).ravel()\n",
    "    \n",
    "    fig, ax = plt.subplots(figsize=(7, 7))\n",
    "    \n",
    "    # View confusion matrix\n",
    "    plot_confusion_matrix(model, X_test, y_test, cmap = 'copper', values_format='d', ax = ax, display_labels=['Anxiety', 'No Anxiety'])\n",
    "    \n",
    "    # Labels, title and ticks\n",
    "    label_font = {'size':'15'}  # Adjust to fit\n",
    "    ax.set_xlabel('Predicted labels', fontdict=label_font);\n",
    "    ax.set_ylabel('Observed labels', fontdict=label_font);\n",
    "\n",
    "    title_font = {'size':'21'}  # Adjust to fit\n",
    "    ax.set_title(f'Confusion Matrix\\n{name}', fontdict=title_font);\n",
    "\n",
    "    ax.tick_params(axis='both', which='major', labelsize=12)\n",
    "    n = name.replace(' ', '_')\n",
    "    plt.savefig(f'{images_path}/Azin_confusion_matrix_{n}.png', bbox_inches='tight', dpi=300)"
   ]
  },
  {
   "cell_type": "code",
   "execution_count": 326,
   "id": "56f0f853-d870-40c5-97ad-cd5fbe3ba1b2",
   "metadata": {},
   "outputs": [
    {
     "data": {
      "image/png": "[encoded data removed]",
      "text/plain": [
       "<Figure size 504x504 with 2 Axes>"
      ]
     },
     "metadata": {
      "needs_background": "light"
     },
     "output_type": "display_data"
    }
   ],
   "source": [
    "plot_matrix(lr_mdl, X_test, name='Logistic Regression')"
   ]
  },
  {
   "cell_type": "code",
   "execution_count": 327,
   "id": "f0e03637-273c-4109-bb2c-099bb3aeda63",
   "metadata": {},
   "outputs": [
    {
     "data": {
      "image/png": "[encoded data removed]",
      "text/plain": [
       "<Figure size 504x504 with 2 Axes>"
      ]
     },
     "metadata": {
      "needs_background": "light"
     },
     "output_type": "display_data"
    }
   ],
   "source": [
    "plot_matrix(mnb_mdl, X_test, name='Naive Bayes')"
   ]
  },
  {
   "cell_type": "code",
   "execution_count": 329,
   "id": "04a142aa-815d-4230-9161-0ef0a1c62415",
   "metadata": {},
   "outputs": [
    {
     "data": {
      "image/png": "[encoded data removed]",
      "text/plain": [
       "<Figure size 504x504 with 2 Axes>"
      ]
     },
     "metadata": {
      "needs_background": "light"
     },
     "output_type": "display_data"
    }
   ],
   "source": [
    "plot_matrix(lr_sent_mdl, X_test, name='Logistic Regression - Sentiment')"
   ]
  },
  {
   "cell_type": "code",
   "execution_count": null,
   "id": "17fa383c-0e2c-4dd1-937d-8ad5686b3f0d",
   "metadata": {},
   "outputs": [],
   "source": []
  }
 ],
 "metadata": {
  "kernelspec": {
   "display_name": "Python 3 (ipykernel)",
   "language": "python",
   "name": "python3"
  },
  "language_info": {
   "codemirror_mode": {
    "name": "ipython",
    "version": 3
   },
   "file_extension": ".py",
   "mimetype": "text/x-python",
   "name": "python",
   "nbconvert_exporter": "python",
   "pygments_lexer": "ipython3",
   "version": "3.8.11"
  }
 },
 "nbformat": 4,
 "nbformat_minor": 5
}
