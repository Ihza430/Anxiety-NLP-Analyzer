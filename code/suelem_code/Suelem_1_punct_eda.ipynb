{
 "cells": [
  {
   "cell_type": "code",
   "execution_count": 1,
   "id": "f5d6cd2d-e99b-4470-bcdc-eb01e122c491",
   "metadata": {},
   "outputs": [],
   "source": [
    "# import necessary libraries\n",
    "import warnings\n",
    "warnings.filterwarnings('ignore')\n",
    "import pandas as pd\n",
    "import numpy as np\n",
    "import matplotlib.pyplot as plt\n",
    "import seaborn as sns\n",
    "%matplotlib inline\n",
    "import re\n",
    "import nltk\n",
    "import string \n",
    "\n",
    "from nltk.tokenize import sent_tokenize, word_tokenize, RegexpTokenizer\n",
    "from nltk.stem import WordNetLemmatizer\n",
    "from nltk.stem.porter import PorterStemmer\n",
    "from nltk.corpus import stopwords\n",
    "from sklearn.pipeline import Pipeline\n",
    "from sklearn.ensemble import RandomForestClassifier\n",
    "from sklearn.feature_extraction.text import CountVectorizer, TfidfVectorizer\n",
    "from sklearn.model_selection import train_test_split, GridSearchCV\n",
    "from sklearn.metrics import confusion_matrix, plot_confusion_matrix\n",
    "from nltk.sentiment.vader import SentimentIntensityAnalyzer"
   ]
  },
  {
   "cell_type": "code",
   "execution_count": 2,
   "id": "68338618-2bbd-41ab-98ac-143469efca39",
   "metadata": {},
   "outputs": [
    {
     "data": {
      "text/html": [
       "<div>\n",
       "<style scoped>\n",
       "    .dataframe tbody tr th:only-of-type {\n",
       "        vertical-align: middle;\n",
       "    }\n",
       "\n",
       "    .dataframe tbody tr th {\n",
       "        vertical-align: top;\n",
       "    }\n",
       "\n",
       "    .dataframe thead th {\n",
       "        text-align: right;\n",
       "    }\n",
       "</style>\n",
       "<table border=\"1\" class=\"dataframe\">\n",
       "  <thead>\n",
       "    <tr style=\"text-align: right;\">\n",
       "      <th></th>\n",
       "      <th>author</th>\n",
       "      <th>link_flair_text</th>\n",
       "      <th>num_comments</th>\n",
       "      <th>subreddit</th>\n",
       "      <th>selftext</th>\n",
       "      <th>title</th>\n",
       "      <th>created_utc</th>\n",
       "    </tr>\n",
       "  </thead>\n",
       "  <tbody>\n",
       "    <tr>\n",
       "      <th>0</th>\n",
       "      <td>JackW357</td>\n",
       "      <td>DAE Questions</td>\n",
       "      <td>9</td>\n",
       "      <td>Anxiety</td>\n",
       "      <td>NaN</td>\n",
       "      <td>Anyone else scared of dying and scared of when...</td>\n",
       "      <td>1606687976</td>\n",
       "    </tr>\n",
       "    <tr>\n",
       "      <th>1</th>\n",
       "      <td>belladoll1021</td>\n",
       "      <td>Health</td>\n",
       "      <td>1</td>\n",
       "      <td>Anxiety</td>\n",
       "      <td>Can a tight throat and gagging feeling be anxi...</td>\n",
       "      <td>Tight throat</td>\n",
       "      <td>1606687615</td>\n",
       "    </tr>\n",
       "    <tr>\n",
       "      <th>2</th>\n",
       "      <td>ashwinderegg</td>\n",
       "      <td>Advice Needed</td>\n",
       "      <td>3</td>\n",
       "      <td>Anxiety</td>\n",
       "      <td>Does anyone else feel like they can no longer ...</td>\n",
       "      <td>Anxiety overriding my intuition.</td>\n",
       "      <td>1606687588</td>\n",
       "    </tr>\n",
       "    <tr>\n",
       "      <th>3</th>\n",
       "      <td>ashwinderegg</td>\n",
       "      <td>Advice Needed</td>\n",
       "      <td>7</td>\n",
       "      <td>Anxiety</td>\n",
       "      <td>Does anyone else feel like they can no longer ...</td>\n",
       "      <td>Anxiety overriding my intuition.</td>\n",
       "      <td>1606687588</td>\n",
       "    </tr>\n",
       "    <tr>\n",
       "      <th>4</th>\n",
       "      <td>lachapoxxx</td>\n",
       "      <td>Advice Needed</td>\n",
       "      <td>1</td>\n",
       "      <td>Anxiety</td>\n",
       "      <td>my anxiety has been going crazy this past week...</td>\n",
       "      <td>hey friends! i need some advice</td>\n",
       "      <td>1606687488</td>\n",
       "    </tr>\n",
       "  </tbody>\n",
       "</table>\n",
       "</div>"
      ],
      "text/plain": [
       "          author link_flair_text  num_comments subreddit  \\\n",
       "0       JackW357   DAE Questions             9   Anxiety   \n",
       "1  belladoll1021          Health             1   Anxiety   \n",
       "2   ashwinderegg   Advice Needed             3   Anxiety   \n",
       "3   ashwinderegg   Advice Needed             7   Anxiety   \n",
       "4     lachapoxxx   Advice Needed             1   Anxiety   \n",
       "\n",
       "                                            selftext  \\\n",
       "0                                                NaN   \n",
       "1  Can a tight throat and gagging feeling be anxi...   \n",
       "2  Does anyone else feel like they can no longer ...   \n",
       "3  Does anyone else feel like they can no longer ...   \n",
       "4  my anxiety has been going crazy this past week...   \n",
       "\n",
       "                                               title  created_utc  \n",
       "0  Anyone else scared of dying and scared of when...   1606687976  \n",
       "1                                       Tight throat   1606687615  \n",
       "2                   Anxiety overriding my intuition.   1606687588  \n",
       "3                   Anxiety overriding my intuition.   1606687588  \n",
       "4                    hey friends! i need some advice   1606687488  "
      ]
     },
     "execution_count": 2,
     "metadata": {},
     "output_type": "execute_result"
    }
   ],
   "source": [
    "# Importing anxiety data\n",
    "df_anx = pd.read_csv('../../data/original/anxiety_submissions_.csv')\n",
    "df_anx = df_anx[['author', 'link_flair_text', 'num_comments', 'subreddit', 'selftext', 'title', 'created_utc']]\n",
    "df_anx.head()"
   ]
  },
  {
   "cell_type": "code",
   "execution_count": 3,
   "id": "ab9005a1-8070-4671-9302-c3c02aea4681",
   "metadata": {},
   "outputs": [
    {
     "data": {
      "text/html": [
       "<div>\n",
       "<style scoped>\n",
       "    .dataframe tbody tr th:only-of-type {\n",
       "        vertical-align: middle;\n",
       "    }\n",
       "\n",
       "    .dataframe tbody tr th {\n",
       "        vertical-align: top;\n",
       "    }\n",
       "\n",
       "    .dataframe thead th {\n",
       "        text-align: right;\n",
       "    }\n",
       "</style>\n",
       "<table border=\"1\" class=\"dataframe\">\n",
       "  <thead>\n",
       "    <tr style=\"text-align: right;\">\n",
       "      <th></th>\n",
       "      <th>author</th>\n",
       "      <th>link_flair_text</th>\n",
       "      <th>num_comments</th>\n",
       "      <th>subreddit</th>\n",
       "      <th>selftext</th>\n",
       "      <th>title</th>\n",
       "      <th>created_utc</th>\n",
       "    </tr>\n",
       "  </thead>\n",
       "  <tbody>\n",
       "    <tr>\n",
       "      <th>2995</th>\n",
       "      <td>BikergirlRider120</td>\n",
       "      <td>Advice</td>\n",
       "      <td>2</td>\n",
       "      <td>writing</td>\n",
       "      <td>So I got a idea for a story about a young woma...</td>\n",
       "      <td>An idea for a story</td>\n",
       "      <td>1631761561</td>\n",
       "    </tr>\n",
       "    <tr>\n",
       "      <th>2996</th>\n",
       "      <td>throwaway3352617</td>\n",
       "      <td>Advice</td>\n",
       "      <td>4</td>\n",
       "      <td>writing</td>\n",
       "      <td>A large part of the character arc I'm writing ...</td>\n",
       "      <td>Differentiating between character strengths: D...</td>\n",
       "      <td>1631761310</td>\n",
       "    </tr>\n",
       "    <tr>\n",
       "      <th>2997</th>\n",
       "      <td>Midget_Cowboy</td>\n",
       "      <td>NaN</td>\n",
       "      <td>30</td>\n",
       "      <td>writing</td>\n",
       "      <td>So, to jump right into it, what, in your opini...</td>\n",
       "      <td>Proper Time to Introduce the \"Big Incident\"</td>\n",
       "      <td>1631761085</td>\n",
       "    </tr>\n",
       "    <tr>\n",
       "      <th>2998</th>\n",
       "      <td>throwaway5820175</td>\n",
       "      <td>Advice</td>\n",
       "      <td>5</td>\n",
       "      <td>writing</td>\n",
       "      <td>I'm wanting to write a book series based stron...</td>\n",
       "      <td>Possible copyright issues?</td>\n",
       "      <td>1631759726</td>\n",
       "    </tr>\n",
       "    <tr>\n",
       "      <th>2999</th>\n",
       "      <td>Longjumping-Celery54</td>\n",
       "      <td>Other</td>\n",
       "      <td>1</td>\n",
       "      <td>writing</td>\n",
       "      <td>She wakes up in Atlanta\\n\\nIn the world of The...</td>\n",
       "      <td>A poem I wrote called \"Another World\"</td>\n",
       "      <td>1604277033</td>\n",
       "    </tr>\n",
       "  </tbody>\n",
       "</table>\n",
       "</div>"
      ],
      "text/plain": [
       "                    author link_flair_text  num_comments subreddit  \\\n",
       "2995     BikergirlRider120          Advice             2   writing   \n",
       "2996      throwaway3352617          Advice             4   writing   \n",
       "2997         Midget_Cowboy             NaN            30   writing   \n",
       "2998      throwaway5820175          Advice             5   writing   \n",
       "2999  Longjumping-Celery54           Other             1   writing   \n",
       "\n",
       "                                               selftext  \\\n",
       "2995  So I got a idea for a story about a young woma...   \n",
       "2996  A large part of the character arc I'm writing ...   \n",
       "2997  So, to jump right into it, what, in your opini...   \n",
       "2998  I'm wanting to write a book series based stron...   \n",
       "2999  She wakes up in Atlanta\\n\\nIn the world of The...   \n",
       "\n",
       "                                                  title  created_utc  \n",
       "2995                                An idea for a story   1631761561  \n",
       "2996  Differentiating between character strengths: D...   1631761310  \n",
       "2997        Proper Time to Introduce the \"Big Incident\"   1631761085  \n",
       "2998                         Possible copyright issues?   1631759726  \n",
       "2999              A poem I wrote called \"Another World\"   1604277033  "
      ]
     },
     "execution_count": 3,
     "metadata": {},
     "output_type": "execute_result"
    }
   ],
   "source": [
    "# Importing anxiety data\n",
    "df_wri = pd.read_csv('./writing_submissions.csv')\n",
    "df_wri = df_wri[['author', 'link_flair_text', 'num_comments', 'subreddit','selftext', 'title', 'created_utc']]\n",
    "df_wri.tail()"
   ]
  },
  {
   "cell_type": "code",
   "execution_count": 4,
   "id": "4dcce7c1-bdf9-4c2d-8efa-d6c6b773d72e",
   "metadata": {},
   "outputs": [],
   "source": [
    "df = df_anx.append(df_wri, ignore_index=True)"
   ]
  },
  {
   "cell_type": "code",
   "execution_count": 5,
   "id": "189cd351-0b79-47b2-9ab0-5982f726386f",
   "metadata": {},
   "outputs": [
    {
     "data": {
      "text/plain": [
       "(6000, 7)"
      ]
     },
     "execution_count": 5,
     "metadata": {},
     "output_type": "execute_result"
    }
   ],
   "source": [
    "df.shape"
   ]
  },
  {
   "cell_type": "code",
   "execution_count": 6,
   "id": "49baee4f-4e8e-4295-8394-18ed258b9834",
   "metadata": {},
   "outputs": [],
   "source": [
    "df['selftext'].fillna('', inplace = True)"
   ]
  },
  {
   "cell_type": "code",
   "execution_count": 7,
   "id": "8423dacb-f431-415a-98ab-3a75e3533048",
   "metadata": {},
   "outputs": [],
   "source": [
    "df['text'] = df['title'] + ' ' + df['selftext']\n",
    "df['text'] = [str(x).lower() for x in df[\"text\"]]\n",
    "df['text'] = df['text'].replace('\\n', \" \")\n",
    "df['text'] = [str(x).replace('\\n\\n',' ') for x in df[\"text\"]]\n",
    "df['text'] = [str(x).replace('&amp','') for x in df[\"text\"]]\n",
    "df['text'] = [str(x).replace(';#x200B;','') for x in df[\"text\"]]"
   ]
  },
  {
   "cell_type": "code",
   "execution_count": 8,
   "id": "28ff5b03-d294-4e70-9273-965422ea8e6e",
   "metadata": {},
   "outputs": [],
   "source": [
    "df = df.drop(columns = ['title', 'selftext'])"
   ]
  },
  {
   "cell_type": "code",
   "execution_count": 9,
   "id": "393c2af6-f7a9-4947-8ae2-8662e86d028c",
   "metadata": {},
   "outputs": [
    {
     "data": {
      "text/plain": [
       "0"
      ]
     },
     "execution_count": 9,
     "metadata": {},
     "output_type": "execute_result"
    }
   ],
   "source": [
    "df['text'].isnull().sum()"
   ]
  },
  {
   "cell_type": "code",
   "execution_count": 10,
   "id": "6122a46e-c896-4a73-870d-eacbf9ebe4d9",
   "metadata": {},
   "outputs": [],
   "source": [
    "df.drop_duplicates(subset=['text', 'subreddit'], inplace = True)"
   ]
  },
  {
   "cell_type": "code",
   "execution_count": 11,
   "id": "cc6e342b-85e3-49e8-a5f5-c6d374115f63",
   "metadata": {},
   "outputs": [
    {
     "data": {
      "text/plain": [
       "0       1\n",
       "1       1\n",
       "2       1\n",
       "4       1\n",
       "5       1\n",
       "       ..\n",
       "5995    0\n",
       "5996    0\n",
       "5997    0\n",
       "5998    0\n",
       "5999    0\n",
       "Name: subreddit, Length: 5941, dtype: int64"
      ]
     },
     "execution_count": 11,
     "metadata": {},
     "output_type": "execute_result"
    }
   ],
   "source": [
    "df['subreddit'].apply(lambda x: 1 if x == 'Anxiety' else 0)"
   ]
  },
  {
   "cell_type": "code",
   "execution_count": 12,
   "id": "33dc269d-06e4-4bd7-97c1-c504c8547184",
   "metadata": {},
   "outputs": [
    {
     "data": {
      "text/html": [
       "<div>\n",
       "<style scoped>\n",
       "    .dataframe tbody tr th:only-of-type {\n",
       "        vertical-align: middle;\n",
       "    }\n",
       "\n",
       "    .dataframe tbody tr th {\n",
       "        vertical-align: top;\n",
       "    }\n",
       "\n",
       "    .dataframe thead th {\n",
       "        text-align: right;\n",
       "    }\n",
       "</style>\n",
       "<table border=\"1\" class=\"dataframe\">\n",
       "  <thead>\n",
       "    <tr style=\"text-align: right;\">\n",
       "      <th></th>\n",
       "      <th>author</th>\n",
       "      <th>link_flair_text</th>\n",
       "      <th>num_comments</th>\n",
       "      <th>subreddit</th>\n",
       "      <th>created_utc</th>\n",
       "      <th>text</th>\n",
       "    </tr>\n",
       "  </thead>\n",
       "  <tbody>\n",
       "  </tbody>\n",
       "</table>\n",
       "</div>"
      ],
      "text/plain": [
       "Empty DataFrame\n",
       "Columns: [author, link_flair_text, num_comments, subreddit, created_utc, text]\n",
       "Index: []"
      ]
     },
     "execution_count": 12,
     "metadata": {},
     "output_type": "execute_result"
    }
   ],
   "source": [
    "# find specific deleted texts\n",
    "df[df['text']=='[deleted]']"
   ]
  },
  {
   "cell_type": "code",
   "execution_count": 13,
   "id": "992dfe74-d017-4510-bdc5-afb15163d7c6",
   "metadata": {},
   "outputs": [
    {
     "data": {
      "text/plain": [
       "'anyone else scared of dying and scared of when you die will anxiety carry on???? '"
      ]
     },
     "execution_count": 13,
     "metadata": {},
     "output_type": "execute_result"
    }
   ],
   "source": [
    "df['text'][0]"
   ]
  },
  {
   "cell_type": "code",
   "execution_count": 14,
   "id": "7f68d02d-168b-49fe-9246-671011107833",
   "metadata": {},
   "outputs": [
    {
     "data": {
      "text/html": [
       "<div>\n",
       "<style scoped>\n",
       "    .dataframe tbody tr th:only-of-type {\n",
       "        vertical-align: middle;\n",
       "    }\n",
       "\n",
       "    .dataframe tbody tr th {\n",
       "        vertical-align: top;\n",
       "    }\n",
       "\n",
       "    .dataframe thead th {\n",
       "        text-align: right;\n",
       "    }\n",
       "</style>\n",
       "<table border=\"1\" class=\"dataframe\">\n",
       "  <thead>\n",
       "    <tr style=\"text-align: right;\">\n",
       "      <th></th>\n",
       "      <th>author</th>\n",
       "      <th>link_flair_text</th>\n",
       "      <th>num_comments</th>\n",
       "      <th>subreddit</th>\n",
       "      <th>created_utc</th>\n",
       "      <th>text</th>\n",
       "    </tr>\n",
       "  </thead>\n",
       "  <tbody>\n",
       "    <tr>\n",
       "      <th>0</th>\n",
       "      <td>JackW357</td>\n",
       "      <td>DAE Questions</td>\n",
       "      <td>9.0</td>\n",
       "      <td>Anxiety</td>\n",
       "      <td>1.606688e+09</td>\n",
       "      <td>anyone else scared of dying and scared of when...</td>\n",
       "    </tr>\n",
       "    <tr>\n",
       "      <th>1</th>\n",
       "      <td>belladoll1021</td>\n",
       "      <td>Health</td>\n",
       "      <td>1.0</td>\n",
       "      <td>writing</td>\n",
       "      <td>1.606688e+09</td>\n",
       "      <td>tight throat can a tight throat and gagging fe...</td>\n",
       "    </tr>\n",
       "    <tr>\n",
       "      <th>2</th>\n",
       "      <td>ashwinderegg</td>\n",
       "      <td>Advice Needed</td>\n",
       "      <td>3.0</td>\n",
       "      <td>NaN</td>\n",
       "      <td>1.606688e+09</td>\n",
       "      <td>anxiety overriding my intuition. does anyone e...</td>\n",
       "    </tr>\n",
       "    <tr>\n",
       "      <th>3</th>\n",
       "      <td>lachapoxxx</td>\n",
       "      <td>Therapy</td>\n",
       "      <td>0.0</td>\n",
       "      <td>NaN</td>\n",
       "      <td>1.606687e+09</td>\n",
       "      <td>hey friends! i need some advice my anxiety has...</td>\n",
       "    </tr>\n",
       "    <tr>\n",
       "      <th>4</th>\n",
       "      <td>hayhay1105</td>\n",
       "      <td>NaN</td>\n",
       "      <td>2.0</td>\n",
       "      <td>NaN</td>\n",
       "      <td>1.606687e+09</td>\n",
       "      <td>oh boy do you ever get physically sick thinkin...</td>\n",
       "    </tr>\n",
       "    <tr>\n",
       "      <th>...</th>\n",
       "      <td>...</td>\n",
       "      <td>...</td>\n",
       "      <td>...</td>\n",
       "      <td>...</td>\n",
       "      <td>...</td>\n",
       "      <td>...</td>\n",
       "    </tr>\n",
       "    <tr>\n",
       "      <th>5935</th>\n",
       "      <td>NaN</td>\n",
       "      <td>NaN</td>\n",
       "      <td>NaN</td>\n",
       "      <td>NaN</td>\n",
       "      <td>NaN</td>\n",
       "      <td>an idea for a story so i got a idea for a stor...</td>\n",
       "    </tr>\n",
       "    <tr>\n",
       "      <th>5936</th>\n",
       "      <td>NaN</td>\n",
       "      <td>NaN</td>\n",
       "      <td>NaN</td>\n",
       "      <td>NaN</td>\n",
       "      <td>NaN</td>\n",
       "      <td>differentiating between character strengths: d...</td>\n",
       "    </tr>\n",
       "    <tr>\n",
       "      <th>5937</th>\n",
       "      <td>NaN</td>\n",
       "      <td>NaN</td>\n",
       "      <td>NaN</td>\n",
       "      <td>NaN</td>\n",
       "      <td>NaN</td>\n",
       "      <td>proper time to introduce the \"big incident\" so...</td>\n",
       "    </tr>\n",
       "    <tr>\n",
       "      <th>5938</th>\n",
       "      <td>NaN</td>\n",
       "      <td>NaN</td>\n",
       "      <td>NaN</td>\n",
       "      <td>NaN</td>\n",
       "      <td>NaN</td>\n",
       "      <td>possible copyright issues? i'm wanting to writ...</td>\n",
       "    </tr>\n",
       "    <tr>\n",
       "      <th>5939</th>\n",
       "      <td>NaN</td>\n",
       "      <td>NaN</td>\n",
       "      <td>NaN</td>\n",
       "      <td>NaN</td>\n",
       "      <td>NaN</td>\n",
       "      <td>a poem i wrote called \"another world\" she wake...</td>\n",
       "    </tr>\n",
       "  </tbody>\n",
       "</table>\n",
       "<p>5940 rows × 6 columns</p>\n",
       "</div>"
      ],
      "text/plain": [
       "             author link_flair_text  num_comments subreddit   created_utc  \\\n",
       "0          JackW357   DAE Questions           9.0   Anxiety  1.606688e+09   \n",
       "1     belladoll1021          Health           1.0   writing  1.606688e+09   \n",
       "2      ashwinderegg   Advice Needed           3.0       NaN  1.606688e+09   \n",
       "3        lachapoxxx         Therapy           0.0       NaN  1.606687e+09   \n",
       "4        hayhay1105             NaN           2.0       NaN  1.606687e+09   \n",
       "...             ...             ...           ...       ...           ...   \n",
       "5935            NaN             NaN           NaN       NaN           NaN   \n",
       "5936            NaN             NaN           NaN       NaN           NaN   \n",
       "5937            NaN             NaN           NaN       NaN           NaN   \n",
       "5938            NaN             NaN           NaN       NaN           NaN   \n",
       "5939            NaN             NaN           NaN       NaN           NaN   \n",
       "\n",
       "                                                   text  \n",
       "0     anyone else scared of dying and scared of when...  \n",
       "1     tight throat can a tight throat and gagging fe...  \n",
       "2     anxiety overriding my intuition. does anyone e...  \n",
       "3     hey friends! i need some advice my anxiety has...  \n",
       "4     oh boy do you ever get physically sick thinkin...  \n",
       "...                                                 ...  \n",
       "5935  an idea for a story so i got a idea for a stor...  \n",
       "5936  differentiating between character strengths: d...  \n",
       "5937  proper time to introduce the \"big incident\" so...  \n",
       "5938  possible copyright issues? i'm wanting to writ...  \n",
       "5939  a poem i wrote called \"another world\" she wake...  \n",
       "\n",
       "[5940 rows x 6 columns]"
      ]
     },
     "execution_count": 14,
     "metadata": {},
     "output_type": "execute_result"
    }
   ],
   "source": [
    "df.apply(lambda col: col.drop_duplicates().reset_index(drop=True))"
   ]
  },
  {
   "cell_type": "markdown",
   "id": "1dc4ed7e-cc94-4f37-9e51-036bd8e579b9",
   "metadata": {
    "tags": []
   },
   "source": []
  },
  {
   "cell_type": "markdown",
   "id": "69130638-ad51-4413-a58e-c5c18dcd5512",
   "metadata": {},
   "source": [
    "### Tokenizing and Lemmatizing"
   ]
  },
  {
   "cell_type": "code",
   "execution_count": 15,
   "id": "945160cf-b76a-496b-bec7-2e4f9e7b3681",
   "metadata": {},
   "outputs": [],
   "source": [
    "# sentence tokenizer\n",
    "df['sent_tokenized'] = df[\"text\"].apply(nltk.sent_tokenize)"
   ]
  },
  {
   "cell_type": "code",
   "execution_count": 16,
   "id": "4d21c318-c380-4fa3-af33-1bd3fe8c34ff",
   "metadata": {},
   "outputs": [
    {
     "data": {
      "text/html": [
       "<div>\n",
       "<style scoped>\n",
       "    .dataframe tbody tr th:only-of-type {\n",
       "        vertical-align: middle;\n",
       "    }\n",
       "\n",
       "    .dataframe tbody tr th {\n",
       "        vertical-align: top;\n",
       "    }\n",
       "\n",
       "    .dataframe thead th {\n",
       "        text-align: right;\n",
       "    }\n",
       "</style>\n",
       "<table border=\"1\" class=\"dataframe\">\n",
       "  <thead>\n",
       "    <tr style=\"text-align: right;\">\n",
       "      <th></th>\n",
       "      <th>author</th>\n",
       "      <th>link_flair_text</th>\n",
       "      <th>num_comments</th>\n",
       "      <th>subreddit</th>\n",
       "      <th>created_utc</th>\n",
       "      <th>text</th>\n",
       "      <th>sent_tokenized</th>\n",
       "      <th>punctuation_used</th>\n",
       "    </tr>\n",
       "  </thead>\n",
       "  <tbody>\n",
       "    <tr>\n",
       "      <th>0</th>\n",
       "      <td>JackW357</td>\n",
       "      <td>DAE Questions</td>\n",
       "      <td>9</td>\n",
       "      <td>Anxiety</td>\n",
       "      <td>1606687976</td>\n",
       "      <td>anyone else scared of dying and scared of when...</td>\n",
       "      <td>[anyone else scared of dying and scared of whe...</td>\n",
       "      <td>[?, ?, ?, ?]</td>\n",
       "    </tr>\n",
       "    <tr>\n",
       "      <th>1</th>\n",
       "      <td>belladoll1021</td>\n",
       "      <td>Health</td>\n",
       "      <td>1</td>\n",
       "      <td>Anxiety</td>\n",
       "      <td>1606687615</td>\n",
       "      <td>tight throat can a tight throat and gagging fe...</td>\n",
       "      <td>[tight throat can a tight throat and gagging f...</td>\n",
       "      <td>[?]</td>\n",
       "    </tr>\n",
       "  </tbody>\n",
       "</table>\n",
       "</div>"
      ],
      "text/plain": [
       "          author link_flair_text  num_comments subreddit  created_utc  \\\n",
       "0       JackW357   DAE Questions             9   Anxiety   1606687976   \n",
       "1  belladoll1021          Health             1   Anxiety   1606687615   \n",
       "\n",
       "                                                text  \\\n",
       "0  anyone else scared of dying and scared of when...   \n",
       "1  tight throat can a tight throat and gagging fe...   \n",
       "\n",
       "                                      sent_tokenized punctuation_used  \n",
       "0  [anyone else scared of dying and scared of whe...     [?, ?, ?, ?]  \n",
       "1  [tight throat can a tight throat and gagging f...              [?]  "
      ]
     },
     "execution_count": 16,
     "metadata": {},
     "output_type": "execute_result"
    }
   ],
   "source": [
    "def check_find_punctuations(text):\n",
    "    result = re.findall(r'[!\"\\$%&\\'()*+,\\-.\\/:;=#@?\\[\\\\\\]^_`{|}~]*', text)\n",
    "    string = \"\".join(result)\n",
    "    return list(string)\n",
    "\n",
    "df['punctuation_used'] = df['text'].apply(lambda x : check_find_punctuations(x))\n",
    "\n",
    "df.head(2)"
   ]
  },
  {
   "cell_type": "code",
   "execution_count": 17,
   "id": "21e5eb52-76a0-47a6-9b40-71e275cdec75",
   "metadata": {},
   "outputs": [
    {
     "data": {
      "text/plain": [
       "'anyone else scared of dying and scared of when you die will anxiety carry on???? '"
      ]
     },
     "execution_count": 17,
     "metadata": {},
     "output_type": "execute_result"
    }
   ],
   "source": [
    "sentence = df['text'][0]\n",
    "sentence"
   ]
  },
  {
   "cell_type": "markdown",
   "id": "7aa6ae97-c380-43c5-aa93-92518ca94cfb",
   "metadata": {},
   "source": [
    "### For same consecutive punctuation"
   ]
  },
  {
   "cell_type": "code",
   "execution_count": 18,
   "id": "db74a0f6-2940-4af6-bc0c-c5336743ef3a",
   "metadata": {},
   "outputs": [],
   "source": [
    "def repeated_punctuations(text):\n",
    "    pattern_any_punctuation = re.compile('([-/\\\\\\\\()?!\"+,&\\'...]{2,})') # min. 2 or more\n",
    "    list_of_punct = []\n",
    "    match = pattern_any_punctuation.search(str(text))\n",
    "    if match:\n",
    "        match = match.group(0)\n",
    "        list_of_punct.append(match)\n",
    "        return list_of_punct\n",
    "    else:\n",
    "        return 0"
   ]
  },
  {
   "cell_type": "code",
   "execution_count": 19,
   "id": "b27ce2f3-7a33-4276-9c1c-d92ed0e7d00d",
   "metadata": {},
   "outputs": [],
   "source": [
    "df['repeated_punct'] = df['text'].apply(lambda x : repeated_punctuations(x))"
   ]
  },
  {
   "cell_type": "code",
   "execution_count": 20,
   "id": "57c6d069-3e5c-4a1b-a3bd-738b00ec6122",
   "metadata": {},
   "outputs": [],
   "source": [
    "df['punctuation_count'] = df['punctuation_used'].apply(len)"
   ]
  },
  {
   "cell_type": "code",
   "execution_count": 21,
   "id": "7b52f8e8-77c7-4151-80f7-572183f91703",
   "metadata": {},
   "outputs": [
    {
     "data": {
      "text/plain": [
       "\"an idea for a story so i got a idea for a story about a young woman named victoria (might change name). victoria has powers who lives in a world where people have powers, some criminals and some villains. she's hurt people, killed even but not kids. she's done bad things, yet it took her 5yrs to realize that she was under control of a telepath. her demon. a monster. the man in the suit as she calls him. she's kept her distance from him. until she can't anymore when the man in the suit finds a way to get at her in ways that she may and may not expect....  i would like to name the story after the victoria. yet, at the same time, i'd like to name it different names: desire. temptation. resist. fight. i haven't figured out the story, the plot and characters since it's something that i just came up with.\""
      ]
     },
     "execution_count": 21,
     "metadata": {},
     "output_type": "execute_result"
    }
   ],
   "source": [
    "df['text'][5995]"
   ]
  },
  {
   "cell_type": "code",
   "execution_count": 22,
   "id": "8109762b-b08c-42e8-8ce7-8cf9b0859740",
   "metadata": {},
   "outputs": [
    {
     "data": {
      "text/plain": [
       "0       [????]\n",
       "1            0\n",
       "2            0\n",
       "4            0\n",
       "5         [??]\n",
       "         ...  \n",
       "5995      [).]\n",
       "5996     ['),]\n",
       "5997      [\".]\n",
       "5998         0\n",
       "5999     [...]\n",
       "Name: repeated_punct, Length: 5941, dtype: object"
      ]
     },
     "execution_count": 22,
     "metadata": {},
     "output_type": "execute_result"
    }
   ],
   "source": [
    "df['repeated_punct']"
   ]
  },
  {
   "cell_type": "markdown",
   "id": "93e1f6c5-b7ce-4721-aae9-b1db97ea0636",
   "metadata": {},
   "source": [
    "### Let's take a look at punctuation"
   ]
  },
  {
   "cell_type": "code",
   "execution_count": 23,
   "id": "5208b8d7-339f-4214-b77c-2c413095c2d1",
   "metadata": {},
   "outputs": [
    {
     "data": {
      "text/html": [
       "<div>\n",
       "<style scoped>\n",
       "    .dataframe tbody tr th:only-of-type {\n",
       "        vertical-align: middle;\n",
       "    }\n",
       "\n",
       "    .dataframe tbody tr th {\n",
       "        vertical-align: top;\n",
       "    }\n",
       "\n",
       "    .dataframe thead tr th {\n",
       "        text-align: left;\n",
       "    }\n",
       "\n",
       "    .dataframe thead tr:last-of-type th {\n",
       "        text-align: right;\n",
       "    }\n",
       "</style>\n",
       "<table border=\"1\" class=\"dataframe\">\n",
       "  <thead>\n",
       "    <tr>\n",
       "      <th></th>\n",
       "      <th colspan=\"8\" halign=\"left\">punctuation_count</th>\n",
       "    </tr>\n",
       "    <tr>\n",
       "      <th></th>\n",
       "      <th>count</th>\n",
       "      <th>mean</th>\n",
       "      <th>std</th>\n",
       "      <th>min</th>\n",
       "      <th>25%</th>\n",
       "      <th>50%</th>\n",
       "      <th>75%</th>\n",
       "      <th>max</th>\n",
       "    </tr>\n",
       "    <tr>\n",
       "      <th>subreddit</th>\n",
       "      <th></th>\n",
       "      <th></th>\n",
       "      <th></th>\n",
       "      <th></th>\n",
       "      <th></th>\n",
       "      <th></th>\n",
       "      <th></th>\n",
       "      <th></th>\n",
       "    </tr>\n",
       "  </thead>\n",
       "  <tbody>\n",
       "    <tr>\n",
       "      <th>Anxiety</th>\n",
       "      <td>2993.0</td>\n",
       "      <td>20.961577</td>\n",
       "      <td>28.230541</td>\n",
       "      <td>0.0</td>\n",
       "      <td>6.0</td>\n",
       "      <td>14.0</td>\n",
       "      <td>26.0</td>\n",
       "      <td>453.0</td>\n",
       "    </tr>\n",
       "    <tr>\n",
       "      <th>writing</th>\n",
       "      <td>2948.0</td>\n",
       "      <td>19.470488</td>\n",
       "      <td>45.522367</td>\n",
       "      <td>0.0</td>\n",
       "      <td>3.0</td>\n",
       "      <td>8.0</td>\n",
       "      <td>20.0</td>\n",
       "      <td>999.0</td>\n",
       "    </tr>\n",
       "  </tbody>\n",
       "</table>\n",
       "</div>"
      ],
      "text/plain": [
       "          punctuation_count                                                   \n",
       "                      count       mean        std  min  25%   50%   75%    max\n",
       "subreddit                                                                     \n",
       "Anxiety              2993.0  20.961577  28.230541  0.0  6.0  14.0  26.0  453.0\n",
       "writing              2948.0  19.470488  45.522367  0.0  3.0   8.0  20.0  999.0"
      ]
     },
     "execution_count": 23,
     "metadata": {},
     "output_type": "execute_result"
    }
   ],
   "source": [
    "counts = df.groupby(by ='subreddit').agg('describe')[['punctuation_count']]\n",
    "counts"
   ]
  },
  {
   "cell_type": "code",
   "execution_count": 24,
   "id": "f648e0ca-94a4-492a-ab04-e56b78f9721f",
   "metadata": {},
   "outputs": [],
   "source": [
    "anx = df[df['subreddit'] == 'Anxiety']\n",
    "writ = df[df['subreddit'] == 'writing']"
   ]
  },
  {
   "cell_type": "code",
   "execution_count": 25,
   "id": "4c6ef248-5bc7-4c8e-b4d7-d3adc759a303",
   "metadata": {},
   "outputs": [
    {
     "data": {
      "image/png": "[encoded data removed]",
      "text/plain": [
       "<Figure size 432x288 with 1 Axes>"
      ]
     },
     "metadata": {
      "needs_background": "light"
     },
     "output_type": "display_data"
    }
   ],
   "source": [
    "sns.distplot(anx.punctuation_count, norm_hist = True, label = \"anxiety punctuation count\")\n",
    "sns.distplot(writ.punctuation_count, norm_hist = True, label = 'writing punctuation count')\n",
    "plt.legend();"
   ]
  },
  {
   "cell_type": "code",
   "execution_count": 26,
   "id": "82490315-58c5-43af-a837-1fad93824508",
   "metadata": {},
   "outputs": [
    {
     "data": {
      "text/html": [
       "<div>\n",
       "<style scoped>\n",
       "    .dataframe tbody tr th:only-of-type {\n",
       "        vertical-align: middle;\n",
       "    }\n",
       "\n",
       "    .dataframe tbody tr th {\n",
       "        vertical-align: top;\n",
       "    }\n",
       "\n",
       "    .dataframe thead th {\n",
       "        text-align: right;\n",
       "    }\n",
       "</style>\n",
       "<table border=\"1\" class=\"dataframe\">\n",
       "  <thead>\n",
       "    <tr style=\"text-align: right;\">\n",
       "      <th></th>\n",
       "      <th>author</th>\n",
       "      <th>link_flair_text</th>\n",
       "      <th>num_comments</th>\n",
       "      <th>subreddit</th>\n",
       "      <th>created_utc</th>\n",
       "      <th>text</th>\n",
       "      <th>sent_tokenized</th>\n",
       "      <th>punctuation_used</th>\n",
       "      <th>repeated_punct</th>\n",
       "      <th>punctuation_count</th>\n",
       "    </tr>\n",
       "  </thead>\n",
       "  <tbody>\n",
       "    <tr>\n",
       "      <th>0</th>\n",
       "      <td>JackW357</td>\n",
       "      <td>DAE Questions</td>\n",
       "      <td>9</td>\n",
       "      <td>Anxiety</td>\n",
       "      <td>1606687976</td>\n",
       "      <td>anyone else scared of dying and scared of when...</td>\n",
       "      <td>[anyone else scared of dying and scared of whe...</td>\n",
       "      <td>[?, ?, ?, ?]</td>\n",
       "      <td>[????]</td>\n",
       "      <td>4</td>\n",
       "    </tr>\n",
       "    <tr>\n",
       "      <th>1</th>\n",
       "      <td>belladoll1021</td>\n",
       "      <td>Health</td>\n",
       "      <td>1</td>\n",
       "      <td>Anxiety</td>\n",
       "      <td>1606687615</td>\n",
       "      <td>tight throat can a tight throat and gagging fe...</td>\n",
       "      <td>[tight throat can a tight throat and gagging f...</td>\n",
       "      <td>[?]</td>\n",
       "      <td>0</td>\n",
       "      <td>1</td>\n",
       "    </tr>\n",
       "    <tr>\n",
       "      <th>2</th>\n",
       "      <td>ashwinderegg</td>\n",
       "      <td>Advice Needed</td>\n",
       "      <td>3</td>\n",
       "      <td>Anxiety</td>\n",
       "      <td>1606687588</td>\n",
       "      <td>anxiety overriding my intuition. does anyone e...</td>\n",
       "      <td>[anxiety overriding my intuition., does anyone...</td>\n",
       "      <td>[., ?, ., ., ., ., ., ., ,, ', ., ., ?]</td>\n",
       "      <td>0</td>\n",
       "      <td>13</td>\n",
       "    </tr>\n",
       "    <tr>\n",
       "      <th>4</th>\n",
       "      <td>lachapoxxx</td>\n",
       "      <td>Advice Needed</td>\n",
       "      <td>1</td>\n",
       "      <td>Anxiety</td>\n",
       "      <td>1606687488</td>\n",
       "      <td>hey friends! i need some advice my anxiety has...</td>\n",
       "      <td>[hey friends!, i need some advice my anxiety h...</td>\n",
       "      <td>[!, ,, ,, ., ?]</td>\n",
       "      <td>0</td>\n",
       "      <td>5</td>\n",
       "    </tr>\n",
       "    <tr>\n",
       "      <th>5</th>\n",
       "      <td>hayhay1105</td>\n",
       "      <td>Therapy</td>\n",
       "      <td>0</td>\n",
       "      <td>Anxiety</td>\n",
       "      <td>1606687339</td>\n",
       "      <td>oh boy do you ever get physically sick thinkin...</td>\n",
       "      <td>[oh boy do you ever get physically sick thinki...</td>\n",
       "      <td>[', ?, ?]</td>\n",
       "      <td>[??]</td>\n",
       "      <td>3</td>\n",
       "    </tr>\n",
       "  </tbody>\n",
       "</table>\n",
       "</div>"
      ],
      "text/plain": [
       "          author link_flair_text  num_comments subreddit  created_utc  \\\n",
       "0       JackW357   DAE Questions             9   Anxiety   1606687976   \n",
       "1  belladoll1021          Health             1   Anxiety   1606687615   \n",
       "2   ashwinderegg   Advice Needed             3   Anxiety   1606687588   \n",
       "4     lachapoxxx   Advice Needed             1   Anxiety   1606687488   \n",
       "5     hayhay1105         Therapy             0   Anxiety   1606687339   \n",
       "\n",
       "                                                text  \\\n",
       "0  anyone else scared of dying and scared of when...   \n",
       "1  tight throat can a tight throat and gagging fe...   \n",
       "2  anxiety overriding my intuition. does anyone e...   \n",
       "4  hey friends! i need some advice my anxiety has...   \n",
       "5  oh boy do you ever get physically sick thinkin...   \n",
       "\n",
       "                                      sent_tokenized  \\\n",
       "0  [anyone else scared of dying and scared of whe...   \n",
       "1  [tight throat can a tight throat and gagging f...   \n",
       "2  [anxiety overriding my intuition., does anyone...   \n",
       "4  [hey friends!, i need some advice my anxiety h...   \n",
       "5  [oh boy do you ever get physically sick thinki...   \n",
       "\n",
       "                          punctuation_used repeated_punct  punctuation_count  \n",
       "0                             [?, ?, ?, ?]         [????]                  4  \n",
       "1                                      [?]              0                  1  \n",
       "2  [., ?, ., ., ., ., ., ., ,, ', ., ., ?]              0                 13  \n",
       "4                          [!, ,, ,, ., ?]              0                  5  \n",
       "5                                [', ?, ?]           [??]                  3  "
      ]
     },
     "execution_count": 26,
     "metadata": {},
     "output_type": "execute_result"
    }
   ],
   "source": [
    "df.head()"
   ]
  },
  {
   "cell_type": "code",
   "execution_count": 27,
   "id": "20023dd4-405e-4634-8fda-969261dbd478",
   "metadata": {
    "tags": []
   },
   "outputs": [
    {
     "data": {
      "text/plain": [
       "0    [????]\n",
       "Name: repeated_punct, dtype: object"
      ]
     },
     "execution_count": 27,
     "metadata": {},
     "output_type": "execute_result"
    }
   ],
   "source": [
    "pd.option_context('display.max_colwidth', -1)\n",
    "df['repeated_punct'].head(1)"
   ]
  },
  {
   "cell_type": "code",
   "execution_count": 28,
   "id": "62549427-eaad-4a05-b9a0-687bc176dbe0",
   "metadata": {},
   "outputs": [
    {
     "data": {
      "text/plain": [
       "Anxiety    0.503787\n",
       "writing    0.496213\n",
       "Name: subreddit, dtype: float64"
      ]
     },
     "execution_count": 28,
     "metadata": {},
     "output_type": "execute_result"
    }
   ],
   "source": [
    "# Defining our Baseline with post counts, which some duplicates were dropped\n",
    "df['subreddit'].value_counts(normalize = True)"
   ]
  },
  {
   "cell_type": "code",
   "execution_count": 29,
   "id": "6369cd7c-40f0-421c-9fe5-0e00b304ed50",
   "metadata": {},
   "outputs": [],
   "source": [
    "# Extending my list of stop words\n",
    "stop_words = stopwords.words(\"english\")\n",
    "new_stop_words = ['like', 'just', 'don', 've', 'know', 'time', 'really', \n",
    "                'want', 'people', 'going', 'think', 'make', 'day', \n",
    "                'https', 'com', 'much', 'something', 'would', 'go',\n",
    "               'even', 'things', 'also', 'got', 'www', 'could', 'take', 'anxiety', 'writer']\n",
    "stop_words.extend(new_stop_words)"
   ]
  },
  {
   "cell_type": "code",
   "execution_count": 30,
   "id": "efeb0f83-baf9-412d-a512-f8169b4c4512",
   "metadata": {},
   "outputs": [],
   "source": [
    "# Instantiate tokenizer.\n",
    "tokenizer = RegexpTokenizer('\\s+', gaps=True)"
   ]
  },
  {
   "cell_type": "code",
   "execution_count": 31,
   "id": "4f501648-0f7a-4482-83e3-fc5dad416d02",
   "metadata": {},
   "outputs": [],
   "source": [
    "# Run tokenizer.\n",
    "df['tokens'] = df[\"text\"].apply(tokenizer.tokenize)"
   ]
  },
  {
   "cell_type": "code",
   "execution_count": 32,
   "id": "d6194e79-60ab-4c9e-b55a-ca4a599a61e2",
   "metadata": {},
   "outputs": [],
   "source": [
    "# Instantiate lemmatizer. \n",
    "lemmatizer = WordNetLemmatizer()"
   ]
  },
  {
   "cell_type": "code",
   "execution_count": 33,
   "id": "2c16f71a-bc49-4808-9041-626e0c2449c5",
   "metadata": {},
   "outputs": [
    {
     "data": {
      "text/plain": [
       "0       ['anyone', 'else', 'scared', 'of', 'dying', 'a...\n",
       "1       ['tight', 'throat', 'can', 'a', 'tight', 'thro...\n",
       "2       ['anxiety', 'overriding', 'my', 'intuition.', ...\n",
       "4       ['hey', 'friends!', 'i', 'need', 'some', 'advi...\n",
       "5       ['oh', 'boy', 'do', 'you', 'ever', 'get', 'phy...\n",
       "                              ...                        \n",
       "5995    ['an', 'idea', 'for', 'a', 'story', 'so', 'i',...\n",
       "5996    ['differentiating', 'between', 'character', 's...\n",
       "5997    ['proper', 'time', 'to', 'introduce', 'the', '...\n",
       "5998    ['possible', 'copyright', 'issues?', \"i'm\", 'w...\n",
       "5999    ['a', 'poem', 'i', 'wrote', 'called', '\"anothe...\n",
       "Name: tokens_lem, Length: 5941, dtype: object"
      ]
     },
     "execution_count": 33,
     "metadata": {},
     "output_type": "execute_result"
    }
   ],
   "source": [
    "# Lemmatize tokens.\n",
    "df['tokens_lem'] = [lemmatizer.lemmatize(str(i)) for i in df['tokens']]\n",
    "df['tokens_lem']"
   ]
  },
  {
   "cell_type": "code",
   "execution_count": 34,
   "id": "2d15cd9d-d044-47ce-9e6d-307371f0fd51",
   "metadata": {},
   "outputs": [],
   "source": [
    "# Remove stopwords from \"tokens.\"\n",
    "df['no_stop_words'] = [word for word in df['tokens_lem'] if word not in stopwords.words('english')]"
   ]
  },
  {
   "cell_type": "code",
   "execution_count": 35,
   "id": "419d7e48-f0db-451d-85f6-a16c2976f536",
   "metadata": {},
   "outputs": [],
   "source": [
    "df['subreddit'] = df['subreddit'].map({'Anxiety': 1, 'writing':0})"
   ]
  },
  {
   "cell_type": "markdown",
   "id": "5a7f06f5-c4e0-46e5-b464-d0c6f6d0bfdd",
   "metadata": {},
   "source": [
    "### Drop duplicates"
   ]
  },
  {
   "cell_type": "code",
   "execution_count": 36,
   "id": "8bb38ea3-8efd-4f60-a644-e7ff205247c5",
   "metadata": {},
   "outputs": [
    {
     "data": {
      "text/plain": [
       "'Before we had 5941 texts, now we have 5941'"
      ]
     },
     "execution_count": 36,
     "metadata": {},
     "output_type": "execute_result"
    }
   ],
   "source": [
    "# Count the number of headlines in scored_news (store as integer)\n",
    "num_before = df.text.count()\n",
    "# Drop duplicates based on ticker and headline\n",
    "df_clean = df.drop_duplicates(subset=['text', 'subreddit'])\n",
    "# Count number of posts after dropping duplicates (store as integer)\n",
    "num_after = df_clean.text.count()\n",
    "# Print before and after numbers to get an idea of how we did\n",
    "f\"Before we had {num_before} texts, now we have {num_after}\""
   ]
  },
  {
   "cell_type": "markdown",
   "id": "4fe840e8-00d5-47e0-8f90-de53754106a4",
   "metadata": {},
   "source": [
    "### Adding punctuation weights to sentiment analysis"
   ]
  },
  {
   "cell_type": "code",
   "execution_count": 46,
   "id": "edb63141-8a39-4868-93cf-80a744c50ff3",
   "metadata": {},
   "outputs": [
    {
     "data": {
      "text/html": [
       "<div>\n",
       "<style scoped>\n",
       "    .dataframe tbody tr th:only-of-type {\n",
       "        vertical-align: middle;\n",
       "    }\n",
       "\n",
       "    .dataframe tbody tr th {\n",
       "        vertical-align: top;\n",
       "    }\n",
       "\n",
       "    .dataframe thead th {\n",
       "        text-align: right;\n",
       "    }\n",
       "</style>\n",
       "<table border=\"1\" class=\"dataframe\">\n",
       "  <thead>\n",
       "    <tr style=\"text-align: right;\">\n",
       "      <th></th>\n",
       "      <th>negative</th>\n",
       "      <th>neutral</th>\n",
       "      <th>positive</th>\n",
       "    </tr>\n",
       "  </thead>\n",
       "  <tbody>\n",
       "    <tr>\n",
       "      <th>0</th>\n",
       "      <td>0.529</td>\n",
       "      <td>0.471</td>\n",
       "      <td>0.000</td>\n",
       "    </tr>\n",
       "    <tr>\n",
       "      <th>1</th>\n",
       "      <td>0.152</td>\n",
       "      <td>0.714</td>\n",
       "      <td>0.134</td>\n",
       "    </tr>\n",
       "    <tr>\n",
       "      <th>2</th>\n",
       "      <td>0.124</td>\n",
       "      <td>0.704</td>\n",
       "      <td>0.171</td>\n",
       "    </tr>\n",
       "    <tr>\n",
       "      <th>4</th>\n",
       "      <td>0.146</td>\n",
       "      <td>0.662</td>\n",
       "      <td>0.192</td>\n",
       "    </tr>\n",
       "    <tr>\n",
       "      <th>5</th>\n",
       "      <td>0.129</td>\n",
       "      <td>0.803</td>\n",
       "      <td>0.068</td>\n",
       "    </tr>\n",
       "    <tr>\n",
       "      <th>6</th>\n",
       "      <td>0.239</td>\n",
       "      <td>0.699</td>\n",
       "      <td>0.061</td>\n",
       "    </tr>\n",
       "    <tr>\n",
       "      <th>7</th>\n",
       "      <td>0.183</td>\n",
       "      <td>0.765</td>\n",
       "      <td>0.052</td>\n",
       "    </tr>\n",
       "    <tr>\n",
       "      <th>8</th>\n",
       "      <td>0.063</td>\n",
       "      <td>0.781</td>\n",
       "      <td>0.156</td>\n",
       "    </tr>\n",
       "    <tr>\n",
       "      <th>9</th>\n",
       "      <td>0.089</td>\n",
       "      <td>0.874</td>\n",
       "      <td>0.037</td>\n",
       "    </tr>\n",
       "    <tr>\n",
       "      <th>10</th>\n",
       "      <td>0.046</td>\n",
       "      <td>0.866</td>\n",
       "      <td>0.088</td>\n",
       "    </tr>\n",
       "    <tr>\n",
       "      <th>11</th>\n",
       "      <td>0.158</td>\n",
       "      <td>0.745</td>\n",
       "      <td>0.096</td>\n",
       "    </tr>\n",
       "    <tr>\n",
       "      <th>12</th>\n",
       "      <td>0.066</td>\n",
       "      <td>0.779</td>\n",
       "      <td>0.154</td>\n",
       "    </tr>\n",
       "    <tr>\n",
       "      <th>13</th>\n",
       "      <td>0.262</td>\n",
       "      <td>0.623</td>\n",
       "      <td>0.115</td>\n",
       "    </tr>\n",
       "    <tr>\n",
       "      <th>14</th>\n",
       "      <td>0.182</td>\n",
       "      <td>0.744</td>\n",
       "      <td>0.074</td>\n",
       "    </tr>\n",
       "    <tr>\n",
       "      <th>15</th>\n",
       "      <td>0.069</td>\n",
       "      <td>0.756</td>\n",
       "      <td>0.175</td>\n",
       "    </tr>\n",
       "    <tr>\n",
       "      <th>16</th>\n",
       "      <td>0.228</td>\n",
       "      <td>0.623</td>\n",
       "      <td>0.148</td>\n",
       "    </tr>\n",
       "    <tr>\n",
       "      <th>17</th>\n",
       "      <td>0.118</td>\n",
       "      <td>0.779</td>\n",
       "      <td>0.103</td>\n",
       "    </tr>\n",
       "    <tr>\n",
       "      <th>18</th>\n",
       "      <td>0.267</td>\n",
       "      <td>0.570</td>\n",
       "      <td>0.163</td>\n",
       "    </tr>\n",
       "    <tr>\n",
       "      <th>19</th>\n",
       "      <td>0.055</td>\n",
       "      <td>0.824</td>\n",
       "      <td>0.122</td>\n",
       "    </tr>\n",
       "    <tr>\n",
       "      <th>20</th>\n",
       "      <td>0.200</td>\n",
       "      <td>0.691</td>\n",
       "      <td>0.109</td>\n",
       "    </tr>\n",
       "  </tbody>\n",
       "</table>\n",
       "</div>"
      ],
      "text/plain": [
       "    negative  neutral  positive\n",
       "0      0.529    0.471     0.000\n",
       "1      0.152    0.714     0.134\n",
       "2      0.124    0.704     0.171\n",
       "4      0.146    0.662     0.192\n",
       "5      0.129    0.803     0.068\n",
       "6      0.239    0.699     0.061\n",
       "7      0.183    0.765     0.052\n",
       "8      0.063    0.781     0.156\n",
       "9      0.089    0.874     0.037\n",
       "10     0.046    0.866     0.088\n",
       "11     0.158    0.745     0.096\n",
       "12     0.066    0.779     0.154\n",
       "13     0.262    0.623     0.115\n",
       "14     0.182    0.744     0.074\n",
       "15     0.069    0.756     0.175\n",
       "16     0.228    0.623     0.148\n",
       "17     0.118    0.779     0.103\n",
       "18     0.267    0.570     0.163\n",
       "19     0.055    0.824     0.122\n",
       "20     0.200    0.691     0.109"
      ]
     },
     "execution_count": 46,
     "metadata": {},
     "output_type": "execute_result"
    }
   ],
   "source": [
    "df.head(20)"
   ]
  },
  {
   "cell_type": "code",
   "execution_count": 38,
   "id": "69b5a18c-c248-4136-992d-2e06346e0a1b",
   "metadata": {},
   "outputs": [],
   "source": [
    "# New words and values\n",
    "new_words = {\n",
    "'???': -1,\n",
    "'...': -0.3,\n",
    "'?!?!': -1.5,\n",
    "'!!!': -1\n",
    "}\n",
    "# Instantiate the sentiment intensity analyzer with the existing lexicon\n",
    "vader = SentimentIntensityAnalyzer()\n",
    "# Update the lexicon\n",
    "vader.lexicon.update(new_words)"
   ]
  },
  {
   "cell_type": "code",
   "execution_count": 39,
   "id": "47005e53-0724-4e44-9dc4-f3e24aac7d03",
   "metadata": {},
   "outputs": [],
   "source": [
    "columns = ['subreddit', 'text', 'created_utc']\n",
    "scores = [vader.polarity_scores(str(word)) for word in df.text]\n",
    "scored_df = pd.DataFrame(scores)\n",
    "df = df.join(scored_df)"
   ]
  },
  {
   "cell_type": "code",
   "execution_count": 45,
   "id": "283880bb-1c84-4fc7-bba8-64275c85d154",
   "metadata": {},
   "outputs": [
    {
     "data": {
      "text/html": [
       "<div>\n",
       "<style scoped>\n",
       "    .dataframe tbody tr th:only-of-type {\n",
       "        vertical-align: middle;\n",
       "    }\n",
       "\n",
       "    .dataframe tbody tr th {\n",
       "        vertical-align: top;\n",
       "    }\n",
       "\n",
       "    .dataframe thead th {\n",
       "        text-align: right;\n",
       "    }\n",
       "</style>\n",
       "<table border=\"1\" class=\"dataframe\">\n",
       "  <thead>\n",
       "    <tr style=\"text-align: right;\">\n",
       "      <th></th>\n",
       "      <th>negative</th>\n",
       "      <th>neutral</th>\n",
       "      <th>positive</th>\n",
       "    </tr>\n",
       "  </thead>\n",
       "  <tbody>\n",
       "    <tr>\n",
       "      <th>0</th>\n",
       "      <td>0.529</td>\n",
       "      <td>0.471</td>\n",
       "      <td>0.000</td>\n",
       "    </tr>\n",
       "    <tr>\n",
       "      <th>1</th>\n",
       "      <td>0.152</td>\n",
       "      <td>0.714</td>\n",
       "      <td>0.134</td>\n",
       "    </tr>\n",
       "    <tr>\n",
       "      <th>2</th>\n",
       "      <td>0.124</td>\n",
       "      <td>0.704</td>\n",
       "      <td>0.171</td>\n",
       "    </tr>\n",
       "    <tr>\n",
       "      <th>4</th>\n",
       "      <td>0.146</td>\n",
       "      <td>0.662</td>\n",
       "      <td>0.192</td>\n",
       "    </tr>\n",
       "    <tr>\n",
       "      <th>5</th>\n",
       "      <td>0.129</td>\n",
       "      <td>0.803</td>\n",
       "      <td>0.068</td>\n",
       "    </tr>\n",
       "    <tr>\n",
       "      <th>6</th>\n",
       "      <td>0.239</td>\n",
       "      <td>0.699</td>\n",
       "      <td>0.061</td>\n",
       "    </tr>\n",
       "    <tr>\n",
       "      <th>7</th>\n",
       "      <td>0.183</td>\n",
       "      <td>0.765</td>\n",
       "      <td>0.052</td>\n",
       "    </tr>\n",
       "    <tr>\n",
       "      <th>8</th>\n",
       "      <td>0.063</td>\n",
       "      <td>0.781</td>\n",
       "      <td>0.156</td>\n",
       "    </tr>\n",
       "    <tr>\n",
       "      <th>9</th>\n",
       "      <td>0.089</td>\n",
       "      <td>0.874</td>\n",
       "      <td>0.037</td>\n",
       "    </tr>\n",
       "    <tr>\n",
       "      <th>10</th>\n",
       "      <td>0.046</td>\n",
       "      <td>0.866</td>\n",
       "      <td>0.088</td>\n",
       "    </tr>\n",
       "    <tr>\n",
       "      <th>11</th>\n",
       "      <td>0.158</td>\n",
       "      <td>0.745</td>\n",
       "      <td>0.096</td>\n",
       "    </tr>\n",
       "    <tr>\n",
       "      <th>12</th>\n",
       "      <td>0.066</td>\n",
       "      <td>0.779</td>\n",
       "      <td>0.154</td>\n",
       "    </tr>\n",
       "    <tr>\n",
       "      <th>13</th>\n",
       "      <td>0.262</td>\n",
       "      <td>0.623</td>\n",
       "      <td>0.115</td>\n",
       "    </tr>\n",
       "    <tr>\n",
       "      <th>14</th>\n",
       "      <td>0.182</td>\n",
       "      <td>0.744</td>\n",
       "      <td>0.074</td>\n",
       "    </tr>\n",
       "    <tr>\n",
       "      <th>15</th>\n",
       "      <td>0.069</td>\n",
       "      <td>0.756</td>\n",
       "      <td>0.175</td>\n",
       "    </tr>\n",
       "    <tr>\n",
       "      <th>16</th>\n",
       "      <td>0.228</td>\n",
       "      <td>0.623</td>\n",
       "      <td>0.148</td>\n",
       "    </tr>\n",
       "    <tr>\n",
       "      <th>17</th>\n",
       "      <td>0.118</td>\n",
       "      <td>0.779</td>\n",
       "      <td>0.103</td>\n",
       "    </tr>\n",
       "    <tr>\n",
       "      <th>18</th>\n",
       "      <td>0.267</td>\n",
       "      <td>0.570</td>\n",
       "      <td>0.163</td>\n",
       "    </tr>\n",
       "    <tr>\n",
       "      <th>19</th>\n",
       "      <td>0.055</td>\n",
       "      <td>0.824</td>\n",
       "      <td>0.122</td>\n",
       "    </tr>\n",
       "    <tr>\n",
       "      <th>20</th>\n",
       "      <td>0.200</td>\n",
       "      <td>0.691</td>\n",
       "      <td>0.109</td>\n",
       "    </tr>\n",
       "  </tbody>\n",
       "</table>\n",
       "</div>"
      ],
      "text/plain": [
       "    negative  neutral  positive\n",
       "0      0.529    0.471     0.000\n",
       "1      0.152    0.714     0.134\n",
       "2      0.124    0.704     0.171\n",
       "4      0.146    0.662     0.192\n",
       "5      0.129    0.803     0.068\n",
       "6      0.239    0.699     0.061\n",
       "7      0.183    0.765     0.052\n",
       "8      0.063    0.781     0.156\n",
       "9      0.089    0.874     0.037\n",
       "10     0.046    0.866     0.088\n",
       "11     0.158    0.745     0.096\n",
       "12     0.066    0.779     0.154\n",
       "13     0.262    0.623     0.115\n",
       "14     0.182    0.744     0.074\n",
       "15     0.069    0.756     0.175\n",
       "16     0.228    0.623     0.148\n",
       "17     0.118    0.779     0.103\n",
       "18     0.267    0.570     0.163\n",
       "19     0.055    0.824     0.122\n",
       "20     0.200    0.691     0.109"
      ]
     },
     "execution_count": 45,
     "metadata": {},
     "output_type": "execute_result"
    }
   ],
   "source": [
    "df.head(20)"
   ]
  },
  {
   "cell_type": "code",
   "execution_count": 41,
   "id": "c9a4d160-ff8f-43d8-8f66-85a988e8f65f",
   "metadata": {},
   "outputs": [],
   "source": [
    "# Making a date column from created utc, unstacking\n",
    "df['date'] = pd.to_datetime(df['created_utc'], unit = 's').dt.date\n",
    "df_date = df.groupby(['date', 'subreddit']).mean()\n",
    "df_unstacked = df_date.unstack('subreddit')\n",
    "df_cross = df_unstacked.xs(\"compound\", axis=\"columns\")"
   ]
  },
  {
   "cell_type": "code",
   "execution_count": 42,
   "id": "fadb2229-1d57-46ea-a04f-85d0d7ac606e",
   "metadata": {},
   "outputs": [
    {
     "data": {
      "image/png": "[encoded data removed]",
      "text/plain": [
       "<Figure size 720x432 with 1 Axes>"
      ]
     },
     "metadata": {
      "needs_background": "light"
     },
     "output_type": "display_data"
    }
   ],
   "source": [
    "# Group by date and subreddit columns from body and calculate the mean\n",
    "mean_c = df.groupby(['date', 'subreddit']).mean()\n",
    "# Unstack the column subreddit\n",
    "mean_c = mean_c.unstack('subreddit')\n",
    "# Get the cross-section of compound sentitivity analysis in the 'columns' axis\n",
    "mean_c = mean_c.xs(\"compound\", axis=\"columns\")\n",
    "# Plot a bar chart with pandas\n",
    "mean_c.plot.bar(figsize = (10, 6))\n",
    "plt.legend([\"Writing\", \"Anxiety\"])\n",
    "plt.savefig('sentiment_small.png');"
   ]
  },
  {
   "cell_type": "code",
   "execution_count": 43,
   "id": "845ad267-cf50-47cf-bf97-c78ff199c09d",
   "metadata": {},
   "outputs": [
    {
     "data": {
      "image/png": "[encoded data removed]",
      "text/plain": [
       "<Figure size 7200x4320 with 1 Axes>"
      ]
     },
     "metadata": {
      "needs_background": "light"
     },
     "output_type": "display_data"
    }
   ],
   "source": [
    "TITLE = \"Negative, neutral, and positive sentiment for Both Subreddits\"\n",
    "COLORS = [\"red\",\"white\", \"green\"]\n",
    "# Drop the columns that aren't useful for the plot\n",
    "df = df[['neg', 'neu', 'pos']]\n",
    "# Change the column names to 'negative', 'positive', and 'neutral'\n",
    "df.columns = ['negative', 'neutral', 'positive']\n",
    "# Plot a stacked bar chart\n",
    "df.plot.bar(stacked = True, figsize=(100, 60),\n",
    "title = TITLE, color = COLORS).legend(bbox_to_anchor=(0.2, 0.5), borderpad=5.5, labelspacing=1.5)\n",
    "plt.savefig('Punctuation_negative_neutral_positive.png');"
   ]
  }
 ],
 "metadata": {
  "kernelspec": {
   "display_name": "Python [conda env:nlp]",
   "language": "python",
   "name": "conda-env-nlp-py"
  },
  "language_info": {
   "codemirror_mode": {
    "name": "ipython",
    "version": 3
   },
   "file_extension": ".py",
   "mimetype": "text/x-python",
   "name": "python",
   "nbconvert_exporter": "python",
   "pygments_lexer": "ipython3",
   "version": "3.8.11"
  }
 },
 "nbformat": 4,
 "nbformat_minor": 5
}
