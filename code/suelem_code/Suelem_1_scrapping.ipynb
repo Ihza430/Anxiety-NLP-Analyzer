{
 "cells": [
  {
   "cell_type": "markdown",
   "id": "96005b51-48e4-44ce-b8d6-dcd66177f7f6",
   "metadata": {},
   "source": [
    "# Scrapping\n",
    "---"
   ]
  },
  {
   "cell_type": "code",
   "execution_count": 1,
   "id": "d5f0c53d-f606-41a1-ade5-a1d73ae185b2",
   "metadata": {
    "tags": []
   },
   "outputs": [],
   "source": [
    "import requests\n",
    "import pandas as pd\n",
    "import time\n",
    "from pmaw import PushshiftAPI\n",
    "import datetime as dt"
   ]
  },
  {
   "cell_type": "code",
   "execution_count": 2,
   "id": "532b0db0-1871-4832-a03d-810ee42ef134",
   "metadata": {},
   "outputs": [],
   "source": [
    "api = PushshiftAPI()\n",
    "subreddit=\"Anxiety\"\n",
    "limit=3000"
   ]
  },
  {
   "cell_type": "code",
   "execution_count": 3,
   "id": "ffc2ebdb-a617-4c54-9c58-eadec5b93fc7",
   "metadata": {},
   "outputs": [
    {
     "name": "stderr",
     "output_type": "stream",
     "text": [
      "Not all PushShift shards are active. Query results may be incomplete.\n",
      "Not all PushShift shards are active. Query results may be incomplete.\n"
     ]
    },
    {
     "name": "stdout",
     "output_type": "stream",
     "text": [
      "Total:: Success Rate: 85.71% - Requests: 35 - Batches: 4 - Items Remaining: 0\n"
     ]
    }
   ],
   "source": [
    "submissions = api.search_submissions(subreddit=subreddit, limit=limit)"
   ]
  },
  {
   "cell_type": "code",
   "execution_count": 4,
   "id": "98f29eec-667b-42d2-b299-9f6d180fc734",
   "metadata": {},
   "outputs": [
    {
     "name": "stdout",
     "output_type": "stream",
     "text": [
      "Retrieved 3000 comments from Pushshift\n"
     ]
    }
   ],
   "source": [
    "print(f'Retrieved {len(submissions)} comments from Pushshift')"
   ]
  },
  {
   "cell_type": "code",
   "execution_count": 5,
   "id": "3ffff91a-a265-4816-a7a4-0f1460119105",
   "metadata": {},
   "outputs": [],
   "source": [
    "submissions_df = pd.DataFrame(submissions)"
   ]
  },
  {
   "cell_type": "code",
   "execution_count": 6,
   "id": "b0e311fc-f5a2-4da1-b39d-06a6acc3c259",
   "metadata": {},
   "outputs": [
    {
     "data": {
      "text/html": [
       "<div>\n",
       "<style scoped>\n",
       "    .dataframe tbody tr th:only-of-type {\n",
       "        vertical-align: middle;\n",
       "    }\n",
       "\n",
       "    .dataframe tbody tr th {\n",
       "        vertical-align: top;\n",
       "    }\n",
       "\n",
       "    .dataframe thead th {\n",
       "        text-align: right;\n",
       "    }\n",
       "</style>\n",
       "<table border=\"1\" class=\"dataframe\">\n",
       "  <thead>\n",
       "    <tr style=\"text-align: right;\">\n",
       "      <th></th>\n",
       "      <th>all_awardings</th>\n",
       "      <th>allow_live_comments</th>\n",
       "      <th>author</th>\n",
       "      <th>author_flair_css_class</th>\n",
       "      <th>author_flair_richtext</th>\n",
       "      <th>author_flair_text</th>\n",
       "      <th>author_flair_type</th>\n",
       "      <th>author_fullname</th>\n",
       "      <th>author_patreon_flair</th>\n",
       "      <th>author_premium</th>\n",
       "      <th>...</th>\n",
       "      <th>removed_by_category</th>\n",
       "      <th>author_flair_template_id</th>\n",
       "      <th>author_flair_text_color</th>\n",
       "      <th>author_flair_background_color</th>\n",
       "      <th>edited</th>\n",
       "      <th>author_cakeday</th>\n",
       "      <th>is_created_from_ads_ui</th>\n",
       "      <th>author_is_blocked</th>\n",
       "      <th>distinguished</th>\n",
       "      <th>banned_by</th>\n",
       "    </tr>\n",
       "  </thead>\n",
       "  <tbody>\n",
       "    <tr>\n",
       "      <th>0</th>\n",
       "      <td>[]</td>\n",
       "      <td>False</td>\n",
       "      <td>JackW357</td>\n",
       "      <td>None</td>\n",
       "      <td>[]</td>\n",
       "      <td>None</td>\n",
       "      <td>text</td>\n",
       "      <td>t2_86tvd1p6</td>\n",
       "      <td>False</td>\n",
       "      <td>False</td>\n",
       "      <td>...</td>\n",
       "      <td>NaN</td>\n",
       "      <td>NaN</td>\n",
       "      <td>NaN</td>\n",
       "      <td>NaN</td>\n",
       "      <td>NaN</td>\n",
       "      <td>NaN</td>\n",
       "      <td>NaN</td>\n",
       "      <td>NaN</td>\n",
       "      <td>NaN</td>\n",
       "      <td>NaN</td>\n",
       "    </tr>\n",
       "    <tr>\n",
       "      <th>1</th>\n",
       "      <td>[]</td>\n",
       "      <td>False</td>\n",
       "      <td>belladoll1021</td>\n",
       "      <td>None</td>\n",
       "      <td>[]</td>\n",
       "      <td>None</td>\n",
       "      <td>text</td>\n",
       "      <td>t2_3imzzz6p</td>\n",
       "      <td>False</td>\n",
       "      <td>False</td>\n",
       "      <td>...</td>\n",
       "      <td>NaN</td>\n",
       "      <td>NaN</td>\n",
       "      <td>NaN</td>\n",
       "      <td>NaN</td>\n",
       "      <td>NaN</td>\n",
       "      <td>NaN</td>\n",
       "      <td>NaN</td>\n",
       "      <td>NaN</td>\n",
       "      <td>NaN</td>\n",
       "      <td>NaN</td>\n",
       "    </tr>\n",
       "    <tr>\n",
       "      <th>2</th>\n",
       "      <td>[]</td>\n",
       "      <td>False</td>\n",
       "      <td>ashwinderegg</td>\n",
       "      <td>None</td>\n",
       "      <td>[]</td>\n",
       "      <td>None</td>\n",
       "      <td>text</td>\n",
       "      <td>t2_3o3tfuf3</td>\n",
       "      <td>False</td>\n",
       "      <td>False</td>\n",
       "      <td>...</td>\n",
       "      <td>NaN</td>\n",
       "      <td>NaN</td>\n",
       "      <td>NaN</td>\n",
       "      <td>NaN</td>\n",
       "      <td>NaN</td>\n",
       "      <td>NaN</td>\n",
       "      <td>NaN</td>\n",
       "      <td>NaN</td>\n",
       "      <td>NaN</td>\n",
       "      <td>NaN</td>\n",
       "    </tr>\n",
       "    <tr>\n",
       "      <th>3</th>\n",
       "      <td>[]</td>\n",
       "      <td>False</td>\n",
       "      <td>ashwinderegg</td>\n",
       "      <td>None</td>\n",
       "      <td>[]</td>\n",
       "      <td>None</td>\n",
       "      <td>text</td>\n",
       "      <td>t2_3o3tfuf3</td>\n",
       "      <td>False</td>\n",
       "      <td>False</td>\n",
       "      <td>...</td>\n",
       "      <td>NaN</td>\n",
       "      <td>NaN</td>\n",
       "      <td>NaN</td>\n",
       "      <td>NaN</td>\n",
       "      <td>NaN</td>\n",
       "      <td>NaN</td>\n",
       "      <td>NaN</td>\n",
       "      <td>NaN</td>\n",
       "      <td>NaN</td>\n",
       "      <td>NaN</td>\n",
       "    </tr>\n",
       "    <tr>\n",
       "      <th>4</th>\n",
       "      <td>[]</td>\n",
       "      <td>False</td>\n",
       "      <td>lachapoxxx</td>\n",
       "      <td>None</td>\n",
       "      <td>[]</td>\n",
       "      <td>None</td>\n",
       "      <td>text</td>\n",
       "      <td>t2_93gbsj7i</td>\n",
       "      <td>False</td>\n",
       "      <td>False</td>\n",
       "      <td>...</td>\n",
       "      <td>NaN</td>\n",
       "      <td>NaN</td>\n",
       "      <td>NaN</td>\n",
       "      <td>NaN</td>\n",
       "      <td>NaN</td>\n",
       "      <td>NaN</td>\n",
       "      <td>NaN</td>\n",
       "      <td>NaN</td>\n",
       "      <td>NaN</td>\n",
       "      <td>NaN</td>\n",
       "    </tr>\n",
       "  </tbody>\n",
       "</table>\n",
       "<p>5 rows × 72 columns</p>\n",
       "</div>"
      ],
      "text/plain": [
       "  all_awardings  allow_live_comments         author author_flair_css_class  \\\n",
       "0            []                False       JackW357                   None   \n",
       "1            []                False  belladoll1021                   None   \n",
       "2            []                False   ashwinderegg                   None   \n",
       "3            []                False   ashwinderegg                   None   \n",
       "4            []                False     lachapoxxx                   None   \n",
       "\n",
       "  author_flair_richtext author_flair_text author_flair_type author_fullname  \\\n",
       "0                    []              None              text     t2_86tvd1p6   \n",
       "1                    []              None              text     t2_3imzzz6p   \n",
       "2                    []              None              text     t2_3o3tfuf3   \n",
       "3                    []              None              text     t2_3o3tfuf3   \n",
       "4                    []              None              text     t2_93gbsj7i   \n",
       "\n",
       "  author_patreon_flair author_premium  ... removed_by_category  \\\n",
       "0                False          False  ...                 NaN   \n",
       "1                False          False  ...                 NaN   \n",
       "2                False          False  ...                 NaN   \n",
       "3                False          False  ...                 NaN   \n",
       "4                False          False  ...                 NaN   \n",
       "\n",
       "   author_flair_template_id  author_flair_text_color  \\\n",
       "0                       NaN                      NaN   \n",
       "1                       NaN                      NaN   \n",
       "2                       NaN                      NaN   \n",
       "3                       NaN                      NaN   \n",
       "4                       NaN                      NaN   \n",
       "\n",
       "   author_flair_background_color edited author_cakeday is_created_from_ads_ui  \\\n",
       "0                            NaN    NaN            NaN                    NaN   \n",
       "1                            NaN    NaN            NaN                    NaN   \n",
       "2                            NaN    NaN            NaN                    NaN   \n",
       "3                            NaN    NaN            NaN                    NaN   \n",
       "4                            NaN    NaN            NaN                    NaN   \n",
       "\n",
       "  author_is_blocked  distinguished  banned_by  \n",
       "0               NaN            NaN        NaN  \n",
       "1               NaN            NaN        NaN  \n",
       "2               NaN            NaN        NaN  \n",
       "3               NaN            NaN        NaN  \n",
       "4               NaN            NaN        NaN  \n",
       "\n",
       "[5 rows x 72 columns]"
      ]
     },
     "execution_count": 6,
     "metadata": {},
     "output_type": "execute_result"
    }
   ],
   "source": [
    "submissions_df.head()"
   ]
  },
  {
   "cell_type": "code",
   "execution_count": 7,
   "id": "8fa6c1ae-f4bf-41ae-b1e5-8166db4cdfe7",
   "metadata": {},
   "outputs": [],
   "source": [
    "submissions_df.to_csv('../../data/original/anx_submissions.csv', header=True, index=False, columns=list(submissions_df.axes[1]))"
   ]
  },
  {
   "cell_type": "code",
   "execution_count": null,
   "id": "02a4e7f8-ae78-4c76-8a05-6e71774f1f3d",
   "metadata": {},
   "outputs": [],
   "source": []
  },
  {
   "cell_type": "code",
   "execution_count": 8,
   "id": "bf5f4981-6673-4b2a-bf8f-33d489f2a101",
   "metadata": {},
   "outputs": [],
   "source": [
    "api = PushshiftAPI()\n",
    "subreddit=\"writing\"\n",
    "limit=3000"
   ]
  },
  {
   "cell_type": "code",
   "execution_count": 9,
   "id": "3fc75d33-863d-4bd0-8e64-520e935d5de3",
   "metadata": {},
   "outputs": [
    {
     "name": "stderr",
     "output_type": "stream",
     "text": [
      "Not all PushShift shards are active. Query results may be incomplete.\n",
      "Not all PushShift shards are active. Query results may be incomplete.\n"
     ]
    },
    {
     "name": "stdout",
     "output_type": "stream",
     "text": [
      "Total:: Success Rate: 100.00% - Requests: 31 - Batches: 4 - Items Remaining: 0\n"
     ]
    }
   ],
   "source": [
    "submissions = api.search_submissions(subreddit=subreddit, limit=limit)"
   ]
  },
  {
   "cell_type": "code",
   "execution_count": 10,
   "id": "55943bfe-e045-40a1-bc90-2457672ae4e4",
   "metadata": {},
   "outputs": [
    {
     "name": "stdout",
     "output_type": "stream",
     "text": [
      "Retrieved 3000 comments from Pushshift\n"
     ]
    }
   ],
   "source": [
    "print(f'Retrieved {len(submissions)} comments from Pushshift')"
   ]
  },
  {
   "cell_type": "code",
   "execution_count": 11,
   "id": "96d65ff9-d388-4925-8d77-73f8f17ac374",
   "metadata": {},
   "outputs": [],
   "source": [
    "submissions_df = pd.DataFrame(submissions)"
   ]
  },
  {
   "cell_type": "code",
   "execution_count": 12,
   "id": "af179790-9075-46a0-bab1-e9bdbba52752",
   "metadata": {},
   "outputs": [
    {
     "data": {
      "text/html": [
       "<div>\n",
       "<style scoped>\n",
       "    .dataframe tbody tr th:only-of-type {\n",
       "        vertical-align: middle;\n",
       "    }\n",
       "\n",
       "    .dataframe tbody tr th {\n",
       "        vertical-align: top;\n",
       "    }\n",
       "\n",
       "    .dataframe thead th {\n",
       "        text-align: right;\n",
       "    }\n",
       "</style>\n",
       "<table border=\"1\" class=\"dataframe\">\n",
       "  <thead>\n",
       "    <tr style=\"text-align: right;\">\n",
       "      <th></th>\n",
       "      <th>all_awardings</th>\n",
       "      <th>allow_live_comments</th>\n",
       "      <th>author</th>\n",
       "      <th>author_flair_css_class</th>\n",
       "      <th>author_flair_richtext</th>\n",
       "      <th>author_flair_text</th>\n",
       "      <th>author_flair_type</th>\n",
       "      <th>author_fullname</th>\n",
       "      <th>author_patreon_flair</th>\n",
       "      <th>author_premium</th>\n",
       "      <th>...</th>\n",
       "      <th>distinguished</th>\n",
       "      <th>media</th>\n",
       "      <th>media_embed</th>\n",
       "      <th>secure_media</th>\n",
       "      <th>secure_media_embed</th>\n",
       "      <th>author_flair_background_color</th>\n",
       "      <th>edited</th>\n",
       "      <th>banned_by</th>\n",
       "      <th>is_created_from_ads_ui</th>\n",
       "      <th>author_is_blocked</th>\n",
       "    </tr>\n",
       "  </thead>\n",
       "  <tbody>\n",
       "    <tr>\n",
       "      <th>0</th>\n",
       "      <td>[]</td>\n",
       "      <td>False</td>\n",
       "      <td>Yersenie</td>\n",
       "      <td>None</td>\n",
       "      <td>[]</td>\n",
       "      <td>None</td>\n",
       "      <td>text</td>\n",
       "      <td>t2_9jnd5n8o</td>\n",
       "      <td>False</td>\n",
       "      <td>False</td>\n",
       "      <td>...</td>\n",
       "      <td>NaN</td>\n",
       "      <td>NaN</td>\n",
       "      <td>NaN</td>\n",
       "      <td>NaN</td>\n",
       "      <td>NaN</td>\n",
       "      <td>NaN</td>\n",
       "      <td>NaN</td>\n",
       "      <td>NaN</td>\n",
       "      <td>NaN</td>\n",
       "      <td>NaN</td>\n",
       "    </tr>\n",
       "    <tr>\n",
       "      <th>1</th>\n",
       "      <td>[]</td>\n",
       "      <td>False</td>\n",
       "      <td>hoe4hob1</td>\n",
       "      <td>None</td>\n",
       "      <td>[]</td>\n",
       "      <td>None</td>\n",
       "      <td>text</td>\n",
       "      <td>t2_8wg687lh</td>\n",
       "      <td>False</td>\n",
       "      <td>False</td>\n",
       "      <td>...</td>\n",
       "      <td>NaN</td>\n",
       "      <td>NaN</td>\n",
       "      <td>NaN</td>\n",
       "      <td>NaN</td>\n",
       "      <td>NaN</td>\n",
       "      <td>NaN</td>\n",
       "      <td>NaN</td>\n",
       "      <td>NaN</td>\n",
       "      <td>NaN</td>\n",
       "      <td>NaN</td>\n",
       "    </tr>\n",
       "    <tr>\n",
       "      <th>2</th>\n",
       "      <td>[]</td>\n",
       "      <td>False</td>\n",
       "      <td>Pagliacci_Baby</td>\n",
       "      <td>None</td>\n",
       "      <td>[]</td>\n",
       "      <td>None</td>\n",
       "      <td>text</td>\n",
       "      <td>t2_7d3owwgj</td>\n",
       "      <td>False</td>\n",
       "      <td>False</td>\n",
       "      <td>...</td>\n",
       "      <td>NaN</td>\n",
       "      <td>NaN</td>\n",
       "      <td>NaN</td>\n",
       "      <td>NaN</td>\n",
       "      <td>NaN</td>\n",
       "      <td>NaN</td>\n",
       "      <td>NaN</td>\n",
       "      <td>NaN</td>\n",
       "      <td>NaN</td>\n",
       "      <td>NaN</td>\n",
       "    </tr>\n",
       "    <tr>\n",
       "      <th>3</th>\n",
       "      <td>[]</td>\n",
       "      <td>False</td>\n",
       "      <td>Jp_web_agency</td>\n",
       "      <td>None</td>\n",
       "      <td>[]</td>\n",
       "      <td>None</td>\n",
       "      <td>text</td>\n",
       "      <td>t2_7tw9syp3</td>\n",
       "      <td>False</td>\n",
       "      <td>False</td>\n",
       "      <td>...</td>\n",
       "      <td>NaN</td>\n",
       "      <td>NaN</td>\n",
       "      <td>NaN</td>\n",
       "      <td>NaN</td>\n",
       "      <td>NaN</td>\n",
       "      <td>NaN</td>\n",
       "      <td>NaN</td>\n",
       "      <td>NaN</td>\n",
       "      <td>NaN</td>\n",
       "      <td>NaN</td>\n",
       "    </tr>\n",
       "    <tr>\n",
       "      <th>4</th>\n",
       "      <td>[]</td>\n",
       "      <td>False</td>\n",
       "      <td>Jp_web_agency</td>\n",
       "      <td>None</td>\n",
       "      <td>[]</td>\n",
       "      <td>None</td>\n",
       "      <td>text</td>\n",
       "      <td>t2_7tw9syp3</td>\n",
       "      <td>False</td>\n",
       "      <td>False</td>\n",
       "      <td>...</td>\n",
       "      <td>NaN</td>\n",
       "      <td>NaN</td>\n",
       "      <td>NaN</td>\n",
       "      <td>NaN</td>\n",
       "      <td>NaN</td>\n",
       "      <td>NaN</td>\n",
       "      <td>NaN</td>\n",
       "      <td>NaN</td>\n",
       "      <td>NaN</td>\n",
       "      <td>NaN</td>\n",
       "    </tr>\n",
       "  </tbody>\n",
       "</table>\n",
       "<p>5 rows × 81 columns</p>\n",
       "</div>"
      ],
      "text/plain": [
       "  all_awardings  allow_live_comments          author author_flair_css_class  \\\n",
       "0            []                False        Yersenie                   None   \n",
       "1            []                False        hoe4hob1                   None   \n",
       "2            []                False  Pagliacci_Baby                   None   \n",
       "3            []                False   Jp_web_agency                   None   \n",
       "4            []                False   Jp_web_agency                   None   \n",
       "\n",
       "  author_flair_richtext author_flair_text author_flair_type author_fullname  \\\n",
       "0                    []              None              text     t2_9jnd5n8o   \n",
       "1                    []              None              text     t2_8wg687lh   \n",
       "2                    []              None              text     t2_7d3owwgj   \n",
       "3                    []              None              text     t2_7tw9syp3   \n",
       "4                    []              None              text     t2_7tw9syp3   \n",
       "\n",
       "  author_patreon_flair author_premium  ... distinguished  media  media_embed  \\\n",
       "0                False          False  ...           NaN    NaN          NaN   \n",
       "1                False          False  ...           NaN    NaN          NaN   \n",
       "2                False          False  ...           NaN    NaN          NaN   \n",
       "3                False          False  ...           NaN    NaN          NaN   \n",
       "4                False          False  ...           NaN    NaN          NaN   \n",
       "\n",
       "   secure_media secure_media_embed author_flair_background_color edited  \\\n",
       "0           NaN                NaN                           NaN    NaN   \n",
       "1           NaN                NaN                           NaN    NaN   \n",
       "2           NaN                NaN                           NaN    NaN   \n",
       "3           NaN                NaN                           NaN    NaN   \n",
       "4           NaN                NaN                           NaN    NaN   \n",
       "\n",
       "  banned_by  is_created_from_ads_ui  author_is_blocked  \n",
       "0       NaN                     NaN                NaN  \n",
       "1       NaN                     NaN                NaN  \n",
       "2       NaN                     NaN                NaN  \n",
       "3       NaN                     NaN                NaN  \n",
       "4       NaN                     NaN                NaN  \n",
       "\n",
       "[5 rows x 81 columns]"
      ]
     },
     "execution_count": 12,
     "metadata": {},
     "output_type": "execute_result"
    }
   ],
   "source": [
    "submissions_df.head()"
   ]
  },
  {
   "cell_type": "code",
   "execution_count": 13,
   "id": "967cd108-ec8d-4e45-a116-b843fb200f1c",
   "metadata": {},
   "outputs": [],
   "source": [
    "submissions_df.to_csv('../../data/original//writing_submissions.csv', header=True, index=False, columns=list(submissions_df.axes[1]))"
   ]
  },
  {
   "cell_type": "code",
   "execution_count": 14,
   "id": "d9534311-1c49-42ba-819d-fd88add4319d",
   "metadata": {},
   "outputs": [
    {
     "data": {
      "text/plain": [
       "(3000, 81)"
      ]
     },
     "execution_count": 14,
     "metadata": {},
     "output_type": "execute_result"
    }
   ],
   "source": [
    "submissions_df.shape"
   ]
  },
  {
   "cell_type": "code",
   "execution_count": null,
   "id": "7b4002b1-b3ab-4c36-a56e-82dbd3b87366",
   "metadata": {},
   "outputs": [],
   "source": []
  }
 ],
 "metadata": {
  "kernelspec": {
   "display_name": "Python [conda env:nlp]",
   "language": "python",
   "name": "conda-env-nlp-py"
  },
  "language_info": {
   "codemirror_mode": {
    "name": "ipython",
    "version": 3
   },
   "file_extension": ".py",
   "mimetype": "text/x-python",
   "name": "python",
   "nbconvert_exporter": "python",
   "pygments_lexer": "ipython3",
   "version": "3.8.11"
  }
 },
 "nbformat": 4,
 "nbformat_minor": 5
}
