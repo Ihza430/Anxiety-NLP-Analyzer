{
 "cells": [
  {
   "cell_type": "code",
   "execution_count": 1,
   "id": "33138da0-fd03-4ca3-aa5d-b82df730a245",
   "metadata": {},
   "outputs": [
    {
     "name": "stdout",
     "output_type": "stream",
     "text": [
      "anx_submissions.csv      writing_submissions.csv\n"
     ]
    }
   ],
   "source": [
    "ls ../data"
   ]
  },
  {
   "cell_type": "code",
   "execution_count": 86,
   "id": "ca5985bb-a75d-49cd-9111-57f94953f2ea",
   "metadata": {},
   "outputs": [],
   "source": [
    "import pandas as pd\n",
    "import numpy as np"
   ]
  },
  {
   "cell_type": "code",
   "execution_count": 87,
   "id": "c84da9f2-bf07-4736-8e1f-59899dea81e5",
   "metadata": {},
   "outputs": [],
   "source": [
    "def preprocess_submissions(dataframe, name):\n",
    "    columns = ['author', 'link_flair_text', 'num_comments', 'selftext', 'title', 'created_utc']\n",
    "    df = dataframe[columns]\n",
    "    df = df.replace(\"[removed]\", '')\n",
    "    df.fillna('', inplace=True)\n",
    "    text_columns = ['link_flair_text', 'title', 'selftext']\n",
    "    df['text'] = df[text_columns].apply(lambda r: ' '.join(r), axis=1)\n",
    "    df['clean_text']= df['text']\n",
    "    df['subreddit'] = name.title()\n",
    "    return df"
   ]
  },
  {
   "cell_type": "code",
   "execution_count": 88,
   "id": "f77562a0-10b4-4bc2-ae2a-760e42341191",
   "metadata": {},
   "outputs": [],
   "source": [
    "df_list = []\n",
    "names = ['anxiety', 'writing']\n",
    "for name in names:\n",
    "    df = pd.read_csv(f'../data/{name}_submissions.csv')\n",
    "    df_list.append(preprocess_submissions(df, name))\n",
    "    \n",
    "DF = pd.concat(df_list).drop_duplicates()\n",
    "\n",
    "path = f\"../data/{'_'.join(names)}.csv\"\n",
    "DF.to_csv(path, index=False)"
   ]
  },
  {
   "cell_type": "code",
   "execution_count": 89,
   "id": "b0a0d6d2-015b-43c8-b0b4-cae210ae9cac",
   "metadata": {},
   "outputs": [],
   "source": [
    "df = pd.read_csv('../data/anxiety_writing.csv')"
   ]
  },
  {
   "cell_type": "code",
   "execution_count": 90,
   "id": "fc6b14d4-36c1-4938-aee5-e225f0508e53",
   "metadata": {},
   "outputs": [
    {
     "data": {
      "text/plain": [
       "(6000, 9)"
      ]
     },
     "execution_count": 90,
     "metadata": {},
     "output_type": "execute_result"
    }
   ],
   "source": [
    "df.shape"
   ]
  },
  {
   "cell_type": "code",
   "execution_count": 91,
   "id": "6cbd7bfa-82c6-42e8-9c7e-6f513a93ebbe",
   "metadata": {},
   "outputs": [
    {
     "data": {
      "text/html": [
       "<div>\n",
       "<style scoped>\n",
       "    .dataframe tbody tr th:only-of-type {\n",
       "        vertical-align: middle;\n",
       "    }\n",
       "\n",
       "    .dataframe tbody tr th {\n",
       "        vertical-align: top;\n",
       "    }\n",
       "\n",
       "    .dataframe thead th {\n",
       "        text-align: right;\n",
       "    }\n",
       "</style>\n",
       "<table border=\"1\" class=\"dataframe\">\n",
       "  <thead>\n",
       "    <tr style=\"text-align: right;\">\n",
       "      <th></th>\n",
       "      <th>author</th>\n",
       "      <th>link_flair_text</th>\n",
       "      <th>num_comments</th>\n",
       "      <th>selftext</th>\n",
       "      <th>title</th>\n",
       "      <th>created_utc</th>\n",
       "      <th>text</th>\n",
       "      <th>clean_text</th>\n",
       "      <th>subreddit</th>\n",
       "    </tr>\n",
       "  </thead>\n",
       "  <tbody>\n",
       "    <tr>\n",
       "      <th>0</th>\n",
       "      <td>JackW357</td>\n",
       "      <td>DAE Questions</td>\n",
       "      <td>9</td>\n",
       "      <td>NaN</td>\n",
       "      <td>Anyone else scared of dying and scared of when...</td>\n",
       "      <td>1606687976</td>\n",
       "      <td>DAE Questions Anyone else scared of dying and ...</td>\n",
       "      <td>DAE Questions Anyone else scared of dying and ...</td>\n",
       "      <td>Anxiety</td>\n",
       "    </tr>\n",
       "    <tr>\n",
       "      <th>1</th>\n",
       "      <td>belladoll1021</td>\n",
       "      <td>Health</td>\n",
       "      <td>1</td>\n",
       "      <td>Can a tight throat and gagging feeling be anxi...</td>\n",
       "      <td>Tight throat</td>\n",
       "      <td>1606687615</td>\n",
       "      <td>Health Tight throat Can a tight throat and gag...</td>\n",
       "      <td>Health Tight throat Can a tight throat and gag...</td>\n",
       "      <td>Anxiety</td>\n",
       "    </tr>\n",
       "    <tr>\n",
       "      <th>2</th>\n",
       "      <td>ashwinderegg</td>\n",
       "      <td>Advice Needed</td>\n",
       "      <td>3</td>\n",
       "      <td>Does anyone else feel like they can no longer ...</td>\n",
       "      <td>Anxiety overriding my intuition.</td>\n",
       "      <td>1606687588</td>\n",
       "      <td>Advice Needed Anxiety overriding my intuition....</td>\n",
       "      <td>Advice Needed Anxiety overriding my intuition....</td>\n",
       "      <td>Anxiety</td>\n",
       "    </tr>\n",
       "    <tr>\n",
       "      <th>3</th>\n",
       "      <td>ashwinderegg</td>\n",
       "      <td>Advice Needed</td>\n",
       "      <td>7</td>\n",
       "      <td>Does anyone else feel like they can no longer ...</td>\n",
       "      <td>Anxiety overriding my intuition.</td>\n",
       "      <td>1606687588</td>\n",
       "      <td>Advice Needed Anxiety overriding my intuition....</td>\n",
       "      <td>Advice Needed Anxiety overriding my intuition....</td>\n",
       "      <td>Anxiety</td>\n",
       "    </tr>\n",
       "    <tr>\n",
       "      <th>4</th>\n",
       "      <td>lachapoxxx</td>\n",
       "      <td>Advice Needed</td>\n",
       "      <td>1</td>\n",
       "      <td>my anxiety has been going crazy this past week...</td>\n",
       "      <td>hey friends! i need some advice</td>\n",
       "      <td>1606687488</td>\n",
       "      <td>Advice Needed hey friends! i need some advice ...</td>\n",
       "      <td>Advice Needed hey friends! i need some advice ...</td>\n",
       "      <td>Anxiety</td>\n",
       "    </tr>\n",
       "  </tbody>\n",
       "</table>\n",
       "</div>"
      ],
      "text/plain": [
       "          author link_flair_text  num_comments  \\\n",
       "0       JackW357   DAE Questions             9   \n",
       "1  belladoll1021          Health             1   \n",
       "2   ashwinderegg   Advice Needed             3   \n",
       "3   ashwinderegg   Advice Needed             7   \n",
       "4     lachapoxxx   Advice Needed             1   \n",
       "\n",
       "                                            selftext  \\\n",
       "0                                                NaN   \n",
       "1  Can a tight throat and gagging feeling be anxi...   \n",
       "2  Does anyone else feel like they can no longer ...   \n",
       "3  Does anyone else feel like they can no longer ...   \n",
       "4  my anxiety has been going crazy this past week...   \n",
       "\n",
       "                                               title  created_utc  \\\n",
       "0  Anyone else scared of dying and scared of when...   1606687976   \n",
       "1                                       Tight throat   1606687615   \n",
       "2                   Anxiety overriding my intuition.   1606687588   \n",
       "3                   Anxiety overriding my intuition.   1606687588   \n",
       "4                    hey friends! i need some advice   1606687488   \n",
       "\n",
       "                                                text  \\\n",
       "0  DAE Questions Anyone else scared of dying and ...   \n",
       "1  Health Tight throat Can a tight throat and gag...   \n",
       "2  Advice Needed Anxiety overriding my intuition....   \n",
       "3  Advice Needed Anxiety overriding my intuition....   \n",
       "4  Advice Needed hey friends! i need some advice ...   \n",
       "\n",
       "                                          clean_text subreddit  \n",
       "0  DAE Questions Anyone else scared of dying and ...   Anxiety  \n",
       "1  Health Tight throat Can a tight throat and gag...   Anxiety  \n",
       "2  Advice Needed Anxiety overriding my intuition....   Anxiety  \n",
       "3  Advice Needed Anxiety overriding my intuition....   Anxiety  \n",
       "4  Advice Needed hey friends! i need some advice ...   Anxiety  "
      ]
     },
     "execution_count": 91,
     "metadata": {},
     "output_type": "execute_result"
    }
   ],
   "source": [
    "df.head()"
   ]
  },
  {
   "cell_type": "code",
   "execution_count": null,
   "id": "8c99965f-6dc4-4e65-8720-95eacc7b1b1a",
   "metadata": {},
   "outputs": [],
   "source": []
  }
 ],
 "metadata": {
  "kernelspec": {
   "display_name": "Python 3",
   "language": "python",
   "name": "python3"
  },
  "language_info": {
   "codemirror_mode": {
    "name": "ipython",
    "version": 3
   },
   "file_extension": ".py",
   "mimetype": "text/x-python",
   "name": "python",
   "nbconvert_exporter": "python",
   "pygments_lexer": "ipython3",
   "version": "3.8.8"
  }
 },
 "nbformat": 4,
 "nbformat_minor": 5
}
