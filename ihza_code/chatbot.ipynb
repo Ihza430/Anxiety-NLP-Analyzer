{
 "cells": [
  {
   "cell_type": "markdown",
   "id": "bac70510-50de-4d4a-9d99-0ff11e02c552",
   "metadata": {},
   "source": [
    "# Chatbot\n",
    "\n",
    "*Modified from https://data-flair.training/blogs/python-chatbot-project/*"
   ]
  },
  {
   "cell_type": "code",
   "execution_count": 3,
   "id": "a599c804-c35b-4cc5-b20f-1877a6940813",
   "metadata": {},
   "outputs": [],
   "source": [
    "import numpy as np\n",
    "from keras.models import Sequential\n",
    "from keras.layers import Dense, Activation, Dropout\n",
    "from tensorflow.keras.optimizers import SGD\n",
    "\n",
    "from nltk.stem import WordNetLemmatizer\n",
    "lemmatizer = WordNetLemmatizer()\n",
    "\n",
    "import json\n",
    "import pickle"
   ]
  },
  {
   "cell_type": "code",
   "execution_count": null,
   "id": "4fdfd292-9193-4f29-8284-8d0893e0d002",
   "metadata": {},
   "outputs": [],
   "source": []
  },
  {
   "cell_type": "code",
   "execution_count": null,
   "id": "02c0e9ab-7896-4190-8350-d24e1fa0d4ea",
   "metadata": {},
   "outputs": [],
   "source": []
  },
  {
   "cell_type": "code",
   "execution_count": null,
   "id": "c99e8bb6-7ef8-447a-8fab-e9b814b52518",
   "metadata": {},
   "outputs": [],
   "source": []
  },
  {
   "cell_type": "code",
   "execution_count": null,
   "id": "6165e72d-a65d-4a3f-9bbc-2bb9d2c240d7",
   "metadata": {},
   "outputs": [],
   "source": []
  },
  {
   "cell_type": "code",
   "execution_count": null,
   "id": "c289c110-7f81-44f5-8520-d70f2eed1121",
   "metadata": {},
   "outputs": [],
   "source": []
  },
  {
   "cell_type": "code",
   "execution_count": null,
   "id": "7fec3575-5585-43b0-9e89-d90dfb82b83f",
   "metadata": {},
   "outputs": [],
   "source": []
  },
  {
   "cell_type": "code",
   "execution_count": null,
   "id": "d180bf32-b434-48ed-884b-bff1187b490f",
   "metadata": {},
   "outputs": [],
   "source": []
  },
  {
   "cell_type": "code",
   "execution_count": null,
   "id": "3b8248a9-6130-4b70-b8c7-a859a17942ba",
   "metadata": {},
   "outputs": [],
   "source": []
  },
  {
   "cell_type": "code",
   "execution_count": null,
   "id": "3f16106e-a67c-417d-9545-60a25611acbc",
   "metadata": {},
   "outputs": [],
   "source": []
  },
  {
   "cell_type": "code",
   "execution_count": null,
   "id": "4c7436a2-5fcb-40bb-978d-8e174df67540",
   "metadata": {},
   "outputs": [],
   "source": []
  },
  {
   "cell_type": "code",
   "execution_count": null,
   "id": "27f903b9-46a2-4217-9bb5-98d6e97375a5",
   "metadata": {},
   "outputs": [],
   "source": []
  },
  {
   "cell_type": "code",
   "execution_count": null,
   "id": "26299a0f-77d6-4239-97e7-9cffd95cc6b4",
   "metadata": {},
   "outputs": [],
   "source": []
  },
  {
   "cell_type": "code",
   "execution_count": null,
   "id": "3a631050-ca64-4e0f-83ac-c6ba1e2f2728",
   "metadata": {},
   "outputs": [],
   "source": []
  }
 ],
 "metadata": {
  "kernelspec": {
   "display_name": "Python [conda env:ten]",
   "language": "python",
   "name": "conda-env-ten-py"
  },
  "language_info": {
   "codemirror_mode": {
    "name": "ipython",
    "version": 3
   },
   "file_extension": ".py",
   "mimetype": "text/x-python",
   "name": "python",
   "nbconvert_exporter": "python",
   "pygments_lexer": "ipython3",
   "version": "3.8.8"
  }
 },
 "nbformat": 4,
 "nbformat_minor": 5
}
