{
 "cells": [
  {
   "cell_type": "markdown",
   "id": "0a9a921b-6213-492c-a48d-973ef75bb2fc",
   "metadata": {},
   "source": [
    "# Sentiment Analysis\n",
    "---"
   ]
  },
  {
   "cell_type": "code",
   "execution_count": 1,
   "id": "25d4fb8e-f3d7-4b65-a13d-bb5d8a1fa6b0",
   "metadata": {},
   "outputs": [],
   "source": [
    "import warnings\n",
    "warnings.filterwarnings('ignore')\n",
    "\n",
    "import pandas as pd\n",
    "import numpy as np\n",
    "\n",
    "from nltk.sentiment.vader import SentimentIntensityAnalyzer"
   ]
  },
  {
   "cell_type": "code",
   "execution_count": 2,
   "id": "9c338927-80ea-4569-ac54-4363784b1cc1",
   "metadata": {},
   "outputs": [
    {
     "data": {
      "text/html": [
       "<div>\n",
       "<style scoped>\n",
       "    .dataframe tbody tr th:only-of-type {\n",
       "        vertical-align: middle;\n",
       "    }\n",
       "\n",
       "    .dataframe tbody tr th {\n",
       "        vertical-align: top;\n",
       "    }\n",
       "\n",
       "    .dataframe thead th {\n",
       "        text-align: right;\n",
       "    }\n",
       "</style>\n",
       "<table border=\"1\" class=\"dataframe\">\n",
       "  <thead>\n",
       "    <tr style=\"text-align: right;\">\n",
       "      <th></th>\n",
       "      <th>author</th>\n",
       "      <th>link_flair_text</th>\n",
       "      <th>num_comments</th>\n",
       "      <th>subreddit</th>\n",
       "      <th>created_utc</th>\n",
       "      <th>text</th>\n",
       "    </tr>\n",
       "  </thead>\n",
       "  <tbody>\n",
       "    <tr>\n",
       "      <th>0</th>\n",
       "      <td>JackW357</td>\n",
       "      <td>DAE Questions</td>\n",
       "      <td>9</td>\n",
       "      <td>Anxiety</td>\n",
       "      <td>1606687976</td>\n",
       "      <td>Anyone else scared of dying and scared of when...</td>\n",
       "    </tr>\n",
       "    <tr>\n",
       "      <th>1</th>\n",
       "      <td>belladoll1021</td>\n",
       "      <td>Health</td>\n",
       "      <td>1</td>\n",
       "      <td>Anxiety</td>\n",
       "      <td>1606687615</td>\n",
       "      <td>Tight throat Can a tight throat and gagging fe...</td>\n",
       "    </tr>\n",
       "    <tr>\n",
       "      <th>2</th>\n",
       "      <td>ashwinderegg</td>\n",
       "      <td>Advice Needed</td>\n",
       "      <td>3</td>\n",
       "      <td>Anxiety</td>\n",
       "      <td>1606687588</td>\n",
       "      <td>Anxiety overriding my intuition. Does anyone e...</td>\n",
       "    </tr>\n",
       "    <tr>\n",
       "      <th>3</th>\n",
       "      <td>ashwinderegg</td>\n",
       "      <td>Advice Needed</td>\n",
       "      <td>7</td>\n",
       "      <td>Anxiety</td>\n",
       "      <td>1606687588</td>\n",
       "      <td>Anxiety overriding my intuition. Does anyone e...</td>\n",
       "    </tr>\n",
       "    <tr>\n",
       "      <th>4</th>\n",
       "      <td>lachapoxxx</td>\n",
       "      <td>Advice Needed</td>\n",
       "      <td>1</td>\n",
       "      <td>Anxiety</td>\n",
       "      <td>1606687488</td>\n",
       "      <td>hey friends! i need some advice my anxiety has...</td>\n",
       "    </tr>\n",
       "  </tbody>\n",
       "</table>\n",
       "</div>"
      ],
      "text/plain": [
       "          author link_flair_text  num_comments subreddit  created_utc  \\\n",
       "0       JackW357   DAE Questions             9   Anxiety   1606687976   \n",
       "1  belladoll1021          Health             1   Anxiety   1606687615   \n",
       "2   ashwinderegg   Advice Needed             3   Anxiety   1606687588   \n",
       "3   ashwinderegg   Advice Needed             7   Anxiety   1606687588   \n",
       "4     lachapoxxx   Advice Needed             1   Anxiety   1606687488   \n",
       "\n",
       "                                                text  \n",
       "0  Anyone else scared of dying and scared of when...  \n",
       "1  Tight throat Can a tight throat and gagging fe...  \n",
       "2  Anxiety overriding my intuition. Does anyone e...  \n",
       "3  Anxiety overriding my intuition. Does anyone e...  \n",
       "4  hey friends! i need some advice my anxiety has...  "
      ]
     },
     "execution_count": 2,
     "metadata": {},
     "output_type": "execute_result"
    }
   ],
   "source": [
    "df = pd.read_csv('../../clean_datasets/anx_writing.csv').drop(columns = ['Unnamed: 0'], axis = 1)\n",
    "df.head()"
   ]
  },
  {
   "cell_type": "code",
   "execution_count": 3,
   "id": "8e814d23-1481-4b2a-8b97-7918555c0f26",
   "metadata": {},
   "outputs": [],
   "source": [
    "#Instantiate Sentiment Analyzer\n",
    "vader = SentimentIntensityAnalyzer()"
   ]
  },
  {
   "cell_type": "code",
   "execution_count": 5,
   "id": "33c643df-2f80-49a5-863f-ce0d4f9467a3",
   "metadata": {},
   "outputs": [],
   "source": [
    "#Create dictionary from coefficient csv file\n",
    "\n",
    "word = pd.read_csv('../word_1_gram.csv')\n",
    "word = dict(zip(word['Unnamed: 0'], word['coefficient']))\n",
    "#copied from https://cmdlinetips.com/2021/04/convert-two-column-values-from-pandas-dataframe-to-a-dictionary/"
   ]
  },
  {
   "cell_type": "code",
   "execution_count": 6,
   "id": "a4ec9b67-a2bf-4763-9594-1ee5ed461b7c",
   "metadata": {},
   "outputs": [],
   "source": [
    "#Update lexicon with coefficient dictionary\n",
    "vader.lexicon.update(word)"
   ]
  },
  {
   "cell_type": "code",
   "execution_count": 7,
   "id": "e7fa0c3a-9b45-40b8-bb8a-0d8344926da2",
   "metadata": {},
   "outputs": [],
   "source": [
    "#Create List of score for all the text\n",
    "score = [vader.polarity_scores(str(sent)) for sent in df['text']]"
   ]
  },
  {
   "cell_type": "code",
   "execution_count": 8,
   "id": "9444f65d-054c-4884-9d20-943e64277723",
   "metadata": {},
   "outputs": [],
   "source": [
    "#Get individual score into list\n",
    "negative_score = [sub['neg'] for sub in score]\n",
    "neutral_score = [sub['neu'] for sub in score]\n",
    "positive_score = [sub['pos'] for sub in score]\n",
    "compound_score = [sub['compound'] for sub in score]"
   ]
  },
  {
   "cell_type": "code",
   "execution_count": 9,
   "id": "ade99bb7-c2e3-4be8-a045-651eef53b81d",
   "metadata": {},
   "outputs": [],
   "source": [
    "#Create new columns for ths scores\n",
    "df['negative_score'] = negative_score\n",
    "df['neutral_score'] = neutral_score\n",
    "df['positive_score'] = positive_score\n",
    "df['compound_score'] = compound_score"
   ]
  },
  {
   "cell_type": "code",
   "execution_count": 10,
   "id": "02813dec-9204-4a2d-9064-950a78b63135",
   "metadata": {},
   "outputs": [
    {
     "data": {
      "text/html": [
       "<div>\n",
       "<style scoped>\n",
       "    .dataframe tbody tr th:only-of-type {\n",
       "        vertical-align: middle;\n",
       "    }\n",
       "\n",
       "    .dataframe tbody tr th {\n",
       "        vertical-align: top;\n",
       "    }\n",
       "\n",
       "    .dataframe thead th {\n",
       "        text-align: right;\n",
       "    }\n",
       "</style>\n",
       "<table border=\"1\" class=\"dataframe\">\n",
       "  <thead>\n",
       "    <tr style=\"text-align: right;\">\n",
       "      <th></th>\n",
       "      <th>author</th>\n",
       "      <th>link_flair_text</th>\n",
       "      <th>num_comments</th>\n",
       "      <th>subreddit</th>\n",
       "      <th>created_utc</th>\n",
       "      <th>text</th>\n",
       "      <th>negative_score</th>\n",
       "      <th>neutral_score</th>\n",
       "      <th>positive_score</th>\n",
       "      <th>compound_score</th>\n",
       "    </tr>\n",
       "  </thead>\n",
       "  <tbody>\n",
       "    <tr>\n",
       "      <th>0</th>\n",
       "      <td>JackW357</td>\n",
       "      <td>DAE Questions</td>\n",
       "      <td>9</td>\n",
       "      <td>Anxiety</td>\n",
       "      <td>1606687976</td>\n",
       "      <td>Anyone else scared of dying and scared of when...</td>\n",
       "      <td>0.736</td>\n",
       "      <td>0.230</td>\n",
       "      <td>0.034</td>\n",
       "      <td>-0.9698</td>\n",
       "    </tr>\n",
       "    <tr>\n",
       "      <th>1</th>\n",
       "      <td>belladoll1021</td>\n",
       "      <td>Health</td>\n",
       "      <td>1</td>\n",
       "      <td>Anxiety</td>\n",
       "      <td>1606687615</td>\n",
       "      <td>Tight throat Can a tight throat and gagging fe...</td>\n",
       "      <td>0.831</td>\n",
       "      <td>0.169</td>\n",
       "      <td>0.000</td>\n",
       "      <td>-0.8942</td>\n",
       "    </tr>\n",
       "    <tr>\n",
       "      <th>2</th>\n",
       "      <td>ashwinderegg</td>\n",
       "      <td>Advice Needed</td>\n",
       "      <td>3</td>\n",
       "      <td>Anxiety</td>\n",
       "      <td>1606687588</td>\n",
       "      <td>Anxiety overriding my intuition. Does anyone e...</td>\n",
       "      <td>0.558</td>\n",
       "      <td>0.344</td>\n",
       "      <td>0.098</td>\n",
       "      <td>-0.9965</td>\n",
       "    </tr>\n",
       "  </tbody>\n",
       "</table>\n",
       "</div>"
      ],
      "text/plain": [
       "          author link_flair_text  num_comments subreddit  created_utc  \\\n",
       "0       JackW357   DAE Questions             9   Anxiety   1606687976   \n",
       "1  belladoll1021          Health             1   Anxiety   1606687615   \n",
       "2   ashwinderegg   Advice Needed             3   Anxiety   1606687588   \n",
       "\n",
       "                                                text  negative_score  \\\n",
       "0  Anyone else scared of dying and scared of when...           0.736   \n",
       "1  Tight throat Can a tight throat and gagging fe...           0.831   \n",
       "2  Anxiety overriding my intuition. Does anyone e...           0.558   \n",
       "\n",
       "   neutral_score  positive_score  compound_score  \n",
       "0          0.230           0.034         -0.9698  \n",
       "1          0.169           0.000         -0.8942  \n",
       "2          0.344           0.098         -0.9965  "
      ]
     },
     "execution_count": 10,
     "metadata": {},
     "output_type": "execute_result"
    }
   ],
   "source": [
    "df.head(3)"
   ]
  },
  {
   "cell_type": "code",
   "execution_count": 11,
   "id": "e61621c7-2e45-43f8-b998-de1f8910083d",
   "metadata": {},
   "outputs": [
    {
     "data": {
      "text/html": [
       "<div>\n",
       "<style scoped>\n",
       "    .dataframe tbody tr th:only-of-type {\n",
       "        vertical-align: middle;\n",
       "    }\n",
       "\n",
       "    .dataframe tbody tr th {\n",
       "        vertical-align: top;\n",
       "    }\n",
       "\n",
       "    .dataframe thead th {\n",
       "        text-align: right;\n",
       "    }\n",
       "</style>\n",
       "<table border=\"1\" class=\"dataframe\">\n",
       "  <thead>\n",
       "    <tr style=\"text-align: right;\">\n",
       "      <th></th>\n",
       "      <th>author</th>\n",
       "      <th>link_flair_text</th>\n",
       "      <th>num_comments</th>\n",
       "      <th>subreddit</th>\n",
       "      <th>created_utc</th>\n",
       "      <th>text</th>\n",
       "      <th>negative_score</th>\n",
       "      <th>neutral_score</th>\n",
       "      <th>positive_score</th>\n",
       "      <th>compound_score</th>\n",
       "    </tr>\n",
       "  </thead>\n",
       "  <tbody>\n",
       "    <tr>\n",
       "      <th>5997</th>\n",
       "      <td>Midget_Cowboy</td>\n",
       "      <td></td>\n",
       "      <td>30</td>\n",
       "      <td>writing</td>\n",
       "      <td>1631761085</td>\n",
       "      <td>Proper Time to Introduce the \"Big Incident\" So...</td>\n",
       "      <td>0.258</td>\n",
       "      <td>0.473</td>\n",
       "      <td>0.269</td>\n",
       "      <td>-0.0962</td>\n",
       "    </tr>\n",
       "    <tr>\n",
       "      <th>5998</th>\n",
       "      <td>throwaway5820175</td>\n",
       "      <td>Advice</td>\n",
       "      <td>5</td>\n",
       "      <td>writing</td>\n",
       "      <td>1631759726</td>\n",
       "      <td>Possible copyright issues? I'm wanting to writ...</td>\n",
       "      <td>0.187</td>\n",
       "      <td>0.301</td>\n",
       "      <td>0.511</td>\n",
       "      <td>0.9897</td>\n",
       "    </tr>\n",
       "    <tr>\n",
       "      <th>5999</th>\n",
       "      <td>Longjumping-Celery54</td>\n",
       "      <td>Other</td>\n",
       "      <td>1</td>\n",
       "      <td>writing</td>\n",
       "      <td>1604277033</td>\n",
       "      <td>A poem I wrote called \"Another World\" She wake...</td>\n",
       "      <td>0.291</td>\n",
       "      <td>0.453</td>\n",
       "      <td>0.256</td>\n",
       "      <td>-0.7892</td>\n",
       "    </tr>\n",
       "  </tbody>\n",
       "</table>\n",
       "</div>"
      ],
      "text/plain": [
       "                    author link_flair_text  num_comments subreddit  \\\n",
       "5997         Midget_Cowboy                            30   writing   \n",
       "5998      throwaway5820175          Advice             5   writing   \n",
       "5999  Longjumping-Celery54           Other             1   writing   \n",
       "\n",
       "      created_utc                                               text  \\\n",
       "5997   1631761085  Proper Time to Introduce the \"Big Incident\" So...   \n",
       "5998   1631759726  Possible copyright issues? I'm wanting to writ...   \n",
       "5999   1604277033  A poem I wrote called \"Another World\" She wake...   \n",
       "\n",
       "      negative_score  neutral_score  positive_score  compound_score  \n",
       "5997           0.258          0.473           0.269         -0.0962  \n",
       "5998           0.187          0.301           0.511          0.9897  \n",
       "5999           0.291          0.453           0.256         -0.7892  "
      ]
     },
     "execution_count": 11,
     "metadata": {},
     "output_type": "execute_result"
    }
   ],
   "source": [
    "df.tail(3)"
   ]
  },
  {
   "cell_type": "markdown",
   "id": "a0ab3b45-56c5-4203-83fc-3561d978ff89",
   "metadata": {},
   "source": [
    "## Save Dataframe with Scores"
   ]
  },
  {
   "cell_type": "code",
   "execution_count": 11,
   "id": "58c85691-9763-4ca6-82ba-dc07560ab251",
   "metadata": {},
   "outputs": [],
   "source": [
    "df.to_csv('./anx_writing_sentiment_scores.csv')"
   ]
  }
 ],
 "metadata": {
  "kernelspec": {
   "display_name": "Python [conda env:dsi] *",
   "language": "python",
   "name": "conda-env-dsi-py"
  },
  "language_info": {
   "codemirror_mode": {
    "name": "ipython",
    "version": 3
   },
   "file_extension": ".py",
   "mimetype": "text/x-python",
   "name": "python",
   "nbconvert_exporter": "python",
   "pygments_lexer": "ipython3",
   "version": "3.8.8"
  }
 },
 "nbformat": 4,
 "nbformat_minor": 5
}
