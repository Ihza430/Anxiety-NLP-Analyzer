{
 "cells": [
  {
   "cell_type": "markdown",
   "id": "2a455303-ac40-47fc-9deb-07b830228c69",
   "metadata": {},
   "source": [
    "# Logistic Regression\n",
    "---\n",
    "*By Ihza Gonzales*"
   ]
  },
  {
   "cell_type": "markdown",
   "id": "053d4372-98d4-4bdc-9f86-4cf6d63a8723",
   "metadata": {},
   "source": [
    "## Libraries Used"
   ]
  },
  {
   "cell_type": "code",
   "execution_count": 1,
   "id": "37918bb1-aaed-459a-8905-cd93048ad1f5",
   "metadata": {},
   "outputs": [],
   "source": [
    "import numpy as np\n",
    "import pandas as pd\n",
    "\n",
    "import seaborn as sns\n",
    "import matplotlib.pyplot as plt\n",
    "%matplotlib inline\n",
    "\n",
    "from nltk.stem import WordNetLemmatizer\n",
    "from nltk.corpus import stopwords\n",
    "import regex as re\n",
    "\n",
    "from sklearn.model_selection import train_test_split, GridSearchCV\n",
    "from sklearn.preprocessing import StandardScaler\n",
    "from sklearn.pipeline import Pipeline\n",
    "from sklearn.metrics import confusion_matrix, plot_confusion_matrix\n",
    "from sklearn.linear_model import LogisticRegression\n",
    "\n",
    "from sklearn.feature_extraction.text import CountVectorizer, TfidfVectorizer\n",
    "\n",
    "import pickle\n",
    "\n",
    "import warnings\n",
    "warnings.filterwarnings('ignore')"
   ]
  },
  {
   "cell_type": "markdown",
   "id": "ed555624-7252-4382-a3ee-40148813888a",
   "metadata": {},
   "source": [
    "## Functions Implmented"
   ]
  },
  {
   "cell_type": "code",
   "execution_count": 2,
   "id": "319e9bae-c809-4cc7-bfc2-dd500eb17eec",
   "metadata": {},
   "outputs": [],
   "source": [
    "#Function to define how a text is preprocessed for modeling\n",
    "def custom_preprocessor (text):\n",
    "    text = text.lower() #lowercases word\n",
    "    text = re.sub(r'[^\\w\\s]', '', text) #removes punctuation\n",
    "    text = re.sub(r'[0–9]', '', text) #removes any numbers\n",
    "    text = re.sub('(<.*?>)', '', text) #removed html\n",
    "    #copied from https://swatimeena989.medium.com/beginners-guide-for-preprocessing-text-data-f3156bec85ca\n",
    "    \n",
    "    lemmatizer = WordNetLemmatizer()\n",
    "    text = lemmatizer.lemmatize(text)\n",
    "    \n",
    "    return text\n",
    "\n",
    "#copied from https://www.studytonight.com/post/scikitlearn-countvectorizer-in-nlp"
   ]
  },
  {
   "cell_type": "code",
   "execution_count": 3,
   "id": "8da2ce77-f774-4e7f-ab23-badea357751c",
   "metadata": {},
   "outputs": [],
   "source": [
    "#Function for printing metrics and best parameters of models\n",
    "def model_metrics(model, X_train, X_test):\n",
    "    \n",
    "    print(f'Best Score: {model.best_score_}')\n",
    "    print(f'Best Parameters: {model.best_params_}')\n",
    "    print(f'Train Score: {model.score(X_train, y_train)}')\n",
    "    print(f'Test Score: {model.score(X_test, y_test)}')"
   ]
  },
  {
   "cell_type": "code",
   "execution_count": 4,
   "id": "397d63b3-d4eb-4fd0-b82f-3c5f67dc767d",
   "metadata": {},
   "outputs": [],
   "source": [
    "#Function for plotting confusion matrix\n",
    "def plot_matrix(model, X_test):\n",
    "    \n",
    "    preds = model.predict(X_test)\n",
    "    tn, fp, fn, tp = confusion_matrix(y_test, preds).ravel()\n",
    "    \n",
    "    fig, ax = plt.subplots(figsize=(7, 7))\n",
    "    \n",
    "    # View confusion matrix\n",
    "    plot_confusion_matrix(model, X_test, y_test, cmap = 'copper', values_format='d', ax = ax)\n",
    "    \n",
    "    # Labels, title and ticks\n",
    "    label_font = {'size':'15'}  # Adjust to fit\n",
    "    ax.set_xlabel('Predicted labels', fontdict=label_font);\n",
    "    ax.set_ylabel('Observed labels', fontdict=label_font);\n",
    "\n",
    "    title_font = {'size':'21'}  # Adjust to fit\n",
    "    ax.set_title('Confusion Matrix', fontdict=title_font);\n",
    "\n",
    "    ax.tick_params(axis='both', which='major', labelsize=12) \n",
    "    \n",
    "#Copied from https://stackoverflow.com/questions/59839782/confusion-matrix-font-size"
   ]
  },
  {
   "cell_type": "markdown",
   "id": "e016ec7e-6fad-487d-b418-0ec89c72c79c",
   "metadata": {},
   "source": [
    "## Data Import"
   ]
  },
  {
   "cell_type": "code",
   "execution_count": 5,
   "id": "e99cf39a-cafc-4f69-9eb9-661cd60fdf26",
   "metadata": {},
   "outputs": [],
   "source": [
    "df = pd.read_csv('../anx_writing.csv').drop(columns = ['Unnamed: 0'], axis = 1)"
   ]
  },
  {
   "cell_type": "code",
   "execution_count": 6,
   "id": "0e7d0e1c-10eb-42d8-8092-4e68971adeb3",
   "metadata": {},
   "outputs": [
    {
     "data": {
      "text/html": [
       "<div>\n",
       "<style scoped>\n",
       "    .dataframe tbody tr th:only-of-type {\n",
       "        vertical-align: middle;\n",
       "    }\n",
       "\n",
       "    .dataframe tbody tr th {\n",
       "        vertical-align: top;\n",
       "    }\n",
       "\n",
       "    .dataframe thead th {\n",
       "        text-align: right;\n",
       "    }\n",
       "</style>\n",
       "<table border=\"1\" class=\"dataframe\">\n",
       "  <thead>\n",
       "    <tr style=\"text-align: right;\">\n",
       "      <th></th>\n",
       "      <th>author</th>\n",
       "      <th>link_flair_text</th>\n",
       "      <th>num_comments</th>\n",
       "      <th>subreddit</th>\n",
       "      <th>created_utc</th>\n",
       "      <th>text</th>\n",
       "    </tr>\n",
       "  </thead>\n",
       "  <tbody>\n",
       "    <tr>\n",
       "      <th>0</th>\n",
       "      <td>JackW357</td>\n",
       "      <td>DAE Questions</td>\n",
       "      <td>9</td>\n",
       "      <td>Anxiety</td>\n",
       "      <td>1606687976</td>\n",
       "      <td>Anyone else scared of dying and scared of when...</td>\n",
       "    </tr>\n",
       "    <tr>\n",
       "      <th>1</th>\n",
       "      <td>belladoll1021</td>\n",
       "      <td>Health</td>\n",
       "      <td>1</td>\n",
       "      <td>Anxiety</td>\n",
       "      <td>1606687615</td>\n",
       "      <td>Tight throat Can a tight throat and gagging fe...</td>\n",
       "    </tr>\n",
       "    <tr>\n",
       "      <th>2</th>\n",
       "      <td>ashwinderegg</td>\n",
       "      <td>Advice Needed</td>\n",
       "      <td>3</td>\n",
       "      <td>Anxiety</td>\n",
       "      <td>1606687588</td>\n",
       "      <td>Anxiety overriding my intuition. Does anyone e...</td>\n",
       "    </tr>\n",
       "    <tr>\n",
       "      <th>3</th>\n",
       "      <td>ashwinderegg</td>\n",
       "      <td>Advice Needed</td>\n",
       "      <td>7</td>\n",
       "      <td>Anxiety</td>\n",
       "      <td>1606687588</td>\n",
       "      <td>Anxiety overriding my intuition. Does anyone e...</td>\n",
       "    </tr>\n",
       "    <tr>\n",
       "      <th>4</th>\n",
       "      <td>lachapoxxx</td>\n",
       "      <td>Advice Needed</td>\n",
       "      <td>1</td>\n",
       "      <td>Anxiety</td>\n",
       "      <td>1606687488</td>\n",
       "      <td>hey friends! i need some advice my anxiety has...</td>\n",
       "    </tr>\n",
       "  </tbody>\n",
       "</table>\n",
       "</div>"
      ],
      "text/plain": [
       "          author link_flair_text  num_comments subreddit  created_utc  \\\n",
       "0       JackW357   DAE Questions             9   Anxiety   1606687976   \n",
       "1  belladoll1021          Health             1   Anxiety   1606687615   \n",
       "2   ashwinderegg   Advice Needed             3   Anxiety   1606687588   \n",
       "3   ashwinderegg   Advice Needed             7   Anxiety   1606687588   \n",
       "4     lachapoxxx   Advice Needed             1   Anxiety   1606687488   \n",
       "\n",
       "                                                text  \n",
       "0  Anyone else scared of dying and scared of when...  \n",
       "1  Tight throat Can a tight throat and gagging fe...  \n",
       "2  Anxiety overriding my intuition. Does anyone e...  \n",
       "3  Anxiety overriding my intuition. Does anyone e...  \n",
       "4  hey friends! i need some advice my anxiety has...  "
      ]
     },
     "execution_count": 6,
     "metadata": {},
     "output_type": "execute_result"
    }
   ],
   "source": [
    "df.head()"
   ]
  },
  {
   "cell_type": "markdown",
   "id": "62e6dff1-58f1-4811-96de-cb5c12d70431",
   "metadata": {},
   "source": [
    "### Baseline Accuracy"
   ]
  },
  {
   "cell_type": "code",
   "execution_count": 7,
   "id": "785bad03-41c5-4da9-a704-61a5598f8196",
   "metadata": {},
   "outputs": [
    {
     "data": {
      "text/plain": [
       "Anxiety    0.5\n",
       "writing    0.5\n",
       "Name: subreddit, dtype: float64"
      ]
     },
     "execution_count": 7,
     "metadata": {},
     "output_type": "execute_result"
    }
   ],
   "source": [
    "df['subreddit'].value_counts(normalize = True)"
   ]
  },
  {
   "cell_type": "code",
   "execution_count": 8,
   "id": "a7500381-54cc-4946-99d3-ebaaefe451f5",
   "metadata": {},
   "outputs": [],
   "source": [
    "#Add to the list of stopwords\n",
    "stop = stopwords.words('english')\n",
    "\n",
    "#These words were chosen through eda and from a warning from previously running program\n",
    "new_words= ['writing','arent', 'couldnt', 'didnt', 'doesnt', 'dont', 'hadnt', 'hasnt', 'havent', 'isnt', 'mightnt', 'mustnt', 'neednt', 'shant', 'shes', 'shouldnt', 'shouldve', 'thatll', 'wasnt', 'werent', 'wont', 'wouldnt', 'youd', 'youll', 'youre', 'youve', 'im', 'doe', 'ha', 'wa']\n",
    "\n",
    "for i in new_words:\n",
    "    stop.append(i)\n",
    "\n",
    "#Copied from https://stackoverflow.com/questions/5511708/adding-words-to-nltk-stoplist"
   ]
  },
  {
   "cell_type": "code",
   "execution_count": 9,
   "id": "37a650ed-0485-4f08-930d-aadf8a5ad238",
   "metadata": {},
   "outputs": [],
   "source": [
    "# Turn subreddit column to anxiety and no anxiety\n",
    "df['subreddit'] = df['subreddit'].map({'Anxiety': 'Anxiety', 'writing': 'No Anxiety'})"
   ]
  },
  {
   "cell_type": "code",
   "execution_count": 10,
   "id": "d546920f-eb6c-4d21-856e-df4336da6432",
   "metadata": {},
   "outputs": [],
   "source": [
    "X = df['text']\n",
    "y = df['subreddit']"
   ]
  },
  {
   "cell_type": "code",
   "execution_count": 11,
   "id": "e92969a9-d5fe-4a44-a016-a4f0ebd69ce5",
   "metadata": {},
   "outputs": [],
   "source": [
    "X_train, X_test, y_train, y_test = train_test_split(X, y, random_state=42, train_size=0.7, stratify = y)"
   ]
  },
  {
   "cell_type": "markdown",
   "id": "73944311-925f-49e5-a524-ed880f3459ad",
   "metadata": {},
   "source": [
    "## Logistic Regression for Unigrams"
   ]
  },
  {
   "cell_type": "code",
   "execution_count": 12,
   "id": "8cc81dbc-1032-4c64-b27a-5af700db6dfb",
   "metadata": {},
   "outputs": [],
   "source": [
    "pipe = Pipeline([\n",
    "    ('tf', TfidfVectorizer(stop_words = stop, \n",
    "                           strip_accents = 'ascii', \n",
    "                           ngram_range = (1, 1),\n",
    "                           preprocessor = custom_preprocessor,\n",
    "                           min_df = 2,\n",
    "                           max_features = 50000)),\n",
    "    ('logr', LogisticRegression())\n",
    "])"
   ]
  },
  {
   "cell_type": "code",
   "execution_count": 13,
   "id": "ff4db372-82ad-4176-868f-16d2375e2098",
   "metadata": {},
   "outputs": [],
   "source": [
    "params = {\n",
    "    'logr__penalty':['l1', 'l2', 'elasticnet'],\n",
    "    'logr__solver': ['liblinear', 'sag', 'saga'],\n",
    "    'logr__max_iter': [1000, 2000, 3000],\n",
    "    'logr__C': [1, 2, 3]\n",
    "}\n",
    "\n",
    "grid = GridSearchCV(pipe, params, cv = 5, n_jobs = -1)"
   ]
  },
  {
   "cell_type": "code",
   "execution_count": 14,
   "id": "dda96b8d-da01-44cd-9dee-227a0feb7fc9",
   "metadata": {},
   "outputs": [
    {
     "data": {
      "text/plain": [
       "GridSearchCV(cv=5,\n",
       "             estimator=Pipeline(steps=[('tf',\n",
       "                                        TfidfVectorizer(max_features=50000,\n",
       "                                                        min_df=2,\n",
       "                                                        preprocessor=<function custom_preprocessor at 0x7f9418c7de50>,\n",
       "                                                        stop_words=['i', 'me',\n",
       "                                                                    'my',\n",
       "                                                                    'myself',\n",
       "                                                                    'we', 'our',\n",
       "                                                                    'ours',\n",
       "                                                                    'ourselves',\n",
       "                                                                    'you',\n",
       "                                                                    \"you're\",\n",
       "                                                                    \"you've\",\n",
       "                                                                    \"you'll\",\n",
       "                                                                    \"you'd\",\n",
       "                                                                    'your',\n",
       "                                                                    'yours',\n",
       "                                                                    'yourself',\n",
       "                                                                    'yourselves',\n",
       "                                                                    'he', 'him',\n",
       "                                                                    'his',\n",
       "                                                                    'himself',\n",
       "                                                                    'she',\n",
       "                                                                    \"she's\",\n",
       "                                                                    'her',\n",
       "                                                                    'hers',\n",
       "                                                                    'herself',\n",
       "                                                                    'it',\n",
       "                                                                    \"it's\",\n",
       "                                                                    'its',\n",
       "                                                                    'itself', ...],\n",
       "                                                        strip_accents='ascii')),\n",
       "                                       ('logr', LogisticRegression())]),\n",
       "             n_jobs=-1,\n",
       "             param_grid={'logr__C': [1, 2, 3],\n",
       "                         'logr__max_iter': [1000, 2000, 3000],\n",
       "                         'logr__penalty': ['l1', 'l2', 'elasticnet'],\n",
       "                         'logr__solver': ['liblinear', 'sag', 'saga']})"
      ]
     },
     "execution_count": 14,
     "metadata": {},
     "output_type": "execute_result"
    }
   ],
   "source": [
    "grid.fit(X_train, y_train)"
   ]
  },
  {
   "cell_type": "code",
   "execution_count": 15,
   "id": "b8ad525e-ab10-4a21-b920-a133c50cb558",
   "metadata": {},
   "outputs": [
    {
     "name": "stdout",
     "output_type": "stream",
     "text": [
      "Best Score: 0.9514285714285714\n",
      "Best Parameters: {'logr__C': 3, 'logr__max_iter': 1000, 'logr__penalty': 'l2', 'logr__solver': 'saga'}\n",
      "Train Score: 0.9921428571428571\n",
      "Test Score: 0.9483333333333334\n"
     ]
    }
   ],
   "source": [
    "model_metrics(grid, X_train, X_test)"
   ]
  },
  {
   "cell_type": "code",
   "execution_count": 16,
   "id": "405b3a8d-0477-4c02-889d-3bc20b7f604d",
   "metadata": {
    "tags": []
   },
   "outputs": [
    {
     "data": {
      "image/png": "[encoded data removed]",
      "text/plain": [
       "<Figure size 504x504 with 2 Axes>"
      ]
     },
     "metadata": {
      "needs_background": "light"
     },
     "output_type": "display_data"
    }
   ],
   "source": [
    "plot_matrix(grid, X_test)\n",
    "plt.title('Confusion Matrix for Logistic Regression 1-ngram', fontsize = 15);"
   ]
  },
  {
   "cell_type": "code",
   "execution_count": 17,
   "id": "a9059b31-4ad9-4cd9-ab94-15697f793f5d",
   "metadata": {},
   "outputs": [
    {
     "data": {
      "text/html": [
       "<div>\n",
       "<style scoped>\n",
       "    .dataframe tbody tr th:only-of-type {\n",
       "        vertical-align: middle;\n",
       "    }\n",
       "\n",
       "    .dataframe tbody tr th {\n",
       "        vertical-align: top;\n",
       "    }\n",
       "\n",
       "    .dataframe thead th {\n",
       "        text-align: right;\n",
       "    }\n",
       "</style>\n",
       "<table border=\"1\" class=\"dataframe\">\n",
       "  <thead>\n",
       "    <tr style=\"text-align: right;\">\n",
       "      <th></th>\n",
       "      <th>coefficient</th>\n",
       "    </tr>\n",
       "  </thead>\n",
       "  <tbody>\n",
       "    <tr>\n",
       "      <th>11</th>\n",
       "      <td>0.020297</td>\n",
       "    </tr>\n",
       "    <tr>\n",
       "      <th>112k</th>\n",
       "      <td>0.021028</td>\n",
       "    </tr>\n",
       "    <tr>\n",
       "      <th>115</th>\n",
       "      <td>-0.058847</td>\n",
       "    </tr>\n",
       "    <tr>\n",
       "      <th>116</th>\n",
       "      <td>-0.010447</td>\n",
       "    </tr>\n",
       "    <tr>\n",
       "      <th>11th</th>\n",
       "      <td>-0.139334</td>\n",
       "    </tr>\n",
       "  </tbody>\n",
       "</table>\n",
       "</div>"
      ],
      "text/plain": [
       "      coefficient\n",
       "11       0.020297\n",
       "112k     0.021028\n",
       "115     -0.058847\n",
       "116     -0.010447\n",
       "11th    -0.139334"
      ]
     },
     "execution_count": 17,
     "metadata": {},
     "output_type": "execute_result"
    }
   ],
   "source": [
    "tvec = grid.best_estimator_.named_steps['tf']\n",
    "log = grid.best_estimator_.named_steps['logr']\n",
    "#Copied from https://stackoverflow.com/questions/43856280/return-coefficients-from-pipeline-object-in-sklearn\n",
    "\n",
    "coef_df = pd.DataFrame(log.coef_, columns = tvec.get_feature_names()).T\n",
    "coef_df['coefficient'] = coef_df[0]\n",
    "coef_df.drop(columns = 0, inplace = True)\n",
    "coef_df.head()"
   ]
  },
  {
   "cell_type": "code",
   "execution_count": 18,
   "id": "a61a1cad-6a79-4a2b-9acf-7316dd54c2cc",
   "metadata": {},
   "outputs": [],
   "source": [
    "words_1_gram = coef_df.sort_values(by = 'coefficient')\n",
    "\n",
    "words_1_gram.to_csv('word_1_gram.csv')"
   ]
  },
  {
   "cell_type": "markdown",
   "id": "a88a708c-b5e4-4176-8daf-25353e2bdce2",
   "metadata": {},
   "source": [
    "### Saving Model"
   ]
  },
  {
   "cell_type": "code",
   "execution_count": 19,
   "id": "bb7374f3-8668-428e-8204-63fa91d2560a",
   "metadata": {},
   "outputs": [],
   "source": [
    "with open('./models/anxiety_log_1ngram.pkl', 'wb') as pickle_out:\n",
    "    pickle_out = pickle.dump(grid, pickle_out)"
   ]
  }
 ],
 "metadata": {
  "kernelspec": {
   "display_name": "Python [conda env:dsi] *",
   "language": "python",
   "name": "conda-env-dsi-py"
  },
  "language_info": {
   "codemirror_mode": {
    "name": "ipython",
    "version": 3
   },
   "file_extension": ".py",
   "mimetype": "text/x-python",
   "name": "python",
   "nbconvert_exporter": "python",
   "pygments_lexer": "ipython3",
   "version": "3.8.8"
  }
 },
 "nbformat": 4,
 "nbformat_minor": 5
}
