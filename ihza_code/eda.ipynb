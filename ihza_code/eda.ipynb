{
 "cells": [
  {
   "cell_type": "markdown",
   "id": "35d33d05-dfaf-4c39-82e1-48152209c979",
   "metadata": {},
   "source": [
    "# Exploratory Data Analysis"
   ]
  },
  {
   "cell_type": "code",
   "execution_count": 1,
   "id": "37b0e11b-57b9-4799-ac93-ae99735fb9ca",
   "metadata": {},
   "outputs": [],
   "source": [
    "import pandas as pd\n",
    "import numpy as np\n",
    "\n",
    "import seaborn as sns\n",
    "import matplotlib.pyplot as plt\n",
    "%matplotlib inline\n",
    "\n",
    "from sklearn.feature_extraction.text import CountVectorizer, TfidfVectorizer"
   ]
  },
  {
   "cell_type": "code",
   "execution_count": 3,
   "id": "6bd747f8-8e63-4e81-83a4-e9708a29edbe",
   "metadata": {},
   "outputs": [
    {
     "data": {
      "text/html": [
       "<div>\n",
       "<style scoped>\n",
       "    .dataframe tbody tr th:only-of-type {\n",
       "        vertical-align: middle;\n",
       "    }\n",
       "\n",
       "    .dataframe tbody tr th {\n",
       "        vertical-align: top;\n",
       "    }\n",
       "\n",
       "    .dataframe thead th {\n",
       "        text-align: right;\n",
       "    }\n",
       "</style>\n",
       "<table border=\"1\" class=\"dataframe\">\n",
       "  <thead>\n",
       "    <tr style=\"text-align: right;\">\n",
       "      <th></th>\n",
       "      <th>author</th>\n",
       "      <th>link_flair_text</th>\n",
       "      <th>num_comments</th>\n",
       "      <th>subreddit</th>\n",
       "      <th>created_utc</th>\n",
       "      <th>text</th>\n",
       "    </tr>\n",
       "  </thead>\n",
       "  <tbody>\n",
       "    <tr>\n",
       "      <th>0</th>\n",
       "      <td>JackW357</td>\n",
       "      <td>DAE Questions</td>\n",
       "      <td>9</td>\n",
       "      <td>Anxiety</td>\n",
       "      <td>1606687976</td>\n",
       "      <td>Anyone else scared of dying and scared of when...</td>\n",
       "    </tr>\n",
       "    <tr>\n",
       "      <th>1</th>\n",
       "      <td>belladoll1021</td>\n",
       "      <td>Health</td>\n",
       "      <td>1</td>\n",
       "      <td>Anxiety</td>\n",
       "      <td>1606687615</td>\n",
       "      <td>Tight throat Can a tight throat and gagging fe...</td>\n",
       "    </tr>\n",
       "    <tr>\n",
       "      <th>2</th>\n",
       "      <td>ashwinderegg</td>\n",
       "      <td>Advice Needed</td>\n",
       "      <td>3</td>\n",
       "      <td>Anxiety</td>\n",
       "      <td>1606687588</td>\n",
       "      <td>Anxiety overriding my intuition. Does anyone e...</td>\n",
       "    </tr>\n",
       "    <tr>\n",
       "      <th>3</th>\n",
       "      <td>ashwinderegg</td>\n",
       "      <td>Advice Needed</td>\n",
       "      <td>7</td>\n",
       "      <td>Anxiety</td>\n",
       "      <td>1606687588</td>\n",
       "      <td>Anxiety overriding my intuition. Does anyone e...</td>\n",
       "    </tr>\n",
       "    <tr>\n",
       "      <th>4</th>\n",
       "      <td>lachapoxxx</td>\n",
       "      <td>Advice Needed</td>\n",
       "      <td>1</td>\n",
       "      <td>Anxiety</td>\n",
       "      <td>1606687488</td>\n",
       "      <td>hey friends! i need some advice my anxiety has...</td>\n",
       "    </tr>\n",
       "  </tbody>\n",
       "</table>\n",
       "</div>"
      ],
      "text/plain": [
       "          author link_flair_text  num_comments subreddit  created_utc  \\\n",
       "0       JackW357   DAE Questions             9   Anxiety   1606687976   \n",
       "1  belladoll1021          Health             1   Anxiety   1606687615   \n",
       "2   ashwinderegg   Advice Needed             3   Anxiety   1606687588   \n",
       "3   ashwinderegg   Advice Needed             7   Anxiety   1606687588   \n",
       "4     lachapoxxx   Advice Needed             1   Anxiety   1606687488   \n",
       "\n",
       "                                                text  \n",
       "0  Anyone else scared of dying and scared of when...  \n",
       "1  Tight throat Can a tight throat and gagging fe...  \n",
       "2  Anxiety overriding my intuition. Does anyone e...  \n",
       "3  Anxiety overriding my intuition. Does anyone e...  \n",
       "4  hey friends! i need some advice my anxiety has...  "
      ]
     },
     "execution_count": 3,
     "metadata": {},
     "output_type": "execute_result"
    }
   ],
   "source": [
    "df = pd.read_csv('../anx_writing.csv').drop(['Unnamed: 0'],axis=1)\n",
    "df.head()"
   ]
  },
  {
   "cell_type": "code",
   "execution_count": null,
   "id": "1b479805-49c0-4842-a44c-e56ccf8db591",
   "metadata": {},
   "outputs": [],
   "source": []
  },
  {
   "cell_type": "code",
   "execution_count": null,
   "id": "80f3edc3-1d80-43ec-b692-a5e122e3469e",
   "metadata": {},
   "outputs": [],
   "source": []
  },
  {
   "cell_type": "code",
   "execution_count": null,
   "id": "c8483de5-294b-4e72-b882-15fc314eb2d8",
   "metadata": {},
   "outputs": [],
   "source": []
  },
  {
   "cell_type": "code",
   "execution_count": null,
   "id": "5ef4cb75-fdbf-45c3-b399-35b6dc1cbced",
   "metadata": {},
   "outputs": [],
   "source": []
  },
  {
   "cell_type": "code",
   "execution_count": null,
   "id": "e26f4741-6e64-4c18-a767-7bca610bea2a",
   "metadata": {},
   "outputs": [],
   "source": []
  },
  {
   "cell_type": "code",
   "execution_count": null,
   "id": "677c2a77-88c0-486e-8055-528d87f52c6d",
   "metadata": {},
   "outputs": [],
   "source": []
  },
  {
   "cell_type": "code",
   "execution_count": null,
   "id": "c6a5c9fb-960f-4bb7-8901-e6890fbca6c7",
   "metadata": {},
   "outputs": [],
   "source": []
  }
 ],
 "metadata": {
  "kernelspec": {
   "display_name": "Python [conda env:dsi] *",
   "language": "python",
   "name": "conda-env-dsi-py"
  },
  "language_info": {
   "codemirror_mode": {
    "name": "ipython",
    "version": 3
   },
   "file_extension": ".py",
   "mimetype": "text/x-python",
   "name": "python",
   "nbconvert_exporter": "python",
   "pygments_lexer": "ipython3",
   "version": "3.8.8"
  }
 },
 "nbformat": 4,
 "nbformat_minor": 5
}
