{
 "cells": [
  {
   "cell_type": "code",
   "execution_count": null,
   "id": "f994375f-dd01-44e3-9c72-a5a559b0f068",
   "metadata": {},
   "outputs": [],
   "source": [
    "#decide sentiment as positive, negative and neutral\n",
    "if sentiment_dict['compound'] >= -0.75 :\n",
    "    print(\"Severe Anxiety\")\n",
    "\n",
    "elif sentiment_dict['compound'] <= - 0.25 :\n",
    "    print(\"Moderate Anxiety\")\n",
    "\n",
    "elif sentiment_dict['compound'] <= - 0.00 :\n",
    "    print(\"Slight Anxiety\")\n",
    "    \n",
    "elif sentiment_dict['compound'] <= 0.05 :\n",
    "    print(\"Neutral\")"
   ]
  },
  {
   "cell_type": "code",
   "execution_count": null,
   "id": "0f29c444-4f9e-4100-9835-e73dd21e4951",
   "metadata": {},
   "outputs": [],
   "source": [
    "def vader_analysis(compound):\n",
    "    if compound >= 0.5:\n",
    "        return 'Positive'\n",
    "    elif compound <= -0.5 :\n",
    "        return 'Negative'\n",
    "    else:\n",
    "        return 'Neutral'\n",
    "fin_data['Vader Analysis'] = fin_data['Vader Sentiment'].apply(vader_analysis)\n",
    "fin_data.head()\n",
    "\n",
    "# Copied From https://www.analyticsvidhya.com/blog/2021/06/rule-based-sentiment-analysis-in-python/"
   ]
  }
 ],
 "metadata": {
  "kernelspec": {
   "display_name": "Python [conda env:dsi] *",
   "language": "python",
   "name": "conda-env-dsi-py"
  },
  "language_info": {
   "codemirror_mode": {
    "name": "ipython",
    "version": 3
   },
   "file_extension": ".py",
   "mimetype": "text/x-python",
   "name": "python",
   "nbconvert_exporter": "python",
   "pygments_lexer": "ipython3",
   "version": "3.8.8"
  }
 },
 "nbformat": 4,
 "nbformat_minor": 5
}
