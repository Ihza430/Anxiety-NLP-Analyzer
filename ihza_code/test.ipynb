{
 "cells": [
  {
   "cell_type": "code",
   "execution_count": 1,
   "id": "b5ccb920-ac4a-413a-810c-3508af118480",
   "metadata": {},
   "outputs": [],
   "source": [
    "import numpy as np\n",
    "import pickle"
   ]
  },
  {
   "cell_type": "code",
   "execution_count": null,
   "id": "e7f3cfb1-91c0-49e6-9876-9f88bc246a27",
   "metadata": {},
   "outputs": [],
   "source": [
    "\n",
    "# path difference b/c solution code\n",
    "with open('../models/anxiety_log.pkl', 'rb') as pickle_in:\n",
    "    model = pickle.load(pickle_in)"
   ]
  },
  {
   "cell_type": "code",
   "execution_count": null,
   "id": "9459509f-1d93-435f-b1ee-0c49abda7027",
   "metadata": {},
   "outputs": [],
   "source": []
  },
  {
   "cell_type": "code",
   "execution_count": null,
   "id": "8f275f6e-a063-4af2-9075-18a50d95ea65",
   "metadata": {},
   "outputs": [],
   "source": [
    "model.predict([\"It is a truth universally acknowledged, that a single man in possession of a good fortune, must be in want of a wife\"])"
   ]
  },
  {
   "cell_type": "code",
   "execution_count": null,
   "id": "265c06c6-b93c-4d80-854c-f3d06511e427",
   "metadata": {},
   "outputs": [],
   "source": []
  },
  {
   "cell_type": "code",
   "execution_count": null,
   "id": "9cf962d1-e063-41a8-a8b2-51d11bedd607",
   "metadata": {},
   "outputs": [],
   "source": [
    "user_text = input('Enter some text:')"
   ]
  },
  {
   "cell_type": "code",
   "execution_count": null,
   "id": "307a21f5-c8b5-4bed-bdfe-f5c8a0a2b4f0",
   "metadata": {},
   "outputs": [],
   "source": []
  },
  {
   "cell_type": "code",
   "execution_count": null,
   "id": "1b5d493c-2e3e-4fde-a387-413806df9b08",
   "metadata": {},
   "outputs": [],
   "source": [
    "print(user_text)"
   ]
  },
  {
   "cell_type": "code",
   "execution_count": null,
   "id": "2031b2fa-5833-44fb-84ef-6231ceb1126a",
   "metadata": {},
   "outputs": [],
   "source": [
    "user_text = input('Enter some text:')\n",
    "prediction = model.predict([user_text])[0]\n",
    "print(f'You write like: {prediction}')"
   ]
  }
 ],
 "metadata": {
  "kernelspec": {
   "display_name": "Python [conda env:dsi] *",
   "language": "python",
   "name": "conda-env-dsi-py"
  },
  "language_info": {
   "codemirror_mode": {
    "name": "ipython",
    "version": 3
   },
   "file_extension": ".py",
   "mimetype": "text/x-python",
   "name": "python",
   "nbconvert_exporter": "python",
   "pygments_lexer": "ipython3",
   "version": "3.8.8"
  }
 },
 "nbformat": 4,
 "nbformat_minor": 5
}
