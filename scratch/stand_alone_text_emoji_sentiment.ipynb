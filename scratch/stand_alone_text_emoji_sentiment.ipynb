{
 "cells": [
  {
   "cell_type": "code",
   "execution_count": 14,
   "id": "58bfdd2b-a756-46b1-9fa7-245ab918108c",
   "metadata": {},
   "outputs": [
    {
     "data": {
      "text/plain": [
       "{'neg': 1.202, 'neu': 0.64, 'pos': 1.158, 'compound': -0.33520000000000005}"
      ]
     },
     "execution_count": 14,
     "metadata": {},
     "output_type": "execute_result"
    }
   ],
   "source": [
    "from emoji_sentiment_tools import get_sentiment_score\n",
    "\n",
    "get_sentiment_score('hello :) 😕 😕')"
   ]
  },
  {
   "cell_type": "code",
   "execution_count": 13,
   "id": "6bb6e08a-46c2-4f0d-9883-3859b842b720",
   "metadata": {},
   "outputs": [],
   "source": [
    "# %load emoji_sentiment_tools.py\n",
    "running_in_drive = False\n",
    "\n",
    "import pandas as pd\n",
    "import emoji\n",
    "import functools\n",
    "import operator\n",
    "import re\n",
    "from nltk.sentiment.vader import SentimentIntensityAnalyzer\n",
    "\n",
    "analyzer=SentimentIntensityAnalyzer()\n",
    "\n",
    "\n",
    "\n",
    "def extract_emojis(s):\n",
    "    \"\"\"\n",
    "    Extracts emojis from text.\n",
    "    \"\"\"\n",
    "    return ''.join(c for c in s if c in emoji.UNICODE_EMOJI['en'])\n",
    "\n",
    "\n",
    "def separate_emojis(em):\n",
    "    \"\"\"\n",
    "    Separates emojis from each other.\n",
    "    # https://stackoverflow.com/questions/49921720/how-to-split-emoji-from-each-other-python\n",
    "    \"\"\"\n",
    "    em_split_emoji = emoji.get_emoji_regexp().split(em)\n",
    "    em_split_whitespace = [substr.split() for substr in em_split_emoji]\n",
    "    em_split = functools.reduce(operator.concat, em_split_whitespace)\n",
    "    return ' '.join(em_split)\n",
    "\n",
    "\n",
    "def get_emoji_scores(emtext, emoji_dict): \n",
    "    items = emtext.split()\n",
    "\n",
    "    default = {'pos': 0, 'neu': 0, 'neg': 0, 'compound': 0}\n",
    "    out = {'pos': 0, 'neu': 0, 'neg': 0, 'compound': 0}\n",
    "    not_found = []\n",
    "    for item in items:\n",
    "        values = emoji_dict.get(item, default)\n",
    "        if values == default:\n",
    "            if item not in not_found:  \n",
    "                t = emoji.demojize(item)\n",
    "                text = t.replace('_', ' ').replace(':', '')\n",
    "                values = analyzer.polarity_scores(text)\n",
    "                print(item, text, values['compound'])\n",
    "                not_found.append(item)  \n",
    "        for k in default.keys():\n",
    "            out[k] +=values[k]\n",
    "    return out\n",
    "\n",
    "\n",
    "def get_emoji_dict():\n",
    "    emojis_path = '../data/emoji_scores.csv'\n",
    "    if running_in_drive:\n",
    "        emojis_path = '/content/drive/MyDrive/GA/data/emoji_scores.csv'\n",
    "\n",
    "\n",
    "    df = pd.read_csv(emojis_path)\n",
    "\n",
    "    out = df[['emoji', 'neg', 'neu', 'pos', 'compound']]\n",
    "    out.set_index('emoji', inplace=True)\n",
    "    emoji_dict = out.to_dict(orient='index')\n",
    "    return emoji_dict\n",
    "\n",
    "\n",
    "\n",
    "def get_sentiment_score(text):\n",
    "    emoji_dict = get_emoji_dict()\n",
    "    analyzer.lexicon.update(emoji_dict)\n",
    "    vs = analyzer.polarity_scores(text)\n",
    "    emtext = separate_emojis(extract_emojis(text))\n",
    "    vs_em = get_emoji_scores(emtext, emoji_dict)\n",
    "    \n",
    "    for k, v in vs.items():\n",
    "        vs[k] += vs_em[k]\n",
    "\n",
    "    return vs\n",
    "\n"
   ]
  },
  {
   "cell_type": "code",
   "execution_count": null,
   "id": "290b3b1d-946f-457a-9188-e8b8c7d263d7",
   "metadata": {},
   "outputs": [],
   "source": []
  }
 ],
 "metadata": {
  "kernelspec": {
   "display_name": "Python 3",
   "language": "python",
   "name": "python3"
  },
  "language_info": {
   "codemirror_mode": {
    "name": "ipython",
    "version": 3
   },
   "file_extension": ".py",
   "mimetype": "text/x-python",
   "name": "python",
   "nbconvert_exporter": "python",
   "pygments_lexer": "ipython3",
   "version": "3.8.11"
  }
 },
 "nbformat": 4,
 "nbformat_minor": 5
}
